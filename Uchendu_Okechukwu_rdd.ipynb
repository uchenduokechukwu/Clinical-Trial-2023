{
 "cells": [
  {
   "cell_type": "code",
   "execution_count": 0,
   "metadata": {
    "application/vnd.databricks.v1+cell": {
     "cellMetadata": {
      "byteLimit": 2048000,
      "rowLimit": 10000
     },
     "inputWidgets": {},
     "nuid": "bf062f33-a38c-4156-8aee-0f380e2f0e7f",
     "showTitle": false,
     "title": ""
    }
   },
   "outputs": [],
   "source": [
    "#Copying the csv file\n",
    "fileroot = 'clinicaltrial_2023'\n",
    "pharmroot = 'pharma'"
   ]
  },
  {
   "cell_type": "code",
   "execution_count": 0,
   "metadata": {
    "application/vnd.databricks.v1+cell": {
     "cellMetadata": {
      "byteLimit": 2048000,
      "rowLimit": 10000
     },
     "inputWidgets": {},
     "nuid": "f592b354-111a-4e9e-ac72-65cabf271f4f",
     "showTitle": false,
     "title": ""
    }
   },
   "outputs": [
    {
     "output_type": "execute_result",
     "data": {
      "text/plain": [
       "True"
      ]
     },
     "execution_count": 2,
     "metadata": {},
     "output_type": "execute_result"
    }
   ],
   "source": [
    "dbutils.fs.cp('FileStore/tables/' +fileroot + '.zip', 'file:/tmp/')\n",
    "dbutils.fs.cp('FileStore/tables/' +pharmroot + '.zip', 'file:/tmp/')"
   ]
  },
  {
   "cell_type": "code",
   "execution_count": 0,
   "metadata": {
    "application/vnd.databricks.v1+cell": {
     "cellMetadata": {
      "byteLimit": 2048000,
      "rowLimit": 10000
     },
     "inputWidgets": {},
     "nuid": "420a3b11-ffa0-4758-b432-1e12396ef395",
     "showTitle": false,
     "title": ""
    }
   },
   "outputs": [],
   "source": [
    "import os\n",
    "os.environ['fileroot'] = fileroot\n",
    "os.environ['pharmroot'] = pharmroot"
   ]
  },
  {
   "cell_type": "code",
   "execution_count": 0,
   "metadata": {
    "application/vnd.databricks.v1+cell": {
     "cellMetadata": {
      "byteLimit": 2048000,
      "rowLimit": 10000
     },
     "inputWidgets": {},
     "nuid": "4eef111e-22fe-48c2-9014-f90cf503eb95",
     "showTitle": false,
     "title": ""
    }
   },
   "outputs": [
    {
     "output_type": "stream",
     "name": "stdout",
     "output_type": "stream",
     "text": [
      "Archive:  /tmp/clinicaltrial_2023.zip\n  inflating: /tmp/clinicaltrial_2023.csv  \nArchive:  /tmp/pharma.zip\n  inflating: /tmp/pharma.csv         \n"
     ]
    }
   ],
   "source": [
    "%sh   #unzipping zipped file\n",
    "unzip -o -d /tmp /tmp/$fileroot.zip\n",
    "unzip -o -d /tmp /tmp/$pharmroot.zip"
   ]
  },
  {
   "cell_type": "code",
   "execution_count": 0,
   "metadata": {
    "application/vnd.databricks.v1+cell": {
     "cellMetadata": {
      "byteLimit": 2048000,
      "rowLimit": 10000
     },
     "inputWidgets": {},
     "nuid": "a22f8870-c742-4f0a-bf3f-449291957f9c",
     "showTitle": false,
     "title": ""
    }
   },
   "outputs": [
    {
     "output_type": "execute_result",
     "data": {
      "text/plain": [
       "True"
      ]
     },
     "execution_count": 5,
     "metadata": {},
     "output_type": "execute_result"
    }
   ],
   "source": [
    "#Making a directory and moving the unzipped file into the directory\n",
    "dbutils.fs.mkdirs('FileStore/tables/' + fileroot + '.csv')\n",
    "dbutils.fs.mv('file:/tmp/' + fileroot + '.csv', 'FileStore/tables/' + fileroot + '.csv', True)\n",
    "dbutils.fs.mkdirs('FileStore/tables/' + pharmroot + '.csv')\n",
    "dbutils.fs.mv('file:/tmp/' + pharmroot + '.csv', 'FileStore/tables/' + pharmroot + '.csv', True)"
   ]
  },
  {
   "cell_type": "code",
   "execution_count": 0,
   "metadata": {
    "application/vnd.databricks.v1+cell": {
     "cellMetadata": {
      "byteLimit": 2048000,
      "rowLimit": 10000
     },
     "inputWidgets": {},
     "nuid": "3e5483ba-636a-4cf2-88ef-91cb0501a1d2",
     "showTitle": false,
     "title": ""
    }
   },
   "outputs": [
    {
     "output_type": "execute_result",
     "data": {
      "text/plain": [
       "[FileInfo(path='dbfs:/FileStore/tables/clinicaltrial_2023.csv/clinicaltrial_2023.csv', name='clinicaltrial_2023.csv', size=292436366, modificationTime=1714602963000)]"
      ]
     },
     "execution_count": 6,
     "metadata": {},
     "output_type": "execute_result"
    }
   ],
   "source": [
    "dbutils.fs.ls('FileStore/tables/'+ fileroot + '.csv')"
   ]
  },
  {
   "cell_type": "code",
   "execution_count": 0,
   "metadata": {
    "application/vnd.databricks.v1+cell": {
     "cellMetadata": {
      "byteLimit": 2048000,
      "rowLimit": 10000
     },
     "inputWidgets": {},
     "nuid": "bef4ea08-f3cc-4cbc-8a30-706fcbac3646",
     "showTitle": false,
     "title": ""
    }
   },
   "outputs": [
    {
     "output_type": "execute_result",
     "data": {
      "text/plain": [
       "[FileInfo(path='dbfs:/FileStore/tables/pharma.csv/pharma.csv', name='pharma.csv', size=678999, modificationTime=1714602966000)]"
      ]
     },
     "execution_count": 7,
     "metadata": {},
     "output_type": "execute_result"
    }
   ],
   "source": [
    "dbutils.fs.ls('FileStore/tables/' + pharmroot + '.csv')"
   ]
  },
  {
   "cell_type": "code",
   "execution_count": 0,
   "metadata": {
    "application/vnd.databricks.v1+cell": {
     "cellMetadata": {
      "byteLimit": 2048000,
      "rowLimit": 10000
     },
     "inputWidgets": {},
     "nuid": "da804013-b779-4491-bb03-cd42998150b2",
     "showTitle": false,
     "title": ""
    }
   },
   "outputs": [
    {
     "output_type": "stream",
     "name": "stdout",
     "output_type": "stream",
     "text": [
      "[Truncated to first 65536 bytes]\n"
     ]
    },
    {
     "output_type": "execute_result",
     "data": {
      "text/plain": [
       "'\"Id\\tStudy Title\\tAcronym\\tStatus\\tConditions\\tInterventions\\tSponsor\\tCollaborators\\tEnrollment\\tFunder Type\\tType\\tStudy Design\\tStart\\tCompletion\",,,,,,,,,,,,,,,,,,,,,,,,,,,,,,,,,,,,,,,,,,,,,,,,,,,,,,,,,,,,,,,,,,,,,,,,,,,,,,,,,,,,,,,,,,,,,,,,,,,,,,,,,,,,,,,,,,,,,,,,,,,,,,,,,,,,,,,,,,,,,,,,,,,,,,,,,,,,,,,,,,,,,,,,,,,,,,,,,,,,,,,,,,,,,,,,,,,,,,,,,,,,,,,,,,\\r\\n\"NCT03630471\\tEffectiveness of a Problem-solving Intervention for Common Adolescent Mental Health Problems in India\\tPRIDE\\tCOMPLETED\\tMental Health Issue (E.G.\", Depression, Psychosis, Personality Disorder,\" Substance Abuse)\\tBEHAVIORAL: PRIDE \\'Step 1\\' problem-solving intervention|BEHAVIORAL: Enhanced usual care\\tSangath\\tHarvard Medical School (HMS and HSDM)|London School of Hygiene and Tropical Medicine\\t250.0\\tOTHER\\tINTERVENTIONAL\\tAllocation: RANDOMIZED|Intervention Model: PARALLEL|Masking: DOUBLE (INVESTIGATOR\",\" OUTCOMES_ASSESSOR)|Primary Purpose: TREATMENT\\t2018-08-20\\t2019-02-28\",,,,,,,,,,,,,,,,,,,,,,,,,,,,,,,,,,,,,,,,,,,,,,,,,,,,,,,,,,,,,,,,,,,,,,,,,,,,,,,,,,,,,,,,,,,,,,,,,,,,,,,,,,,,,,,,,,,,,,,,,,,,,,,,,,,,,,,,,,,,,,,,,,,,,,,,,,,,,,,,,,,,,,,,,,,,,,,,,,,,,,,,,,,,,,,,,,,,,,,,,,,,,\\r\\n\"NCT05992571\\tOral Ketone Monoester Supplementation and Resting-state Brain Connectivity\\t\\tRECRUITING\\tCerebrovascular Function|Cognition\\tOTHER: Placebo|DIETARY_SUPPLEMENT: β-OHB\\tMcMaster University\\tAlzheimer\\'s Society of Brant\", Haldimand Norfolk,\" Hamilton Halton\\t30.0\\tOTHER\\tINTERVENTIONAL\\tAllocation: RANDOMIZED|Intervention Model: CROSSOVER|Masking: TRIPLE (PARTICIPANT\", INVESTIGATOR,\" OUTCOMES_ASSESSOR)|Primary Purpose: BASIC_SCIENCE\\t2023-10-25\\t2024-08\",,,,,,,,,,,,,,,,,,,,,,,,,,,,,,,,,,,,,,,,,,,,,,,,,,,,,,,,,,,,,,,,,,,,,,,,,,,,,,,,,,,,,,,,,,,,,,,,,,,,,,,,,,,,,,,,,,,,,,,,,,,,,,,,,,,,,,,,,,,,,,,,,,,,,,,,,,,,,,,,,,,,,,,,,,,,,,,,,,,,,,,,,,,,,,,,,,,,,,,,,,,,,,\\r\\n\"NCT00237471\\tImpact of Tight Glycaemic Control in Acute Myocardial Infarction\\t\\tTERMINATED\\tMyocardial Infarct|Hyperglycemia\\tDRUG: Insulin (tight blood glucose control)\\tMelbourne Health\\tNational Health and Medical Research Council\",\" Australia|Bristol-Myers Squibb\\t40.0\\tOTHER\\tINTERVENTIONAL\\tAllocation: RANDOMIZED|Intervention Model: PARALLEL|Masking: NONE|Primary Purpose: TREATMENT\\t2005-10\\t2006-05\",,,,,,,,,,,,,,,,,,,,,,,,,,,,,,,,,,,,,,,,,,,,,,,,,,,,,,,,,,,,,,,,,,,,,,,,,,,,,,,,,,,,,,,,,,,,,,,,,,,,,,,,,,,,,,,,,,,,,,,,,,,,,,,,,,,,,,,,,,,,,,,,,,,,,,,,,,,,,,,,,,,,,,,,,,,,,,,,,,,,,,,,,,,,,,,,,,,,,,,,,,,,,,,,,\\r\\n\"NCT03820271\\tNew Prognostic Predictive Models of Mortality of Decompensated Cirrhotic Patients Waiting for Liver Transplantation\\tSUPERMELD\\tRECRUITING\\tDecompensated Cirrhosis|Liver Transplantation\\tOTHER: SuperMELD\\tAssistance Publique - Hôpitaux de Paris\\t\\t500.0\\tOTHER\\tINTERVENTIONAL\\tAllocation: NA|Intervention Model: SINGLE_GROUP|Masking: NONE|Primary Purpose: OTHER\\t2020-10-01\\t2023-10-01\",,,,,,,,,,,,,,,,,,,,,,,,,,,,,,,,,,,,,,,,,,,,,,,,,,,,,,,,,,,,,,,,,,,,,,,,,,,,,,,,,,,,,,,,,,,,,,,,,,,,,,,,,,,,,,,,,,,,,,,,,,,,,,,,,,,,,,,,,,,,,,,,,,,,,,,,,,,,,,,,,,,,,,,,,,,,,,,,,,,,,,,,,,,,,,,,,,,,,,,,,,,,,,,,,,\\r\\n\"NCT06229171\\tInTake Care: Development and Validation of an Innovative\",\" Personalized Digital Health Solution for Medication Adherence Support in Cardiovascular Prevention\\tInTakeCare\\tNOT_YET_RECRUITING\\tHypertension|Treatment Adherence and Compliance|Digital Health\\tOTHER: adherence support system based on a vocal assistant\\tIstituto Auxologico Italiano\\tIstituti Clinici Scientifici Maugeri SpA|Politecnico di Milano\\t206.0\\tOTHER\\tINTERVENTIONAL\\tAllocation: RANDOMIZED|Intervention Model: PARALLEL|Masking: NONE|Primary Purpose: OTHER\\t2024-10-01\\t2026-04-01\",,,,,,,,,,,,,,,,,,,,,,,,,,,,,,,,,,,,,,,,,,,,,,,,,,,,,,,,,,,,,,,,,,,,,,,,,,,,,,,,,,,,,,,,,,,,,,,,,,,,,,,,,,,,,,,,,,,,,,,,,,,,,,,,,,,,,,,,,,,,,,,,,,,,,,,,,,,,,,,,,,,,,,,,,,,,,,,,,,,,,,,,,,,,,,,,,,,,,,,,,,,,,,,,,\\r\\n\"NCT02945371\\tTailored Inhibitory Control Training to Reverse EA-linked Deficits in Mid-life\\tREV\\tCOMPLETED\\tSmoking|Alcohol Drinking|Prescription Drug Abuse|Substance-Related Disorders|Oral Intake Reduced\\tBEHAVIORAL: Person-centered inhibitory control training|BEHAVIORAL: Active behavioral response training\\tUniversity of Oregon\\t\\t103.0\\tOTHER\\tINTERVENTIONAL\\tAllocation: RANDOMIZED|Intervention Model: PARALLEL|Masking: SINGLE (PARTICIPANT)|Primary Purpose: PREVENTION\\t2014-09\\t2016-05\",,,,,,,,,,,,,,,,,,,,,,,,,,,,,,,,,,,,,,,,,,,,,,,,,,,,,,,,,,,,,,,,,,,,,,,,,,,,,,,,,,,,,,,,,,,,,,,,,,,,,,,,,,,,,,,,,,,,,,,,,,,,,,,,,,,,,,,,,,,,,,,,,,,,,,,,,,,,,,,,,,,,,,,,,,,,,,,,,,,,,,,,,,,,,,,,,,,,,,,,,,,,,,,,,,\\r\\n\"NCT01055171\\tNeuromodulation of Trauma Memories in PTSD & Alcohol Dependence\\t\\tCOMPLETED\\tAlcohol Dependence|PTSD\\tDRUG: Propranolol|DRUG: Placebo\\tMedical University of South Carolina\\tNational Institute on Alcohol Abuse and Alcoholism (NIAAA)\\t44.0\\tOTHER\\tINTERVENTIONAL\\tAllocation: RANDOMIZED|Intervention Model: PARALLEL|Masking: QUADRUPLE (PARTICIPANT\", CARE_PROVIDER, INVESTIGATOR,\" OUTCOMES_ASSESSOR)|Primary Purpose: TREATMENT\\t2010-01\\t2012-08\",,,,,,,,,,,,,,,,,,,,,,,,,,,,,,,,,,,,,,,,,,,,,,,,,,,,,,,,,,,,,,,,,,,,,,,,,,,,,,,,,,,,,,,,,,,,,,,,,,,,,,,,,,,,,,,,,,,,,,,,,,,,,,,,,,,,,,,,,,,,,,,,,,,,,,,,,,,,,,,,,,,,,,,,,,,,,,,,,,,,,,,,,,,,,,,,,,,,,,,,,,,,,,,\\r\\n\"NCT01125371\\tComputerized Brief Alcohol Intervention (BI) for Binge Drinking HIV At-Risk and Infected Women\\t\\tCOMPLETED\\tAlcohol; Harmful Use|Binge Drinking|Risk Behavior|HIV Infection\\tBEHAVIORAL: Computerized brief alcohol intervention + IVR booster calls|BEHAVIORAL: Computerized brief alcohol intervention|BEHAVIORAL: Attention Control\\tJohns Hopkins University\\tNational Institute on Alcohol Abuse and Alcoholism (NIAAA)\\t439.0\\tOTHER\\tINTERVENTIONAL\\tAllocation: RANDOMIZED|Intervention Model: PARALLEL|Masking: DOUBLE (INVESTIGATOR\",\" OUTCOMES_ASSESSOR)|Primary Purpose: TREATMENT\\t2011-10\\t2016-06-07\",,,,,,,,,,,,,,,,,,,,,,,,,,,,,,,,,,,,,,,,,,,,,,,,,,,,,,,,,,,,,,,,,,,,,,,,,,,,,,,,,,,,,,,,,,,,,,,,,,,,,,,,,,,,,,,,,,,,,,,,,,,,,,,,,,,,,,,,,,,,,,,,,,,,,,,,,,,,,,,,,,,,,,,,,,,,,,,,,,,,,,,,,,,,,,,,,,,,,,,,,,,,,,,,,\\r\\n\"NCT02554071\\tManitoba Pharmacist Initiated Smoking Cessation Pilot Project\\t\\tCOMPLETED\\tSmoking Cessation\\tOTHER: Pharmacist - Smoking Cessation Support\\tUniversity of Manitoba\\tGovenment of Manitoba|Canadian Foundation for Pharmacy|Neighbourhood Pharmacy Association of Canada\\t119.0\\tOTHER\\tINTERVENTIONAL\\tAllocation: NA|Intervention Model: SINGLE_GROUP|Masking: NONE|Primary Purpose: SUPPORTIVE_CARE\\t2014-01\\t2014-11\",,,,,,,,,,,,,,,,,,,,,,,,,,,,,,,,,,,,,,,,,,,,,,,,,,,,,,,,,,,,,,,,,,,,,,,,,,,,,,,,,,,,,,,,,,,,,,,,,,,,,,,,,,,,,,,,,,,,,,,,,,,,,,,,,,,,,,,,,,,,,,,,,,,,,,,,,,,,,,,,,,,,,,,,,,,,,,,,,,,,,,,,,,,,,,,,,,,,,,,,,,,,,,,,,,\\r\\n\"NCT01772771\\tMolecular Testing for the MD Anderson Cancer Center Personalized Cancer Therapy Program\\t\\tRECRUITING\\tGlioma|Hematopoietic and Lymphoid Cell Neoplasm|Malignant Solid Neoplasm|Melanoma|Sarcoma\\tPROCEDURE: Biospecimen Collection|OTHER: Genetic Testing|OTHER: Medical Chart Review\\tM.D. Anderson Cancer Center\\tNational Cancer Institute (NCI)\\t12000.0\\tOTHER\\tOBSERVATIONAL\\tObservational Model: |Time Perspective: p\\t2012-03-01\\t2033-03-01\",,,,,,,,,,,,,,,,,,,,,,,,,,,,,,,,,,,,,,,,,,,,,,,,,,,,,,,,,,,,,,,,,,,,,,,,,,,,,,,,,,,,,,,,,,,,,,,,,,,,,,,,,,,,,,,,,,,,,,,,,,,,,,,,,,,,,,,,,,,,,,,,,,,,,,,,,,,,,,,,,,,,,,,,,,,,,,,,,,,,,,,,,,,,,,,,,,,,,,,,,,,,,,,,,,\\r\\n\"NCT02633371\\tA Pilot Study Exploring the Efficacy and Safety of Topical Oxybutynin 3% Gel for Primary Focal Hyperhidrosis in Adolescents and Young Adults\\t\\tCOMPLETED\\tHyperhidrosis\\tDRUG: Oxybutynin 3% gel\\tUniversity of Colorado\",\" Denver\\tSociety for Pediatric Dermatology\\t10.0\\tOTHER\\tINTERVENTIONAL\\tAllocation: NA|Intervention Model: SINGLE_GROUP|Masking: NONE|Primary Purpose: TREATMENT\\t2016-02\\t2017-05\",,,,,,,,,,,,,,,,,,,,,,,,,,,,,,,,,,,,,,,,,,,,,,,,,,,,,,,,,,,,,,,,,,,,,,,,,,,,,,,,,,,,,,,,,,,,,,,,,,,,,,,,,,,,,,,,,,,,,,,,,,,,,,,,,,,,,,,,,,,,,,,,,,,,,,,,,,,,,,,,,,,,,,,,,,,,,,,,,,,,,,,,,,,,,,,,,,,,,,,,,,,,,,,,,\\r\\n\"NCT03400371\\tBiology of Juvenile Myoclonic Epilepsy\\tBIOJUME\\tRECRUITING\\tJuvenile Myoclonic Epilepsy\\tOTHER: Blood draw|OTHER: Existing samples\\tKing\\'s College London\\tKing\\'s College Hospital NHS Trust|Charles University\",\" Czech Republic|Hopital Universitaire Robert-Debre|Vestre Viken Hospital Trust|The Hospital for Sick Children|Cardiff University|Odense University Hospital\\t1000.0\\tOTHER\\tOBSERVATIONAL\\tObservational Model: |Time Perspective: p\\t2017-07-13\\t2026-06-30\",,,,,,,,,,,,,,,,,,,,,,,,,,,,,,,,,,,,,,,,,,,,,,,,,,,,,,,,,,,,,,,,,,,,,,,,,,,,,,,,,,,,,,,,,,,,,,,,,,,,,,,,,,,,,,,,,,,,,,,,,,,,,,,,,,,,,,,,,,,,,,,,,,,,,,,,,,,,,,,,,,,,,,,,,,,,,,,,,,,,,,,,,,,,,,,,,,,,,,,,,,,,,,,,,\\r\\n\"NCT00120471\\tSafety and Blood Levels of Tenofovir Disoproxil Fumarate in HIV Infected Pregnant Women and Their Babies\\t\\tCOMPLETED\\tHIV Infections\\tDRUG: Tenofovir disoproxil fumarate|DRUG: Tenofovir disoproxil fumarate|DRUG: Tenofovir disoproxil fumarate\\tNational Institute of Allergy and Infectious Diseases (NIAID)\\tEunice Kennedy Shriver National Institute of Child Health and Human Development (NICHD)|National Institute on Drug Abuse (NIDA)|National Institute of Mental Health (NIMH)\\t122.0\\tNIH\\tINTERVENTIONAL\\tAllocation: RANDOMIZED|Intervention Model: PARALLEL|Masking: NONE|Primary Purpose: PREVENTION\\t2006-11\\t2011-12\",,,,,,,,,,,,,,,,,,,,,,,,,,,,,,,,,,,,,,,,,,,,,,,,,,,,,,,,,,,,,,,,,,,,,,,,,,,,,,,,,,,,,,,,,,,,,,,,,,,,,,,,,,,,,,,,,,,,,,,,,,,,,,,,,,,,,,,,,,,,,,,,,,,,,,,,,,,,,,,,,,,,,,,,,,,,,,,,,,,,,,,,,,,,,,,,,,,,,,,,,,,,,,,,,,\\r\\n\"NCT04784871\\tPromoting Wellbeing: The Five Ways to All Intervention\\t5WaysA\\tCOMPLETED\\tWellbeing|Health Attitude|Quality of Life\\tBEHAVIORAL: 5waysA Intervention|BEHAVIORAL: 5waysA Active wait-list control|BEHAVIORAL: 5waysA Inactive wait-list control\\tUniversity of Oslo\\tNorwegian Institute of Public Health|Norwegian Council for Mental Health|The Dam Foundation\\t970.0\\tOTHER\\tINTERVENTIONAL\\tAllocation: RANDOMIZED|Intervention Model: PARALLEL|Masking: NONE|Primary Purpose: PREVENTION\\t2021-03-04\\t2023-02-24\",,,,,,,,,,,,,,,,,,,,,,,,,,,,,,,,,,,,,,,,,,,,,,,,,,,,,,,,,,,,,,,,,,,,,,,,,,,,,,,,,,,,,,,,,,,,,,,,,,,,,,,,,,,,,,,,,,,,,,,,,,,,,,,,,,,,,,,,,,,,,,,,,,,,,,,,,,,,,,,,,,,,,,,,,,,,,,,,,,,,,,,,,,,,,,,,,,,,,,,,,,,,,,,,,,\\r\\n\"NCT02383771\\tReversal of the Anti-platelet Effects of Ticagrelor\\tREVERSAL\\tCOMPLETED\\tCoronary Artery Disease\\tDRUG: Ticagrelor|DRUG: Aspirin + Ticagrelor|DRUG: Control|DRUG: Aspirin + Ticagrelor\\tThe First Affiliated Hospital with Nanjing Medical University\\tNational Natural Science Foundation of China\\t64.0\\tOTHER\\tINTERVENTIONAL\\tAllocation: RANDOMIZED|Intervention Model: PARALLEL|Masking: SINGLE (INVESTIGATOR)|Primary Purpose: TREATMENT\\t2015-03\\t2016-12\",,,,,,,,,,,,,,,,,,,,,,,,,,,,,,,,,,,,,,,,,,,,,,,,,,,,,,,,,,,,,,,,,,,,,,,,,,,,,,,,,,,,,,,,,,,,,,,,,,,,,,,,,,,,,,,,,,,,,,,,,,,,,,,,,,,,,,,,,,,,,,,,,,,,,,,,,,,,,,,,,,,,,,,,,,,,,,,,,,,,,,,,,,,,,,,,,,,,,,,,,,,,,,,,,,\\r\\n\"NCT03269071\\tNeural Stem Cell Transplantation in Multiple Sclerosis Patients\\tSTEMS\\tCOMPLETED\\tProgressive Multiple Sclerosis\\tDRUG: human fetal-derived Neural Stem Cells (hNSCs)\\tIRCCS San Raffaele\\tFondazione Italiana Sclerosi Multipla\\t4.0\\tOTHER\\tINTERVENTIONAL\\tAllocation: NON_RANDOMIZED|Intervention Model: SEQUENTIAL|Masking: NONE|Primary Purpose: TREATMENT\\t2017-05-17\\t2021-07-31\",,,,,,,,,,,,,,,,,,,,,,,,,,,,,,,,,,,,,,,,,,,,,,,,,,,,,,,,,,,,,,,,,,,,,,,,,,,,,,,,,,,,,,,,,,,,,,,,,,,,,,,,,,,,,,,,,,,,,,,,,,,,,,,,,,,,,,,,,,,,,,,,,,,,,,,,,,,,,,,,,,,,,,,,,,,,,,,,,,,,,,,,,,,,,,,,,,,,,,,,,,,,,,,,,,\\r\\n\"NCT01659671\\tRCT of the Effect of Uvulopalatopharyngoplasty Compared to Expectancy in Patients With Obstructive Sleep Apnea\\tSKUP3\\tCOMPLETED\\tObstructive Sleep Apnea Syndrome\\tPROCEDURE: Uvulopalatopharyngoplasty\\tKarolinska University Hospital\\tKarolinska Institutet\\t65.0\\tOTHER\\tINTERVENTIONAL\\tAllocation: RANDOMIZED|Intervention Model: PARALLEL|Masking: SINGLE (OUTCOMES_ASSESSOR)|Primary Purpose: TREATMENT\\t2007-06\\t2014-05\",,,,,,,,,,,,,,,,,,,,,,,,,,,,,,,,,,,,,,,,,,,,,,,,,,,,,,,,,,,,,,,,,,,,,,,,,,,,,,,,,,,,,,,,,,,,,,,,,,,,,,,,,,,,,,,,,,,,,,,,,,,,,,,,,,,,,,,,,,,,,,,,,,,,,,,,,,,,,,,,,,,,,,,,,,,,,,,,,,,,,,,,,,,,,,,,,,,,,,,,,,,,,,,,,,\\r\\n\"NCT04765371\\tComparison Between Prednisolone and Dexamethasone on Mortality in Patients on Oxygen Therapy\",\" With CoViD-19\\tCOPreDex\\tCOMPLETED\\tCoronavirus Infection\\tDRUG: DEXAMETHASONE|DRUG: PREDNISOLONE\\tHôpital NOVO\\t\\t89.0\\tOTHER\\tINTERVENTIONAL\\tAllocation: RANDOMIZED|Intervention Model: PARALLEL|Masking: NONE|Primary Purpose: TREATMENT\\t2021-03-03\\t2022-05-13\",,,,,,,,,,,,,,,,,,,,,,,,,,,,,,,,,,,,,,,,,,,,,,,,,,,,,,,,,,,,,,,,,,,,,,,,,,,,,,,,,,,,,,,,,,,,,,,,,,,,,,,,,,,,,,,,,,,,,,,,,,,,,,,,,,,,,,,,,,,,,,,,,,,,,,,,,,,,,,,,,,,,,,,,,,,,,,,,,,,,,,,,,,,,,,,,,,,,,,,,,,,,,,,,,\\r\\n\"NCT02830971\\tDeveloping a Standardized Learning Curve\\t\\tCOMPLETED\\tRegistered Nurses|Nursing Personnel|Motor Skills\\tPROCEDURE: Doing Different ICU techniques and skills\\tBaqiyatallah Medical Sciences University\\tShahid Beheshti University|Tehran University of Medical Sciences\\t60.0\\tOTHER\\tINTERVENTIONAL\\tAllocation: NA|Intervention Model: SINGLE_GROUP|Masking: NONE|Primary Purpose: BASIC_SCIENCE\\t2016-07\\t2021-04-12\",,,,,,,,,,,,,,,,,,,,,,,,,,,,,,,,,,,,,,,,,,,,,,,,,,,,,,,,,,,,,,,,,,,,,,,,,,,,,,,,,,,,,,,,,,,,,,,,,,,,,,,,,,,,,,,,,,,,,,,,,,,,,,,,,,,,,,,,,,,,,,,,,,,,,,,,,,,,,,,,,,,,,,,,,,,,,,,,,,,,,,,,,,,,,,,,,,,,,,,,,,,,,,,,,,\\r\\n\"NCT00416871\\tInterleukin-2 and Interferon in Treating Patients With Metastatic Kidney Cancer\\t\\tCOMPLETED\\tKidney Cancer\\tBIOLOGICAL: aldesleukin|BIOLOGICAL: recombinant interferon alfa\\tCentre Leon Berard\\t\\t220.0\\tOTHER\\tINTERVENTIONAL\\tAllocation: RANDOMIZED|Intervention Model: |Masking: NONE|Primary Purpose: TREATMENT\\t\\t2006-02\",,,,,,,,,,,,,,,,,,,,,,,,,,,,,,,,,,,,,,,,,,,,,,,,,,,,,,,,,,,,,,,,,,,,,,,,,,,,,,,,,,,,,,,,,,,,,,,,,,,,,,,,,,,,,,,,,,,,,,,,,,,,,,,,,,,,,,,,,,,,,,,,,,,,,,,,,,,,,,,,,,,,,,,,,,,,,,,,,,,,,,,,,,,,,,,,,,,,,,,,,,,,,,,,,,\\r\\n\"NCT05900271\\tDutch-Depression Outcome Trial Comparing 5 Day Multi Daily Neuronavigated Theta Burst Sessions With 6 Weeks rTMS\\tDDOT\\tACTIVE_NOT_RECRUITING\\tTreatment Resistant Depression\\tDEVICE: rTMS|DEVICE: iTBS\\tAmsterdam UMC\",\" location VUmc\\tRadboud University Medical Center|University Medical Center Groningen|Maastricht University|Trimbos|Academisch Medisch Centrum - Universiteit van Amsterdam (AMC-UvA)\\t108.0\\tOTHER\\tINTERVENTIONAL\\tAllocation: RANDOMIZED|Intervention Model: PARALLEL|Masking: SINGLE (OUTCOMES_ASSESSOR)|Primary Purpose: TREATMENT\\t2023-11-15\\t2027-12\",,,,,,,,,,,,,,,,,,,,,,,,,,,,,,,,,,,,,,,,,,,,,,,,,,,,,,,,,,,,,,,,,,,,,,,,,,,,,,,,,,,,,,,,,,,,,,,,,,,,,,,,,,,,,,,,,,,,,,,,,,,,,,,,,,,,,,,,,,,,,,,,,,,,,,,,,,,,,,,,,,,,,,,,,,,,,,,,,,,,,,,,,,,,,,,,,,,,,,,,,,,,,,,,,\\r\\n\"NCT02469571\\tModulation of Gut Microbiota in Early Sepsis: A Pilot Study\\tMGM-sepsis\\tCOMPLETED\\tSepsis\\tDIETARY_SUPPLEMENT: Winclove 607|DIETARY_SUPPLEMENT: Placebo\\tMedical University of Graz\\t\\t15.0\\tOTHER\\tINTERVENTIONAL\\tAllocation: RANDOMIZED|Intervention Model: PARALLEL|Masking: QUADRUPLE (PARTICIPANT\", CARE_PROVIDER, INVESTIGATOR,\" OUTCOMES_ASSESSOR)|Primary Purpose: PREVENTION\\t2015-09-01\\t2018-03-01\",,,,,,,,,,,,,,,,,,,,,,,,,,,,,,,,,,,,,,,,,,,,,,,,,,,,,,,,,,,,,,,,,,,,,,,,,,,,,,,,,,,,,,,,,,,,,,,,,,,,,,,,,,,,,,,,,,,,,,,,,,,,,,,,,,,,,,,,,,,,,,,,,,,,,,,,,,,,,,,,,,,,,,,,,,,,,,,,,,,,,,,,,,,,,,,,,,,,,,,,,,,,,,,\\r\\n\"NCT05807971\\tAssessment of Safety\", Tolerability, Pharmacokinetics,\" and Pharmacodynamics of ATH-063 in Healthy Subjects\\t\\tRECRUITING\\tInflammatory Bowel Diseases|Crohn Disease|Ulcerative Colitis|Autoimmune Diseases\\tDRUG: ATH-063|DRUG: Placebo\\tAthos Therapeutics Inc\\tSyneos Health|Athos Therapeutics Australia Pty Ltd\\t76.0\\tINDUSTRY\\tINTERVENTIONAL\\tAllocation: RANDOMIZED|Intervention Model: SEQUENTIAL|Masking: QUADRUPLE (PARTICIPANT\", CARE_PROVIDER, INVESTIGATOR,\" OUTCOMES_ASSESSOR)|Primary Purpose: TREATMENT\\t2023-04-06\\t2024-02-08\",,,,,,,,,,,,,,,,,,,,,,,,,,,,,,,,,,,,,,,,,,,,,,,,,,,,,,,,,,,,,,,,,,,,,,,,,,,,,,,,,,,,,,,,,,,,,,,,,,,,,,,,,,,,,,,,,,,,,,,,,,,,,,,,,,,,,,,,,,,,,,,,,,,,,,,,,,,,,,,,,,,,,,,,,,,,,,,,,,,,,,,,,,,,,,,,,,,,,,,,,,,,\\r\\n\"NCT02083471\\tCow\\'s Milk and Hen\\'s Egg Hyposensitization in Adults\\t\\tUNKNOWN\\tEgg Allergy|Cow\\'s Milk Allergy\\tDIETARY_SUPPLEMENT: Specific Oral Tolerance Induction with Egg or Cow\\'s milk\\tTurku University Hospital\\t\\t40.0\\tOTHER_GOV\\tINTERVENTIONAL\\tAllocation: RANDOMIZED|Intervention Model: PARALLEL|Masking: NONE|Primary Purpose: TREATMENT\\t2015-04\\t2017-05\",,,,,,,,,,,,,,,,,,,,,,,,,,,,,,,,,,,,,,,,,,,,,,,,,,,,,,,,,,,,,,,,,,,,,,,,,,,,,,,,,,,,,,,,,,,,,,,,,,,,,,,,,,,,,,,,,,,,,,,,,,,,,,,,,,,,,,,,,,,,,,,,,,,,,,,,,,,,,,,,,,,,,,,,,,,,,,,,,,,,,,,,,,,,,,,,,,,,,,,,,,,,,,,,,,\\r\\n\"NCT01062971\\tClinical Study of A Fixed Combination of Timolol-Brimonidine-Dorzolamide\\t\\tCOMPLETED\\tPrimary Open Angle Glaucoma|Ocular Hypertension\\tDRUG: dorzolamide-timolol-brimonidine\\tLaboratorios Sophia S.A de C.V.\\t\\t124.0\\tINDUSTRY\\tINTERVENTIONAL\\tAllocation: RANDOMIZED|Intervention Model: PARALLEL|Masking: DOUBLE (PARTICIPANT\",\" INVESTIGATOR)|Primary Purpose: TREATMENT\\t2006-02\\t2008-06\",,,,,,,,,,,,,,,,,,,,,,,,,,,,,,,,,,,,,,,,,,,,,,,,,,,,,,,,,,,,,,,,,,,,,,,,,,,,,,,,,,,,,,,,,,,,,,,,,,,,,,,,,,,,,,,,,,,,,,,,,,,,,,,,,,,,,,,,,,,,,,,,,,,,,,,,,,,,,,,,,,,,,,,,,,,,,,,,,,,,,,,,,,,,,,,,,,,,,,,,,,,,,,,,,\\r\\n\"NCT03928171\\tThe Effect of Intra-abdominal Pressure on Peritoneal Perfusion During Laparoscopic Colorectal Surgery\\tPERFUSION\\tCOMPLETED\\tLaparoscopic Surgery|Pneumoperitoneum\\tOTHER: Intra-abdominal pressure during laparoscopy\\tRadboud University Medical Center\\t\\t30.0\\tOTHER\\tINTERVENTIONAL\\tAllocation: RANDOMIZED|Intervention Model: PARALLEL|Masking: TRIPLE (PARTICIPANT\", CARE_PROVIDER,\" OUTCOMES_ASSESSOR)|Primary Purpose: TREATMENT\\t2018-06-13\\t2018-12-24\",,,,,,,,,,,,,,,,,,,,,,,,,,,,,,,,,,,,,,,,,,,,,,,,,,,,,,,,,,,,,,,,,,,,,,,,,,,,,,,,,,,,,,,,,,,,,,,,,,,,,,,,,,,,,,,,,,,,,,,,,,,,,,,,,,,,,,,,,,,,,,,,,,,,,,,,,,,,,,,,,,,,,,,,,,,,,,,,,,,,,,,,,,,,,,,,,,,,,,,,,,,,,,,,\\r\\n\"NCT00897871\\tEvaluating the Side Effects and How Well Anticancer Drugs Work in Very Young Patients With Cancer\\t\\tUNKNOWN\\tUnspecified Childhood Solid Tumor\",\" Protocol Specific\\tDRUG: carboplatin|DRUG: cyclophosphamide|DRUG: etoposide phosphate|GENETIC: gene expression analysis|GENETIC: polymorphism analysis|OTHER: pharmacological study\\tChildren\\'s Cancer and Leukaemia Group\\t\\t60.0\\tOTHER\\tOBSERVATIONAL\\tObservational Model: |Time Perspective: p\\t2007-02\\t\",,,,,,,,,,,,,,,,,,,,,,,,,,,,,,,,,,,,,,,,,,,,,,,,,,,,,,,,,,,,,,,,,,,,,,,,,,,,,,,,,,,,,,,,,,,,,,,,,,,,,,,,,,,,,,,,,,,,,,,,,,,,,,,,,,,,,,,,,,,,,,,,,,,,,,,,,,,,,,,,,,,,,,,,,,,,,,,,,,,,,,,,,,,,,,,,,,,,,,,,,,,,,,,,,\\r\\n\"NCT00848471\\tValidation of the Quark RMR Calorimeter (Cosmed) Versus Deltatrac II (GE Health Care Clinical Systems)\\tProtocol Quark\\tUNKNOWN\\tHealthy|Obesity\\tDEVICE: Quark RMR|DEVICE: Deltatrac II\\tHospices Civils de Lyon\\tCentre de Recherche en Nutrition Humaine Rhone-Alpe\\t30.0\\tOTHER\\tINTERVENTIONAL\\tAllocation: RANDOMIZED|Intervention Model: CROSSOVER|Masking: NONE|Primary Purpose: HEALTH_SERVICES_RESEARCH\\t2009-01\\t2009-12\",,,,,,,,,,,,,,,,,,,,,,,,,,,,,,,,,,,,,,,,,,,,,,,,,,,,,,,,,,,,,,,,,,,,,,,,,,,,,,,,,,,,,,,,,,,,,,,,,,,,,,,,,,,,,,,,,,,,,,,,,,,,,,,,,,,,,,,,,,,,,,,,,,,,,,,,,,,,,,,,,,,,,,,,,,,,,,,,,,,,,,,,,,,,,,,,,,,,,,,,,,,,,,,,,,\\r\\n\"NCT06135571\\tStudy on the No.253 Lymph Node Metastasis Patterns in Left-Sided Colon and Rectal Cancer\\t\\tRECRUITING\\tColorectal Cancer|Lymph Node Metastasis\\tPROCEDURE: Laparoscopic colorectal surgery\\tCancer Institute and Hospital\",\" Chinese Academy of Medical Sciences\\tPeking Union Medical College Hospital|Peking University Cancer Hospital & Institute|China-Japan Friendship Hospital|Chinese PLA General Hospital\\t3000.0\\tOTHER\\tOBSERVATIONAL\\tObservational Model: |Time Perspective: p\\t2023-09-01\\t2026-09-01\",,,,,,,,,,,,,,,,,,,,,,,,,,,,,,,,,,,,,,,,,,,,,,,,,,,,,,,,,,,,,,,,,,,,,,,,,,,,,,,,,,,,,,,,,,,,,,,,,,,,,,,,,,,,,,,,,,,,,,,,,,,,,,,,,,,,,,,,,,,,,,,,,,,,,,,,,,,,,,,,,,,,,,,,,,,,,,,,,,,,,,,,,,,,,,,,,,,,,,,,,,,,,,,,,\\r\\n\"NCT01189071\\tPreoperative Use of Darifenacin (Enablex) to Alleviate Postoperative Ureteral Stent Pain\\t\\tTERMINATED\\tOveractive Bladder|Renal Colic|Pain\",\" Postoperative\\tDRUG: Darifenacin\\tUniversity of Missouri-Columbia\\t\\t3.0\\tOTHER\\tINTERVENTIONAL\\tAllocation: RANDOMIZED|Intervention Model: PARALLEL|Masking: DOUBLE (PARTICIPANT\",\" INVESTIGATOR)|Primary Purpose: TREATMENT\\t2009-08\\t2011-07\",,,,,,,,,,,,,,,,,,,,,,,,,,,,,,,,,,,,,,,,,,,,,,,,,,,,,,,,,,,,,,,,,,,,,,,,,,,,,,,,,,,,,,,,,,,,,,,,,,,,,,,,,,,,,,,,,,,,,,,,,,,,,,,,,,,,,,,,,,,,,,,,,,,,,,,,,,,,,,,,,,,,,,,,,,,,,,,,,,,,,,,,,,,,,,,,,,,,,,,,,,,,,,,,\\r\\n\"NCT00728871\\tThe Correlations Between HPV L1-Specific Immunologic Responses in Cervical Cancer and Cervical Intraepithelial Neoplasia (CIN) Patients and Their Prognosis\\t\\tUNKNOWN\\tCervical Cancer|Cervical Intraepithelial Neoplasia\\tPROCEDURE: peripheral blood isolation\\tNational Taiwan University Hospital\\t\\t600.0\\tOTHER\\tINTERVENTIONAL\\tAllocation: NA|Intervention Model: SINGLE_GROUP|Masking: NONE|Primary Purpose: BASIC_SCIENCE\\t2005-12\\t2011-12\",,,,,,,,,,,,,,,,,,,,,,,,,,,,,,,,,,,,,,,,,,,,,,,,,,,,,,,,,,,,,,,,,,,,,,,,,,,,,,,,,,,,,,,,,,,,,,,,,,,,,,,,,,,,,,,,,,,,,,,,,,,,,,,,,,,,,,,,,,,,,,,,,,,,,,,,,,,,,,,,,,,,,,,,,,,,,,,,,,,,,,,,,,,,,,,,,,,,,,,,,,,,,,,,,,\\r\\n\"NCT05592171\\tOcclusafe® Assisted MW Alone or With DEB-TACE Compared to MW With DEB-TACE in the Treatment of HCC\\tSEASON-HCC\\tRECRUITING\\tHCC\\tPROCEDURE: Microwave ablation + Occlusafe + DEB-TACE|PROCEDURE: Microwave ablation + Occlusafe|PROCEDURE: Microwave ablation + DEB-TACE\\tUniversity of Pisa\\tAzienda Ospedaliera Città della Salute e della Scienza di Torino|Fondazione Policlinico Universitario Agostino Gemelli IRCCS|Azienda Ospedaliera Universitaria Policlinico|IRCCS Azienda Ospedaliero-Universitaria di Bologna|Terumo Europe N.V.|Azienda Ospedaliero\",\" Universitaria Pisana\\t60.0\\tOTHER\\tINTERVENTIONAL\\tAllocation: RANDOMIZED|Intervention Model: PARALLEL|Masking: NONE|Primary Purpose: TREATMENT\\t2022-10-17\\t2025-10-17\",,,,,,,,,,,,,,,,,,,,,,,,,,,,,,,,,,,,,,,,,,,,,,,,,,,,,,,,,,,,,,,,,,,,,,,,,,,,,,,,,,,,,,,,,,,,,,,,,,,,,,,,,,,,,,,,,,,,,,,,,,,,,,,,,,,,,,,,,,,,,,,,,,,,,,,,,,,,,,,,,,,,,,,,,,,,,,,,,,,,,,,,,,,,,,,,,,,,,,,,,,,,,,,,,\\r\\n\"NCT00520871\\tThe Water-Blueberry Study\\t\\tCOMPLETED\\tCardiovascular Disease\\tDRUG: Blueberry juice\\tUniversity of Oslo\\tUllevaal University Hospital\\t62.0\\tOTHER\\tINTERVENTIONAL\\tAllocation: RANDOMIZED|Intervention Model: PARALLEL|Masking: SINGLE|Primary Purpose: PREVENTION\\t2003-03\\t2004-04\",,,,,,,,,,,,,,,,,,,,,,,,,,,,,,,,,,,,,,,,,,,,,,,,,,,,,,,,,,,,,,,,,,,,,,,,,,,,,,,,,,,,,,,,,,,,,,,,,,,,,,,,,,,,,,,,,,,,,,,,,,,,,,,,,,,,,,,,,,,,,,,,,,,,,,,,,,,,,,,,,,,,,,,,,,,,,,,,,,,,,,,,,,,,,,,,,,,,,,,,,,,,,,,,,,\\r\\n\"NCT05913271\\tStudy on the Correlation Between NAT2(N-acetyltransferase2) Gene Polymorphism and CrCl(Creatine Clreance) and the Efficacy and Safety of Levosimendan in Patients With Severe Heart Failure\\t\\tRECRUITING\\tHeart Failure|Levosimendan|Efficacy|Safety\\t\\tYi Han\\tQianfoshan Hospital\\t352.0\\tOTHER\\tOBSERVATIONAL\\tObservational Model: |Time Perspective: p\\t2023-05-30\\t2025-05-30\",,,,,,,,,,,,,,,,,,,,,,,,,,,,,,,,,,,,,,,,,,,,,,,,,,,,,,,,,,,,,,,,,,,,,,,,,,,,,,,,,,,,,,,,,,,,,,,,,,,,,,,,,,,,,,,,,,,,,,,,,,,,,,,,,,,,,,,,,,,,,,,,,,,,,,,,,,,,,,,,,,,,,,,,,,,,,,,,,,,,,,,,,,,,,,,,,,,,,,,,,,,,,,,,,,\\r\\n\"NCT04006171\\tComparison of Serum C Type Natriuretic Peptide Levels Between Polycystic Ovary Syndrome Patients and Healthy Women\\tCNP\\tCOMPLETED\\tPolycystic Ovary Syndrome|c Type Natriuretic Peptide|Menstrual Irregularity|Hyperandrogenism\\tDIAGNOSTIC_TEST: C type natriuretic peptide\\tNear East University\",\" Turkey\\t\\t90.0\\tOTHER\\tINTERVENTIONAL\\tAllocation: NON_RANDOMIZED|Intervention Model: PARALLEL|Masking: NONE|Primary Purpose: DIAGNOSTIC\\t2019-07-15\\t2020-09-01\",,,,,,,,,,,,,,,,,,,,,,,,,,,,,,,,,,,,,,,,,,,,,,,,,,,,,,,,,,,,,,,,,,,,,,,,,,,,,,,,,,,,,,,,,,,,,,,,,,,,,,,,,,,,,,,,,,,,,,,,,,,,,,,,,,,,,,,,,,,,,,,,,,,,,,,,,,,,,,,,,,,,,,,,,,,,,,,,,,,,,,,,,,,,,,,,,,,,,,,,,,,,,,,,,\\r\\n\"NCT04370171\\tManagement of Diabetic Patients With Telemedicine in the Context of the Covid-19 Epidemic\\tTeleCoviDiab\\tCOMPLETED\\tDiabetes|Covid-19\\tOTHER: care modalities|OTHER: Teleconsultation either by phone or by computer consultation\\tUniversity Hospital\", Strasbourg,\" France\\t\\t610.0\\tOTHER\\tOBSERVATIONAL\\tObservational Model: |Time Perspective: p\\t2020-05-04\\t2020-05-29\",,,,,,,,,,,,,,,,,,,,,,,,,,,,,,,,,,,,,,,,,,,,,,,,,,,,,,,,,,,,,,,,,,,,,,,,,,,,,,,,,,,,,,,,,,,,,,,,,,,,,,,,,,,,,,,,,,,,,,,,,,,,,,,,,,,,,,,,,,,,,,,,,,,,,,,,,,,,,,,,,,,,,,,,,,,,,,,,,,,,,,,,,,,,,,,,,,,,,,,,,,,,,,,,\\r\\n\"NCT04340271\\tThe Clinical Utility of Extracorporeal Shock Wave Therapy on Burns\\t\\tCOMPLETED\\tBurn Scar\\tOTHER: Extracorporeal shock wave therapy|OTHER: conventional occupational therapy\\tHangang Sacred Heart Hospital\\t\\t48.0\\tOTHER\\tINTERVENTIONAL\\tAllocation: RANDOMIZED|Intervention Model: PARALLEL|Masking: DOUBLE (PARTICIPANT\",\" OUTCOMES_ASSESSOR)|Primary Purpose: TREATMENT\\t2020-04-15\\t2020-05-31\",,,,,,,,,,,,,,,,,,,,,,,,,,,,,,,,,,,,,,,,,,,,,,,,,,,,,,,,,,,,,,,,,,,,,,,,,,,,,,,,,,,,,,,,,,,,,,,,,,,,,,,,,,,,,,,,,,,,,,,,,,,,,,,,,,,,,,,,,,,,,,,,,,,,,,,,,,,,,,,,,,,,,,,,,,,,,,,,,,,,,,,,,,,,,,,,,,,,,,,,,,,,,,,,,\\r\\n\"NCT03075371\\tHomeostatic and Non-homeostatic Processing of Food Cues in Anorexia Nervosa\\t\\tCOMPLETED\\tAnorexia Nervosa|Healthy\\tOTHER: Glucose|OTHER: Placebo\\tUniversity of Heidelberg Medical Center\\tGerman Research Foundation\\t85.0\\tOTHER\\tINTERVENTIONAL\\tAllocation: NON_RANDOMIZED|Intervention Model: CROSSOVER|Masking: SINGLE (PARTICIPANT)|Primary Purpose: BASIC_SCIENCE\\t2014-09\\t2019-02\",,,,,,,,,,,,,,,,,,,,,,,,,,,,,,,,,,,,,,,,,,,,,,,,,,,,,,,,,,,,,,,,,,,,,,,,,,,,,,,,,,,,,,,,,,,,,,,,,,,,,,,,,,,,,,,,,,,,,,,,,,,,,,,,,,,,,,,,,,,,,,,,,,,,,,,,,,,,,,,,,,,,,,,,,,,,,,,,,,,,,,,,,,,,,,,,,,,,,,,,,,,,,,,,,,\\r\\n\"NCT05966571\\tOvarian Innervation Study in Patients With Polycystic Ovary Syndrome (PCOS)\\t\\tRECRUITING\\tPolycystic Ovary Syndrome\\tPROCEDURE: Ovary Biopsie\\tAlbanian University\\t\\t50.0\\tOTHER\\tOBSERVATIONAL\\tObservational Model: |Time Perspective: p\\t2023-07-01\\t2024-12-01\",,,,,,,,,,,,,,,,,,,,,,,,,,,,,,,,,,,,,,,,,,,,,,,,,,,,,,,,,,,,,,,,,,,,,,,,,,,,,,,,,,,,,,,,,,,,,,,,,,,,,,,,,,,,,,,,,,,,,,,,,,,,,,,,,,,,,,,,,,,,,,,,,,,,,,,,,,,,,,,,,,,,,,,,,,,,,,,,,,,,,,,,,,,,,,,,,,,,,,,,,,,,,,,,,,\\r\\n\"NCT03313271\\tChina Lymphoma Patient Registry Study\\tCLAP\\tRECRUITING\\tLymphoma\\t\\tJun Zhu\\tPeking University First Hospital|Tianjin Medical University Cancer Hospital|Zhejiang Cancer Hospital|Heilongjiang Cancer Hospital|Sipai(Beijing)Network Technology Co Ltd\\t5000.0\\tOTHER\\tOBSERVATIONAL\\tObservational Model: |Time Perspective: p\\t2017-05-17\\t2027-08-30\",,,,,,,,,,,,,,,,,,,,,,,,,,,,,,,,,,,,,,,,,,,,,,,,,,,,,,,,,,,,,,,,,,,,,,,,,,,,,,,,,,,,,,,,,,,,,,,,,,,,,,,,,,,,,,,,,,,,,,,,,,,,,,,,,,,,,,,,,,,,,,,,,,,,,,,,,,,,,,,,,,,,,,,,,,,,,,,,,,,,,,,,,,,,,,,,,,,,,,,,,,,,,,,,,,\\r\\n\"NCT03490071\\tLong-term Follow up of Patients With Longstanding Hip and Groin Pain\\tLund LHGP\\tRECRUITING\\tHip Pain Chronic\\t\\tLund University\\t\\t81.0\\tOTHER\\tOBSERVATIONAL\\tObservational Model: |Time Perspective: p\\t2018-01-01\\t2024-12-31\",,,,,,,,,,,,,,,,,,,,,,,,,,,,,,,,,,,,,,,,,,,,,,,,,,,,,,,,,,,,,,,,,,,,,,,,,,,,,,,,,,,,,,,,,,,,,,,,,,,,,,,,,,,,,,,,,,,,,,,,,,,,,,,,,,,,,,,,,,,,,,,,,,,,,,,,,,,,,,,,,,,,,,,,,,,,,,,,,,,,,,,,,,,,,,,,,,,,,,,,,,,,,,,,,,\\r\\n\"NCT05801471\\tClinical Evaluation of Visual Field Change in Glaucoma: an Assessment of Different Models of Progression\\t\\tRECRUITING\\tGlaucoma\\t\\tCentervue SpA\\t\\t200.0\\tINDUSTRY\\tOBSERVATIONAL\\tObservational Model: |Time Perspective: p\\t2022-05-06\\t2025-11-06\",,,,,,,,,,,,,,,,,,,,,,,,,,,,,,,,,,,,,,,,,,,,,,,,,,,,,,,,,,,,,,,,,,,,,,,,,,,,,,,,,,,,,,,,,,,,,,,,,,,,,,,,,,,,,,,,,,,,,,,,,,,,,,,,,,,,,,,,,,,,,,,,,,,,,,,,,,,,,,,,,,,,,,,,,,,,,,,,,,,,,,,,,,,,,,,,,,,,,,,,,,,,,,,,,,\\r\\n\"NCT00266071\\tStudy of the Cutaneous Microcirculation in Elderly People\\t\\tUNKNOWN\\tElderly People\\tBEHAVIORAL: Cutaneous response\\tUniversity Hospital\",\" Angers\\t\\t\\tOTHER_GOV\\tOBSERVATIONAL\\tObservational Model: |Time Perspective: p\\t2005-12\\t\",,,,,,,,,,,,,,,,,,,,,,,,,,,,,,,,,,,,,,,,,,,,,,,,,,,,,,,,,,,,,,,,,,,,,,,,,,,,,,,,,,,,,,,,,,,,,,,,,,,,,,,,,,,,,,,,,,,,,,,,,,,,,,,,,,,,,,,,,,,,,,,,,,,,,,,,,,,,,,,,,,,,,,,,,,,,,,,,,,,,,,,,,,,,,,,,,,,,,,,,,,,,,,,,,\\r\\n\"NCT04405271\\tTAF/FTC for Pre-exposure Prophylaxis of COVID-19 in Healthcare Workers (CoviPrep Study)\\t\\tUNKNOWN\\tHealthcare Workers|COVID-19|SARS-CoV 2\\tDRUG: Emtricitabine/Tenofovir Alafenamide 200 MG-25 MG Oral Tablet|DRUG: Placebo\\tHospital Italiano de Buenos Aires\\tSociedad Argentina de Infectología (SADI) (Argentine Society of Infectious Diseases)\\t1378.0\\tOTHER\\tINTERVENTIONAL\\tAllocation: RANDOMIZED|Intervention Model: PARALLEL|Masking: QUADRUPLE (PARTICIPANT\", CARE_PROVIDER, INVESTIGATOR,\" OUTCOMES_ASSESSOR)|Primary Purpose: PREVENTION\\t2020-07-31\\t2020-11-15\",,,,,,,,,,,,,,,,,,,,,,,,,,,,,,,,,,,,,,,,,,,,,,,,,,,,,,,,,,,,,,,,,,,,,,,,,,,,,,,,,,,,,,,,,,,,,,,,,,,,,,,,,,,,,,,,,,,,,,,,,,,,,,,,,,,,,,,,,,,,,,,,,,,,,,,,,,,,,,,,,,,,,,,,,,,,,,,,,,,,,,,,,,,,,,,,,,,,,,,,,,,,,,,\\r\\n\"NCT02121171\\tCombined Trab+Trab Versus Combined Trab+Trab With Subconjunctival Implantation of Ologen for Primary Congenital Glaucoma\\t\\tUNKNOWN\\tCongenital Glaucoma\\tDEVICE: Ologen Collagen Matrix|PROCEDURE: Combined trabeculotomy-trabeculectomy\\tNational Centre of Ophthalmology named after academician Zarifa Aliyeva\\tAeon Astron Europe B.V.\\t40.0\\tOTHER_GOV\\tINTERVENTIONAL\\tAllocation: RANDOMIZED|Intervention Model: PARALLEL|Masking: NONE|Primary Purpose: TREATMENT\\t2010-09\\t2015-09\",,,,,,,,,,,,,,,,,,,,,,,,,,,,,,,,,,,,,,,,,,,,,,,,,,,,,,,,,,,,,,,,,,,,,,,,,,,,,,,,,,,,,,,,,,,,,,,,,,,,,,,,,,,,,,,,,,,,,,,,,,,,,,,,,,,,,,,,,,,,,,,,,,,,,,,,,,,,,,,,,,,,,,,,,,,,,,,,,,,,,,,,,,,,,,,,,,,,,,,,,,,,,,,,,,\\r\\n\"NCT01068171\\tDeveloping a Diabetic Foot Ulcer Protocol\\t\\tWITHDRAWN\\tDiabetic Foot Ulcers\\tOTHER: type of footwear|OTHER: collagen dressing with and without silver\\tThe University of Texas Health Science Center\",\" Houston\\tHarris County Hospital District|Baylor College of Medicine\\t0.0\\tOTHER\\tINTERVENTIONAL\\tAllocation: RANDOMIZED|Intervention Model: PARALLEL|Masking: NONE|Primary Purpose: TREATMENT\\t2010-05\\t2012-06\",,,,,,,,,,,,,,,,,,,,,,,,,,,,,,,,,,,,,,,,,,,,,,,,,,,,,,,,,,,,,,,,,,,,,,,,,,,,,,,,,,,,,,,,,,,,,,,,,,,,,,,,,,,,,,,,,,,,,,,,,,,,,,,,,,,,,,,,,,,,,,,,,,,,,,,,,,,,,,,,,,,,,,,,,,,,,,,,,,,,,,,,,,,,,,,,,,,,,,,,,,,,,,,,,\\r\\n\"NCT04875871\\tParticle-based Partial Tumor Irradiation of Unresectable Bulky Tumors\\tPARTICLE-PATHY\\tRECRUITING\\tCancer\\tRADIATION: Particle radiotherapy|DIAGNOSTIC_TEST: Magnetic resonance imaging|DIAGNOSTIC_TEST: Computertomography|DIAGNOSTIC_TEST: Copper-64-Diacetyl-bis (N4-methylthiosemicarbazone) Positron Emission Tomography-Computer Tomography (64Cu-ATSM-PET-CT)|DIAGNOSTIC_TEST: 18-F-FluorDesoxyGlukose Positron Emission Tomography-Computer Tomography (18F-FDG-PET-CT)|DIAGNOSTIC_TEST: Blood sampling\\tEBG MedAustron GmbH\\tCW-Research & Management GmbH|Medical University of Vienna|Landesklinkum Wiener Neustadt|Klinik Ottakring\\t22.0\\tINDUSTRY\\tINTERVENTIONAL\\tAllocation: NON_RANDOMIZED|Intervention Model: PARALLEL|Masking: NONE|Primary Purpose: TREATMENT\\t2021-11-11\\t2024-12\",,,,,,,,,,,,,,,,,,,,,,,,,,,,,,,,,,,,,,,,,,,,,,,,,,,,,,,,,,,,,,,,,,,,,,,,,,,,,,,,,,,,,,,,,,,,,,,,,,,,,,,,,,,,,,,,,,,,,,,,,,,,,,,,,,,,,,,,,,,,,,,,,,,,,,,,,,,,,,,,,,,,,,,,,,,,,,,,,,,,,,,,,,,,,,,,,,,,,,,,,,,,,,,,,,\\r\\n\"NCT00553371\\tFollow-up Evaluation Using CT Scans in Patients Who Have Been Treated For Metastatic Testicular Cancer\\t\\tUNKNOWN\\tTesticular Germ Cell Tumor\\tOTHER: biomarker analysis|PROCEDURE: computed tomography\\tRoyal Marsden NHS Foundation Trust\\t\\t300.0\\tOTHER\\tOBSERVATIONAL\\tObservational Model: |Time Perspective: p\\t2006-04\\t\",,,,,,,,,,,,,,,,,,,,,,,,,,,,,,,,,,,,,,,,,,,,,,,,,,,,,,,,,,,,,,,,,,,,,,,,,,,,,,,,,,,,,,,,,,,,,,,,,,,,,,,,,,,,,,,,,,,,,,,,,,,,,,,,,,,,,,,,,,,,,,,,,,,,,,,,,,,,,,,,,,,,,,,,,,,,,,,,,,,,,,,,,,,,,,,,,,,,,,,,,,,,,,,,,,\\r\\n\"NCT04674371\\tGerman Point Prevalence Study on CVC\\t\\tCOMPLETED\\tData Collection\\tOTHER: central venous catheter insertion\\tWolfram Schummer\", MD,\" PhD\\t\\t537.0\\tOTHER\\tOBSERVATIONAL\\tObservational Model: |Time Perspective: p\\t2022-05-17\\t2022-05-20\",,,,,,,,,,,,,,,,,,,,,,,,,,,,,,,,,,,,,,,,,,,,,,,,,,,,,,,,,,,,,,,,,,,,,,,,,,,,,,,,,,,,,,,,,,,,,,,,,,,,,,,,,,,,,,,,,,,,,,,,,,,,,,,,,,,,,,,,,,,,,,,,,,,,,,,,,,,,,,,,,,,,,,,,,,,,,,,,,,,,,,,,,,,,,,,,,,,,,,,,,,,,,,,,\\r\\n\"NCT02321371\\tEffect of Goal Directed Ammonia Lowering Therapy in Acute on Chronic Liver Failure Patients With Hepatic Encephalopathy.\\t\\tCOMPLETED\\tAcute-On-Chronic Liver Failure\\tDRUG: Lactulose + Rifaximin|DRUG: Lactulose\\tInstitute of Liver and Biliary Sciences\",\" India\\t\\t73.0\\tOTHER\\tINTERVENTIONAL\\tAllocation: RANDOMIZED|Intervention Model: PARALLEL|Masking: NONE|Primary Purpose: TREATMENT\\t2014-10-19\\t2016-01-31\",,,,,,,,,,,,,,,,,,,,,,,,,,,,,,,,,,,,,,,,,,,,,,,,,,,,,,,,,,,,,,,,,,,,,,,,,,,,,,,,,,,,,,,,,,,,,,,,,,,,,,,,,,,,,,,,,,,,,,,,,,,,,,,,,,,,,,,,,,,,,,,,,,,,,,,,,,,,,,,,,,,,,,,,,,,,,,,,,,,,,,,,,,,,,,,,,,,,,,,,,,,,,,,,,\\r\\n\"NCT02344771\\tPerioperative Endothelial Dysfunction\\t\\tCOMPLETED\\tMyocardial Injury\\tPROCEDURE: Elective colon cancer surgery\\tZealand University Hospital\\t\\t31.0\\tOTHER\\tOBSERVATIONAL\\tObservational Model: |Time Perspective: p\\t2015-03\\t2015-06\",,,,,,,,,,,,,,,,,,,,,,,,,,,,,,,,,,,,,,,,,,,,,,,,,,,,,,,,,,,,,,,,,,,,,,,,,,,,,,,,,,,,,,,,,,,,,,,,,,,,,,,,,,,,,,,,,,,,,,,,,,,,,,,,,,,,,,,,,,,,,,,,,,,,,,,,,,,,,,,,,,,,,,,,,,,,,,,,,,,,,,,,,,,,,,,,,,,,,,,,,,,,,,,,,,\\r\\n\"NCT03354871\\tDeveloping Models for Fatigue Monitoring in Obstetrics and Gyne- Cology Residents Using Wearables\\tIoT4Resident\\tUNKNOWN\\tFatigue\\t\\tHillel Yaffe Medical Center\\tInternational Business Machines (IBM)\\t6.0\\tOTHER_GOV\\tOBSERVATIONAL\\tObservational Model: |Time Perspective: p\\t2017-11\\t2018-02-28\",,,,,,,,,,,,,,,,,,,,,,,,,,,,,,,,,,,,,,,,,,,,,,,,,,,,,,,,,,,,,,,,,,,,,,,,,,,,,,,,,,,,,,,,,,,,,,,,,,,,,,,,,,,,,,,,,,,,,,,,,,,,,,,,,,,,,,,,,,,,,,,,,,,,,,,,,,,,,,,,,,,,,,,,,,,,,,,,,,,,,,,,,,,,,,,,,,,,,,,,,,,,,,,,,,\\r\\n\"NCT02804971\\tCardiovascular Comorbidities and Bronchiectasis\\tBRONCOCA\\tACTIVE_NOT_RECRUITING\\tBronchiectasis\\t\\tCentre Hospitalier Intercommunal Creteil\\t\\t200.0\\tOTHER\\tOBSERVATIONAL\\tObservational Model: |Time Perspective: p\\t2016-10-25\\t2023-12\",,,,,,,,,,,,,,,,,,,,,,,,,,,,,,,,,,,,,,,,,,,,,,,,,,,,,,,,,,,,,,,,,,,,,,,,,,,,,,,,,,,,,,,,,,,,,,,,,,,,,,,,,,,,,,,,,,,,,,,,,,,,,,,,,,,,,,,,,,,,,,,,,,,,,,,,,,,,,,,,,,,,,,,,,,,,,,,,,,,,,,,,,,,,,,,,,,,,,,,,,,,,,,,,,,\\r\\n\"NCT04591171\\tAssessing the Feasibility of N-of-1 Trials in Children With Hypertension and Chronic Kidney Disease\\t\\tCOMPLETED\\tHypertension|Chronic Kidney Diseases\\tPROCEDURE: n-of-1 trial guided clinical decision making\\tThe University of Texas Health Science Center\",\" Houston\\tChildren\\'s Hospital of Philadelphia|National Institute of Diabetes and Digestive and Kidney Diseases (NIDDK)\\t9.0\\tOTHER\\tINTERVENTIONAL\\tAllocation: NA|Intervention Model: SINGLE_GROUP|Masking: NONE|Primary Purpose: TREATMENT\\t2021-01-25\\t2022-02-18\",,,,,,,,,,,,,,,,,,,,,,,,,,,,,,,,,,,,,,,,,,,,,,,,,,,,,,,,,,,,,,,,,,,,,,,,,,,,,,,,,,,,,,,,,,,,,,,,,,,,,,,,,,,,,,,,,,,,,,,,,,,,,,,,,,,,,,,,,,,,,,,,,,,,,,,,,,,,,,,,,,,,,,,,,,,,,,,,,,,,,,,,,,,,,,,,,,,,,,,,,,,,,,,,,\\r\\n\"NCT04814771\\tMass Balance Study of TS-142 in Healthy Adult Subjects.\\t\\tCOMPLETED\\tHealthy Male Subjects\\tDRUG: [14C] TS-142\\tTaisho Pharmaceutical Co.\",\" Ltd.\\t\\t6.0\\tINDUSTRY\\tINTERVENTIONAL\\tAllocation: NA|Intervention Model: SINGLE_GROUP|Masking: NONE|Primary Purpose: BASIC_SCIENCE\\t2021-04-19\\t2021-05-19\",,,,,,,,,,,,,,,,,,,,,,,,,,,,,,,,,,,,,,,,,,,,,,,,,,,,,,,,,,,,,,,,,,,,,,,,,,,,,,,,,,,,,,,,,,,,,,,,,,,,,,,,,,,,,,,,,,,,,,,,,,,,,,,,,,,,,,,,,,,,,,,,,,,,,,,,,,,,,,,,,,,,,,,,,,,,,,,,,,,,,,,,,,,,,,,,,,,,,,,,,,,,,,,,,\\r\\n\"NCT00991471\\tThe Effect of an Physician-Nurse Supplementary Triage Assistance Team on Emergency Department Patient Wait Times\\tMDRNSTAT\\tCOMPLETED\\tEmergencies\\tBEHAVIORAL: Interaction with MDRN STAT|BEHAVIORAL: No MDRNSTAT\\tSunnybrook Health Sciences Centre\\t\\t6300.0\\tOTHER\\tINTERVENTIONAL\\tAllocation: RANDOMIZED|Intervention Model: PARALLEL|Masking: NONE|Primary Purpose: HEALTH_SERVICES_RESEARCH\\t2009-09\\t2010-02\",,,,,,,,,,,,,,,,,,,,,,,,,,,,,,,,,,,,,,,,,,,,,,,,,,,,,,,,,,,,,,,,,,,,,,,,,,,,,,,,,,,,,,,,,,,,,,,,,,,,,,,,,,,,,,,,,,,,,,,,,,,,,,,,,,,,,,,,,,,,,,,,,,,,,,,,,,,,,,,,,,,,,,,,,,,,,,,,,,,,,,,,,,,,,,,,,,,,,,,,,,,,,,,,,,\\r\\n\"NCT05702671\\tKenota 1 CWS Method Comparison Validation Study\\t\\tCOMPLETED\\tAllergy|Immunoglobulin E-Mediated Allergic Disorder\\tDIAGNOSTIC_TEST: Total Immunoglobulin E\",\" Obtained From Fingerstick Sample\\tKenota Inc.\\t\\t411.0\\tINDUSTRY\\tOBSERVATIONAL\\tObservational Model: |Time Perspective: p\\t2023-01-27\\t2023-04-07\",,,,,,,,,,,,,,,,,,,,,,,,,,,,,,,,,,,,,,,,,,,,,,,,,,,,,,,,,,,,,,,,,,,,,,,,,,,,,,,,,,,,,,,,,,,,,,,,,,,,,,,,,,,,,,,,,,,,,,,,,,,,,,,,,,,,,,,,,,,,,,,,,,,,,,,,,,,,,,,,,,,,,,,,,,,,,,,,,,,,,,,,,,,,,,,,,,,,,,,,,,,,,,,,,\\r\\n\"NCT02069171\\tCross-sectional and Questionnaire Study for Leg Lymphedema\\t\\tCOMPLETED\\tGynecologic Cancer\\t\\tNational Cancer Center\",\" Korea\\t\\t333.0\\tOTHER_GOV\\tOBSERVATIONAL\\tObservational Model: |Time Perspective: p\\t2012-06\\t2012-11\",,,,,,,,,,,,,,,,,,,,,,,,,,,,,,,,,,,,,,,,,,,,,,,,,,,,,,,,,,,,,,,,,,,,,,,,,,,,,,,,,,,,,,,,,,,,,,,,,,,,,,,,,,,,,,,,,,,,,,,,,,,,,,,,,,,,,,,,,,,,,,,,,,,,,,,,,,,,,,,,,,,,,,,,,,,,,,,,,,,,,,,,,,,,,,,,,,,,,,,,,,,,,,,,,\\r\\n\"NCT00474071\\tOptimum Dose of Remifentanil for Intubation in Small Children\\t\\tCOMPLETED\\tEndotracheal Intubation\\tDRUG: Remifentanil\\tUniversity of British Columbia\\t\\t60.0\\tOTHER\\tINTERVENTIONAL\\tAllocation: NON_RANDOMIZED|Intervention Model: CROSSOVER|Masking: DOUBLE (PARTICIPANT\",\" INVESTIGATOR)|Primary Purpose: TREATMENT\\t2007-03\\t2008-04\",,,,,,,,,,,,,,,,,,,,,,,,,,,,,,,,,,,,,,,,,,,,,,,,,,,,,,,,,,,,,,,,,,,,,,,,,,,,,,,,,,,,,,,,,,,,,,,,,,,,,,,,,,,,,,,,,,,,,,,,,,,,,,,,,,,,,,,,,,,,,,,,,,,,,,,,,,,,,,,,,,,,,,,,,,,,,,,,,,,,,,,,,,,,,,,,,,,,,,,,,,,,,,,,,\\r\\n\"NCT02022371\\tProstate Cancer Genomic Heterogeneity\\tPROGENY\\tCOMPLETED\\tPROSTATE CANCER\\tPROCEDURE: Targeted biopsies of the prostate\\tUniversity College London Hospitals\\t\\t50.0\\tOTHER\\tINTERVENTIONAL\\tAllocation: NA|Intervention Model: SINGLE_GROUP|Masking: NONE|Primary Purpose: DIAGNOSTIC\\t2014-09\\t2016-06\",,,,,,,,,,,,,,,,,,,,,,,,,,,,,,,,,,,,,,,,,,,,,,,,,,,,,,,,,,,,,,,,,,,,,,,,,,,,,,,,,,,,,,,,,,,,,,,,,,,,,,,,,,,,,,,,,,,,,,,,,,,,,,,,,,,,,,,,,,,,,,,,,,,,,,,,,,,,,,,,,,,,,,,,,,,,,,,,,,,,,,,,,,,,,,,,,,,,,,,,,,,,,,,,,,\\r\\n\"NCT04585971\\tA Study on Hemodynamic Relationship Including Cerebral Blood Flow Using Phase Contrast and Signal Intensity Gradient of Brain Magnetic Resonance Imaging\",\" and Carotid Doppler Ultrasound\\t\\tUNKNOWN\\tCerebral Blood Flow\\tDIAGNOSTIC_TEST: Signal intensity gradient\\tChonbuk National University Hospital\\tMedi Image\",\" Inc\\t30.0\\tOTHER\\tOBSERVATIONAL\\tObservational Model: |Time Perspective: p\\t2020-09-03\\t2021-01-31\",,,,,,,,,,,,,,,,,,,,,,,,,,,,,,,,,,,,,,,,,,,,,,,,,,,,,,,,,,,,,,,,,,,,,,,,,,,,,,,,,,,,,,,,,,,,,,,,,,,,,,,,,,,,,,,,,,,,,,,,,,,,,,,,,,,,,,,,,,,,,,,,,,,,,,,,,,,,,,,,,,,,,,,,,,,,,,,,,,,,,,,,,,,,,,,,,,,,,,,,,,,,,,,,\\r\\n\"NCT05473871\\tEnhancing Capacity in Churches to Implement PA Programs\\t\\tRECRUITING\\tCardiovascular Diseases\\tBEHAVIORAL: Faith in Action|BEHAVIORAL: Faith in Action+|BEHAVIORAL: Faith in Action++\\tSan Diego State University\\tWashington University School of Medicine|University of California\", Berkeley|University of California,\" San Diego\\t812.0\\tOTHER\\tINTERVENTIONAL\\tAllocation: RANDOMIZED|Intervention Model: PARALLEL|Masking: TRIPLE (PARTICIPANT\", INVESTIGATOR,\" OUTCOMES_ASSESSOR)|Primary Purpose: PREVENTION\\t2022-11-15\\t2026-10-31\",,,,,,,,,,,,,,,,,,,,,,,,,,,,,,,,,,,,,,,,,,,,,,,,,,,,,,,,,,,,,,,,,,,,,,,,,,,,,,,,,,,,,,,,,,,,,,,,,,,,,,,,,,,,,,,,,,,,,,,,,,,,,,,,,,,,,,,,,,,,,,,,,,,,,,,,,,,,,,,,,,,,,,,,,,,,,,,,,,,,,,,,,,,,,,,,,,,,,,,,,,,,,,\\r\\n\"NCT01523171\\tPhase II\", Open Label,\" Single Arm Study of SAR302503 In Myelofibrosis Patients Previously Treated With Ruxolitinib\\tJAKARTA2\\tCOMPLETED\\tHematopoietic Neoplasm\\tDRUG: SAR302503\\tSanofi\\t\\t97.0\\tINDUSTRY\\tINTERVENTIONAL\\tAllocation: NA|Intervention Model: SINGLE_GROUP|Masking: NONE|Primary Purpose: TREATMENT\\t2012-04\\t2014-04\",,,,,,,,,,,,,,,,,,,,,,,,,,,,,,,,,,,,,,,,,,,,,,,,,,,,,,,,,,,,,,,,,,,,,,,,,,,,,,,,,,,,,,,,,,,,,,,,,,,,,,,,,,,,,,,,,,,,,,,,,,,,,,,,,,,,,,,,,,,,,,,,,,,,,,,,,,,,,,,,,,,,,,,,,,,,,,,,,,,,,,,,,,,,,,,,,,,,,,,,,,,,,,,,\\r\\n\"NCT00000571\\tTrial of Inspiratory Muscle Rest and Exercise in Chronic Obstructive Lung Disease\\t\\tCOMPLETED\\tLung Diseases|Lung Diseases\",\" Obstructive|Chronic Obstructive Pulmonary Disease\\tDEVICE: ventilators\",\" negative pressure\\tMcGill University\\tNational Heart\", Lung,\" and Blood Institute (NHLBI)\\t\\tOTHER\\tINTERVENTIONAL\\tAllocation: RANDOMIZED|Intervention Model: |Masking: |Primary Purpose: TREATMENT\\t1986-02\\t\",,,,,,,,,,,,,,,,,,,,,,,,,,,,,,,,,,,,,,,,,,,,,,,,,,,,,,,,,,,,,,,,,,,,,,,,,,,,,,,,,,,,,,,,,,,,,,,,,,,,,,,,,,,,,,,,,,,,,,,,,,,,,,,,,,,,,,,,,,,,,,,,,,,,,,,,,,,,,,,,,,,,,,,,,,,,,,,,,,,,,,,,,,,,,,,,,,,,,,,,,,,,,,\\r\\n\"NCT01053871\\tPropofol Versus Midazolam With Fentanyl for EGD Endomicroscopy\\t\\tCOMPLETED\\tGastritis|Functional Dyspepsia\\tDRUG: propofol|DRUG: midazolam with fentanyl\\tShandong University\\t\\t104.0\\tOTHER\\tINTERVENTIONAL\\tAllocation: RANDOMIZED|Intervention Model: PARALLEL|Masking: DOUBLE (PARTICIPANT\",\" INVESTIGATOR)|Primary Purpose: \\t2010-01\\t2010-05\",,,,,,,,,,,,,,,,,,,,,,,,,,,,,,,,,,,,,,,,,,,,,,,,,,,,,,,,,,,,,,,,,,,,,,,,,,,,,,,,,,,,,,,,,,,,,,,,,,,,,,,,,,,,,,,,,,,,,,,,,,,,,,,,,,,,,,,,,,,,,,,,,,,,,,,,,,,,,,,,,,,,,,,,,,,,,,,,,,,,,,,,,,,,,,,,,,,,,,,,,,,,,,,,,\\r\\n\"NCT02370771\\tProteomic Analysis in Sera From Patients With Erosive Hand Osteoarthritis\\tPASEO\\tCOMPLETED\\tErosive Hand Osteoarthritis\\tPROCEDURE: Biological sampling|DEVICE: Radiographic evaluation\\tUniversity Hospital\",\" Rouen\\t\\t32.0\\tOTHER\\tINTERVENTIONAL\\tAllocation: NA|Intervention Model: SINGLE_GROUP|Masking: NONE|Primary Purpose: DIAGNOSTIC\\t2015-06-09\\t2019-11-17\",,,,,,,,,,,,,,,,,,,,,,,,,,,,,,,,,,,,,,,,,,,,,,,,,,,,,,,,,,,,,,,,,,,,,,,,,,,,,,,,,,,,,,,,,,,,,,,,,,,,,,,,,,,,,,,,,,,,,,,,,,,,,,,,,,,,,,,,,,,,,,,,,,,,,,,,,,,,,,,,,,,,,,,,,,,,,,,,,,,,,,,,,,,,,,,,,,,,,,,,,,,,,,,,,\\r\\n\"NCT05974371\\tEpisodic Memory Integration and Interference\\t\\tNOT_YET_RECRUITING\\tEpisodic Memory\\tOTHER: emotional context similarity\\tBoston College\\t\\t150.0\\tOTHER\\tINTERVENTIONAL\\tAllocation: NA|Intervention Model: SINGLE_GROUP|Masking: NONE|Primary Purpose: BASIC_SCIENCE\\t2024-08\\t2027-08\",,,,,,,,,,,,,,,,,,,,,,,,,,,,,,,,,,,,,,,,,,,,,,,,,,,,,,,,,,,,,,,,,,,,,,,,,,,,,,,,,,,,,,,,,,,,,,,,,,,,,,,,,,,,,,,,,,,,,,,,,,,,,,,,,,,,,,,,,,,,,,,,,,,,,,,,,,,,,,,,,,,,,,,,,,,,,,,,,,,,,,,,,,,,,,,,,,,,,,,,,,,,,,,,,,\\r\\n\"NCT03713671\\tGait and Balance Parameters Before and After Parathyroidectomy in Patients With Primary Hyperparathyroidism\\t\\tCOMPLETED\\tPrimary Hyperparathyroidism\\tDIAGNOSTIC_TEST: gait analysis\\tRecep Tayyip Erdogan University Training and Research Hospital\\tHacettepe University|Ankara Education and Research Hospital\\t40.0\\tOTHER\\tINTERVENTIONAL\\tAllocation: RANDOMIZED|Intervention Model: PARALLEL|Masking: SINGLE (OUTCOMES_ASSESSOR)|Primary Purpose: SCREENING\\t2021-10-17\\t2023-08-27\",,,,,,,,,,,,,,,,,,,,,,,,,,,,,,,,,,,,,,,,,,,,,,,,,,,,,,,,,,,,,,,,,,,,,,,,,,,,,,,,,,,,,,,,,,,,,,,,,,,,,,,,,,,,,,,,,,,,,,,,,,,,,,,,,,,,,,,,,,,,,,,,,,,,,,,,,,,,,,,,,,,,,,,,,,,,,,,,,,,,,,,,,,,,,,,,,,,,,,,,,,,,,,,,,,\\r\\n\"NCT02645071\\tBrief Program in Reducing Sedentary Behavior and Promoting Physical Exercise\\t\\tCOMPLETED\\tPhysical Activity\\tBEHAVIORAL: Physical Activity\\tThe University of Hong Kong\\tHong Kong Jockey Club Charities Trust\\t141.0\\tOTHER\\tINTERVENTIONAL\\tAllocation: NA|Intervention Model: SINGLE_GROUP|Masking: NONE|Primary Purpose: PREVENTION\\t2015-07\\t2017-07\",,,,,,,,,,,,,,,,,,,,,,,,,,,,,,,,,,,,,,,,,,,,,,,,,,,,,,,,,,,,,,,,,,,,,,,,,,,,,,,,,,,,,,,,,,,,,,,,,,,,,,,,,,,,,,,,,,,,,,,,,,,,,,,,,,,,,,,,,,,,,,,,,,,,,,,,,,,,,,,,,,,,,,,,,,,,,,,,,,,,,,,,,,,,,,,,,,,,,,,,,,,,,,,,,,\\r\\n\"NCT04004871\\tInduction Chemotherapy With Nab-paclitaxel\",\" Cisplatin and Fluorouracil for Locoregionally Advanced Nasopharyngeal Carcinoma\\t\\tUNKNOWN\\tNasopharyngeal Carcinoma|Nasopharyngeal Cancer|Nasopharynx Cancer\\tDRUG: Nab-paclitaxel\",\" Cisplatin and Fluorouracil|RADIATION: concurrent chemoradiotherapy\\tGuangxi Medical University\\tSecond Affiliated Hospital of Guangxi Medical University|Guilin Medical University\",\" China|Liuzhou Workers Hospital|Wuzhou Red Cross Hospital\\t60.0\\tOTHER\\tINTERVENTIONAL\\tAllocation: NA|Intervention Model: SINGLE_GROUP|Masking: NONE|Primary Purpose: TREATMENT\\t2019-07-05\\t2022-06-30\",,,,,,,,,,,,,,,,,,,,,,,,,,,,,,,,,,,,,,,,,,,,,,,,,,,,,,,,,,,,,,,,,,,,,,,,,,,,,,,,,,,,,,,,,,,,,,,,,,,,,,,,,,,,,,,,,,,,,,,,,,,,,,,,,,,,,,,,,,,,,,,,,,,,,,,,,,,,,,,,,,,,,,,,,,,,,,,,,,,,,,,,,,,,,,,,,,,,,,,,,,,,,,,\\r\\n\"NCT05953571\\tLaparoscopic Assisted Dismembered Pyeloplasty Versus Open Pyeloplasty in (UPJO) With Poorly Function Kidney in Pediatrics\\t\\tCOMPLETED\\tUretro-pelvic Junction Obstruction|Poorly Function Kidney\\tPROCEDURE: Dismembered Pyeloplasty\\tAl-Azhar University\\tUniversity Hospital Fattouma Bourguiba\\t65.0\\tOTHER\\tOBSERVATIONAL\\tObservational Model: |Time Perspective: p\\t2022-01-08\\t2023-06-30\",,,,,,,,,,,,,,,,,,,,,,,,,,,,,,,,,,,,,,,,,,,,,,,,,,,,,,,,,,,,,,,,,,,,,,,,,,,,,,,,,,,,,,,,,,,,,,,,,,,,,,,,,,,,,,,,,,,,,,,,,,,,,,,,,,,,,,,,,,,,,,,,,,,,,,,,,,,,,,,,,,,,,,,,,,,,,,,,,,,,,,,,,,,,,,,,,,,,,,,,,,,,,,,,,,\\r\\n\"NCT02570971\\tMannitol Versus Supportive Care in Ciguatera Fish Poisoning\\t\\tUNKNOWN\\tCiguatoxin\\tDRUG: Mannitol\\tUniversity of South Florida\\tFlorida Poison Control Center\\t200.0\\tOTHER\\tINTERVENTIONAL\\tAllocation: RANDOMIZED|Intervention Model: SINGLE_GROUP|Masking: TRIPLE (PARTICIPANT\", CARE_PROVIDER,\" INVESTIGATOR)|Primary Purpose: TREATMENT\\t2015-10\\t\",,,,,,,,,,,,,,,,,,,,,,,,,,,,,,,,,,,,,,,,,,,,,,,,,,,,,,,,,,,,,,,,,,,,,,,,,,,,,,,,,,,,,,,,,,,,,,,,,,,,,,,,,,,,,,,,,,,,,,,,,,,,,,,,,,,,,,,,,,,,,,,,,,,,,,,,,,,,,,,,,,,,,,,,,,,,,,,,,,,,,,,,,,,,,,,,,,,,,,,,,,,,,,,,\\r\\n\"NCT03987971\\tAcupuncture on GB26 to Treat Chronic Low Back Pain\\t\\tUNKNOWN\\tChronic Low-back Pain\\tOTHER: acupuncture\\tWenzhou Medical University\\tQingtian People\\'s hospital\\t114.0\\tOTHER\\tINTERVENTIONAL\\tAllocation: RANDOMIZED|Intervention Model: PARALLEL|Masking: TRIPLE (PARTICIPANT\", INVESTIGATOR,\" OUTCOMES_ASSESSOR)|Primary Purpose: TREATMENT\\t2020-01\\t2021-07\",,,,,,,,,,,,,,,,,,,,,,,,,,,,,,,,,,,,,,,,,,,,,,,,,,,,,,,,,,,,,,,,,,,,,,,,,,,,,,,,,,,,,,,,,,,,,,,,,,,,,,,,,,,,,,,,,,,,,,,,,,,,,,,,,,,,,,,,,,,,,,,,,,,,,,,,,,,,,,,,,,,,,,,,,,,,,,,,,,,,,,,,,,,,,,,,,,,,,,,,,,,,,,,,\\r\\n\"NCT01425671\\tNeural Oscillations as Genetic and Functional Biomarkers in Normal and Disease States\\t\\tACTIVE_NOT_RECRUITING\\tSchizophrenia|Schizoaffective Disorder|Schizophreniform Disorder\\t\\tUniversity of Maryland\",\" Baltimore\\tNational Institute of Mental Health (NIMH)\\t800.0\\tOTHER\\tOBSERVATIONAL\\tObservational Model: |Time Perspective: p\\t2010-11-30\\t2024-06\",,,,,,,,,,,,,,,,,,,,,,,,,,,,,,,,,,,,,,,,,,,,,,,,,,,,,,,,,,,,,,,,,,,,,,,,,,,,,,,,,,,,,,,,,,,,,,,,,,,,,,,,,,,,,,,,,,,,,,,,,,,,,,,,,,,,,,,,,,,,,,,,,,,,,,,,,,,,,,,,,,,,,,,,,,,,,,,,,,,,,,,,,,,,,,,,,,,,,,,,,,,,,,,,,\\r\\n\"NCT04962971\\tComparative Effect of 3 Different Cranberry Extracts on Cystitis Related Urinary Comfort in Women\\t\\tCOMPLETED\\tRecurrent Cystitis\\tDIETARY_SUPPLEMENT: X|DIETARY_SUPPLEMENT: Y|DIETARY_SUPPLEMENT: Z\\tCEN Biotech\\tNexira|CEN Nutriment\\t216.0\\tINDUSTRY\\tOBSERVATIONAL\\tObservational Model: |Time Perspective: p\\t2020-09-01\\t2022-02-01\",,,,,,,,,,,,,,,,,,,,,,,,,,,,,,,,,,,,,,,,,,,,,,,,,,,,,,,,,,,,,,,,,,,,,,,,,,,,,,,,,,,,,,,,,,,,,,,,,,,,,,,,,,,,,,,,,,,,,,,,,,,,,,,,,,,,,,,,,,,,,,,,,,,,,,,,,,,,,,,,,,,,,,,,,,,,,,,,,,,,,,,,,,,,,,,,,,,,,,,,,,,,,,,,,,\\r\\n\"NCT02827071\\tOcular Imaging Study Using Advanced OCT\\t\\tUNKNOWN\\tRetinal Vascular Disorder|Macular Degeneration\\t\\tUniversity of California\",\" Los Angeles\\t\\t1000.0\\tOTHER\\tOBSERVATIONAL\\tObservational Model: |Time Perspective: p\\t2016-07\\t\",,,,,,,,,,,,,,,,,,,,,,,,,,,,,,,,,,,,,,,,,,,,,,,,,,,,,,,,,,,,,,,,,,,,,,,,,,,,,,,,,,,,,,,,,,,,,,,,,,,,,,,,,,,,,,,,,,,,,,,,,,,,,,,,,,,,,,,,,,,,,,,,,,,,,,,,,,,,,,,,,,,,,,,,,,,,,,,,,,,,,,,,,,,,,,,,,,,,,,,,,,,,,,,,,\\r\\n\"NCT04236271\\tTELEsurveillance of Patients in PostopErative Bridge surgeryAge CoronairE\\tTELE-PEACE\\tCOMPLETED\\tCoronary Artery Bypass\\tDEVICE: connected objects\\tAssistance Publique - Hôpitaux de Paris\\tGFI\\t33.0\\tOTHER\\tINTERVENTIONAL\\tAllocation: NA|Intervention Model: SINGLE_GROUP|Masking: NONE|Primary Purpose: OTHER\\t2020-03-13\\t2022-12-31\",,,,,,,,,,,,,,,,,,,,,,,,,,,,,,,,,,,,,,,,,,,,,,,,,,,,,,,,,,,,,,,,,,,,,,,,,,,,,,,,,,,,,,,,,,,,,,,,,,,,,,,,,,,,,,,,,,,,,,,,,,,,,,,,,,,,,,,,,,,,,,,,,,,,,,,,,,,,,,,,,,,,,,,,,,,,,,,,,,,,,,,,,,,,,,,,,,,,,,,,,,,,,,,,,,\\r\\n\"NCT01780571\\tCPAP/PSV Preoxygenation in Obese Patients\\t\\tCOMPLETED\\tObesity|Anaesthesia\\tPROCEDURE: CPAP 5 cm H2O + PSV 5 cm H2O\\tKarolinska Institutet\\t\\t44.0\\tOTHER\\tINTERVENTIONAL\\tAllocation: RANDOMIZED|Intervention Model: PARALLEL|Masking: SINGLE (PARTICIPANT)|Primary Purpose: PREVENTION\\t2009-05\\t2012-12\",,,,,,,,,,,,,,,,,,,,,,,,,,,,,,,,,,,,,,,,,,,,,,,,,,,,,,,,,,,,,,,,,,,,,,,,,,,,,,,,,,,,,,,,,,,,,,,,,,,,,,,,,,,,,,,,,,,,,,,,,,,,,,,,,,,,,,,,,,,,,,,,,,,,,,,,,,,,,,,,,,,,,,,,,,,,,,,,,,,,,,,,,,,,,,,,,,,,,,,,,,,,,,,,,,\\r\\n\"NCT05078671\\tPharmacokinetic Boosting of Olaparib to Improve Exposure\",\" Tolerance and Cost-effectiveness\\tPROACTIVE\\tRECRUITING\\tCancer\\tDRUG: Olaparib|DRUG: Cobicistat\\tRadboud University Medical Center\\t\\t160.0\\tOTHER\\tINTERVENTIONAL\\tAllocation: RANDOMIZED|Intervention Model: PARALLEL|Masking: NONE|Primary Purpose: TREATMENT\\t2021-12-15\\t2025-12-31\",,,,,,,,,,,,,,,,,,,,,,,,,,,,,,,,,,,,,,,,,,,,,,,,,,,,,,,,,,,,,,,,,,,,,,,,,,,,,,,,,,,,,,,,,,,,,,,,,,,,,,,,,,,,,,,,,,,,,,,,,,,,,,,,,,,,,,,,,,,,,,,,,,,,,,,,,,,,,,,,,,,,,,,,,,,,,,,,,,,,,,,,,,,,,,,,,,,,,,,,,,,,,,,,,\\r\\n\"NCT02529371\\tPre-Marketing Feasibility Evaluation of the UriCap-RM - Urine Collection in Hospitalized Male Patients\\t\\tUNKNOWN\\tUrinary Incontinence\\tDEVICE: UriCap-RM\\tG.R. Dome Medical Ltd.\\t\\t30.0\\tINDUSTRY\\tINTERVENTIONAL\\tAllocation: NA|Intervention Model: SINGLE_GROUP|Masking: NONE|Primary Purpose: SUPPORTIVE_CARE\\t2015-09\\t2015-10\",,,,,,,,,,,,,,,,,,,,,,,,,,,,,,,,,,,,,,,,,,,,,,,,,,,,,,,,,,,,,,,,,,,,,,,,,,,,,,,,,,,,,,,,,,,,,,,,,,,,,,,,,,,,,,,,,,,,,,,,,,,,,,,,,,,,,,,,,,,,,,,,,,,,,,,,,,,,,,,,,,,,,,,,,,,,,,,,,,,,,,,,,,,,,,,,,,,,,,,,,,,,,,,,,,\\r\\n\"NCT02309671\\tA Dose-response Trial Using FE 999049 in Japanese Women Undergoing in Vitro Fertilisation (IVF) / Intracytoplasmic Sperm Injection (ICSI) Treatment\\t\\tCOMPLETED\\tInfertility\\tDRUG: FE 999049|DRUG: follitropin beta\\tFerring Pharmaceuticals\\t\\t159.0\\tINDUSTRY\\tINTERVENTIONAL\\tAllocation: RANDOMIZED|Intervention Model: PARALLEL|Masking: SINGLE (OUTCOMES_ASSESSOR)|Primary Purpose: TREATMENT\\t2014-12\\t2016-09\",,,,,,,,,,,,,,,,,,,,,,,,,,,,,,,,,,,,,,,,,,,,,,,,,,,,,,,,,,,,,,,,,,,,,,,,,,,,,,,,,,,,,,,,,,,,,,,,,,,,,,,,,,,,,,,,,,,,,,,,,,,,,,,,,,,,,,,,,,,,,,,,,,,,,,,,,,,,,,,,,,,,,,,,,,,,,,,,,,,,,,,,,,,,,,,,,,,,,,,,,,,,,,,,,,\\r\\n\"NCT03876171\\tCulturally Modified Family Based Therapy for Haitian Youth in South Florida\\t\\tCOMPLETED\\tProblem Behavior\\tBEHAVIORAL: Haitian youth and family intervention study: family functioning|BEHAVIORAL: Haitian youth intervention study: youth psychoeducational|BEHAVIORAL: Haitian family intervention study: family psychoeducational|BEHAVIORAL: Diversion Programs\\tUniversity of Miami\\tNational Institute on Drug Abuse (NIDA)\\t44.0\\tOTHER\\tINTERVENTIONAL\\tAllocation: RANDOMIZED|Intervention Model: PARALLEL|Masking: SINGLE (PARTICIPANT)|Primary Purpose: TREATMENT\\t2019-04-01\\t2022-12-31\",,,,,,,,,,,,,,,,,,,,,,,,,,,,,,,,,,,,,,,,,,,,,,,,,,,,,,,,,,,,,,,,,,,,,,,,,,,,,,,,,,,,,,,,,,,,,,,,,,,,,,,,,,,,,,,,,,,,,,,,,,,,,,,,,,,,,,,,,,,,,,,,,,,,,,,,,,,,,,,,,,,,,,,,,,,,,,,,,,,,,,,,,,,,,,,,,,,,,,,,,,,,,,,,,,\\r\\n\"NCT05031871\\tPharmacokinetics of HR17031 Injection in Healthy Subjects\\t\\tCOMPLETED\\tType 2 Diabetes Mellitus\\tDRUG: HR17031 injection ；INS068 injection；SHR20004 injection|DRUG: HR17031 injection ；INS068 injection；SHR20004 injection|DRUG: HR17031 injection ；INS068 injection；SHR20004 injection|DRUG: HR17031 injection ；INS068 injection；SHR20004 injection\\tJiangsu HengRui Medicine Co.\",\" Ltd.\\t\\t24.0\\tINDUSTRY\\tINTERVENTIONAL\\tAllocation: RANDOMIZED|Intervention Model: CROSSOVER|Masking: NONE|Primary Purpose: TREATMENT\\t2021-09-02\\t2021-11-19\",,,,,,,,,,,,,,,,,,,,,,,,,,,,,,,,,,,,,,,,,,,,,,,,,,,,,,,,,,,,,,,,,,,,,,,,,,,,,,,,,,,,,,,,,,,,,,,,,,,,,,,,,,,,,,,,,,,,,,,,,,,,,,,,,,,,,,,,,,,,,,,,,,,,,,,,,,,,,,,,,,,,,,,,,,,,,,,,,,,,,,,,,,,,,,,,,,,,,,,,,,,,,,,,,\\r\\n\"NCT04769271\\tIntra-pocket Application of Tea Tree Oil Gel in the Treatment of Stage-2 Periodontitis\\t\\tCOMPLETED\\tPeriodontitis\\tPROCEDURE: Scaling and Root Planing|DRUG: Scaling and Root Planing with tea tree oil\\tAlexandria University\\t\\t30.0\\tOTHER\\tINTERVENTIONAL\\tAllocation: RANDOMIZED|Intervention Model: PARALLEL|Masking: SINGLE (OUTCOMES_ASSESSOR)|Primary Purpose: TREATMENT\\t2019-11-10\\t2020-08-25\",,,,,,,,,,,,,,,,,,,,,,,,,,,,,,,,,,,,,,,,,,,,,,,,,,,,,,,,,,,,,,,,,,,,,,,,,,,,,,,,,,,,,,,,,,,,,,,,,,,,,,,,,,,,,,,,,,,,,,,,,,,,,,,,,,,,,,,,,,,,,,,,,,,,,,,,,,,,,,,,,,,,,,,,,,,,,,,,,,,,,,,,,,,,,,,,,,,,,,,,,,,,,,,,,,\\r\\n\"NCT06044571\\tOptimizing Telehealth-delivery of a Weight Loss Intervention in Older Adults\\t\\tNOT_YET_RECRUITING\\tObesity|Multiple Chronic Conditions\\tOTHER: Prescriptive|BEHAVIORAL: Behavioral\\tUniversity of North Carolina\",\" Chapel Hill\\tNational Institute on Aging (NIA)\\t180.0\\tOTHER\\tINTERVENTIONAL\\tAllocation: RANDOMIZED|Intervention Model: SEQUENTIAL|Masking: DOUBLE (PARTICIPANT\",\" CARE_PROVIDER)|Primary Purpose: TREATMENT\\t2024-03-01\\t2027-09-01\",,,,,,,,,,,,,,,,,,,,,,,,,,,,,,,,,,,,,,,,,,,,,,,,,,,,,,,,,,,,,,,,,,,,,,,,,,,,,,,,,,,,,,,,,,,,,,,,,,,,,,,,,,,,,,,,,,,,,,,,,,,,,,,,,,,,,,,,,,,,,,,,,,,,,,,,,,,,,,,,,,,,,,,,,,,,,,,,,,,,,,,,,,,,,,,,,,,,,,,,,,,,,,,,\\r\\n\"NCT01889771\\tA Cost-effectiveness Study of Nicotine Patches Distributed Through a Quitline\\t\\tCOMPLETED\\tSmoking Cessation\\tDRUG: Nicotine Patch\\tUniversity of Colorado\",\" Denver\\t\\t1495.0\\tOTHER\\tINTERVENTIONAL\\tAllocation: RANDOMIZED|Intervention Model: PARALLEL|Masking: NONE|Primary Purpose: HEALTH_SERVICES_RESEARCH\\t2010-03\\t2012-03\",,,,,,,,,,,,,,,,,,,,,,,,,,,,,,,,,,,,,,,,,,,,,,,,,,,,,,,,,,,,,,,,,,,,,,,,,,,,,,,,,,,,,,,,,,,,,,,,,,,,,,,,,,,,,,,,,,,,,,,,,,,,,,,,,,,,,,,,,,,,,,,,,,,,,,,,,,,,,,,,,,,,,,,,,,,,,,,,,,,,,,,,,,,,,,,,,,,,,,,,,,,,,,,,,\\r\\n\"NCT03077971\\tEffectiveness of Acceptance and Commitment Therapy Self-Help for Carers of People With Multiple Sclerosis\\t\\tUNKNOWN\\tCarer Stress Syndrome\\tBEHAVIORAL: ACT Self-Help|BEHAVIORAL: ACT Self-Help with Telephone Support\\tUniversity of Nottingham\\t\\t24.0\\tOTHER\\tINTERVENTIONAL\\tAllocation: RANDOMIZED|Intervention Model: PARALLEL|Masking: SINGLE (OUTCOMES_ASSESSOR)|Primary Purpose: SUPPORTIVE_CARE\\t2016-12-01\\t2018-06\",,,,,,,,,,,,,,,,,,,,,,,,,,,,,,,,,,,,,,,,,,,,,,,,,,,,,,,,,,,,,,,,,,,,,,,,,,,,,,,,,,,,,,,,,,,,,,,,,,,,,,,,,,,,,,,,,,,,,,,,,,,,,,,,,,,,,,,,,,,,,,,,,,,,,,,,,,,,,,,,,,,,,,,,,,,,,,,,,,,,,,,,,,,,,,,,,,,,,,,,,,,,,,,,,,\\r\\n\"NCT02912871\\tSubthalamotomy by ExAblate Transcranial System to Treat Motor Features of Parkinson\\'s Disease\\t\\tCOMPLETED\\tParkinson\\'s Disease\\tOTHER: MRIgHIFU unilateral subthalamotomy\\tFundación de investigación HM\\tInsightech\\t10.0\\tOTHER\\tINTERVENTIONAL\\tAllocation: NA|Intervention Model: SINGLE_GROUP|Masking: NONE|Primary Purpose: TREATMENT\\t2016-04\\t2017-01\",,,,,,,,,,,,,,,,,,,,,,,,,,,,,,,,,,,,,,,,,,,,,,,,,,,,,,,,,,,,,,,,,,,,,,,,,,,,,,,,,,,,,,,,,,,,,,,,,,,,,,,,,,,,,,,,,,,,,,,,,,,,,,,,,,,,,,,,,,,,,,,,,,,,,,,,,,,,,,,,,,,,,,,,,,,,,,,,,,,,,,,,,,,,,,,,,,,,,,,,,,,,,,,,,,\\r\\n\"NCT03548571\\tDendritic Cell Immunotherapy Against Cancer Stem Cells in Glioblastoma Patients Receiving Standard Therapy\\tDEN-STEM\\tACTIVE_NOT_RECRUITING\\tGlioblastoma\\tBIOLOGICAL: Dendritic cell immunization|DRUG: Adjuvant temozolomide\\tOslo University Hospital\\t\\t60.0\\tOTHER\\tINTERVENTIONAL\\tAllocation: RANDOMIZED|Intervention Model: PARALLEL|Masking: NONE|Primary Purpose: TREATMENT\\t2018-04-26\\t2025-05-01\",,,,,,,,,,,,,,,,,,,,,,,,,,,,,,,,,,,,,,,,,,,,,,,,,,,,,,,,,,,,,,,,,,,,,,,,,,,,,,,,,,,,,,,,,,,,,,,,,,,,,,,,,,,,,,,,,,,,,,,,,,,,,,,,,,,,,,,,,,,,,,,,,,,,,,,,,,,,,,,,,,,,,,,,,,,,,,,,,,,,,,,,,,,,,,,,,,,,,,,,,,,,,,,,,,\\r\\n\"NCT01449071\\tStudy Evaluating the Pharmacokinetics and Safety of Epratuzumab in Japanese Systemic Lupus Erythematosus (SLE)\\t\\tCOMPLETED\\tSystemic Lupus Erythematosus\\tBIOLOGICAL: Placebo|BIOLOGICAL: Epratuzumab 400 mg|BIOLOGICAL: Epratuzumab 1200 mg|BIOLOGICAL: Epratuzumab 100 mg|BIOLOGICAL: Epratuzumab 600 mg\\tUCB Pharma\\t\\t20.0\\tINDUSTRY\\tINTERVENTIONAL\\tAllocation: RANDOMIZED|Intervention Model: PARALLEL|Masking: QUADRUPLE (PARTICIPANT\", CARE_PROVIDER, INVESTIGATOR,\" OUTCOMES_ASSESSOR)|Primary Purpose: TREATMENT\\t2011-10\\t2013-03\",,,,,,,,,,,,,,,,,,,,,,,,,,,,,,,,,,,,,,,,,,,,,,,,,,,,,,,,,,,,,,,,,,,,,,,,,,,,,,,,,,,,,,,,,,,,,,,,,,,,,,,,,,,,,,,,,,,,,,,,,,,,,,,,,,,,,,,,,,,,,,,,,,,,,,,,,,,,,,,,,,,,,,,,,,,,,,,,,,,,,,,,,,,,,,,,,,,,,,,,,,,,,,,\\r\\n\"NCT03530371\\tIntranasal Dexmedetomidine for Sedated Hearing Testing\\t\\tCOMPLETED\\tAuditory Brainstem Response\\tDRUG: Dexmedetomidine Hydrochloride\\tFondation Lenval\\t\\t60.0\\tOTHER\\tINTERVENTIONAL\\tAllocation: NA|Intervention Model: SINGLE_GROUP|Masking: NONE|Primary Purpose: DIAGNOSTIC\\t2019-05-02\\t2021-12-31\",,,,,,,,,,,,,,,,,,,,,,,,,,,,,,,,,,,,,,,,,,,,,,,,,,,,,,,,,,,,,,,,,,,,,,,,,,,,,,,,,,,,,,,,,,,,,,,,,,,,,,,,,,,,,,,,,,,,,,,,,,,,,,,,,,,,,,,,,,,,,,,,,,,,,,,,,,,,,,,,,,,,,,,,,,,,,,,,,,,,,,,,,,,,,,,,,,,,,,,,,,,,,,,,,,\\r\\n\"NCT05921071\\tDo Patients Who Received Tranexamic Acid in Vaginal Hysterectomy Loose Les Blood\",\" Comparing to Patients Who Did Not?\\t\\tRECRUITING\\tVaginal Hysterectomy\\tDRUG: Tranexamic acid|DRUG: Placebo\\tWolfson Medical Center\\t\\t150.0\\tOTHER_GOV\\tINTERVENTIONAL\\tAllocation: RANDOMIZED|Intervention Model: PARALLEL|Masking: TRIPLE (PARTICIPANT\", CARE_PROVIDER,\" OUTCOMES_ASSESSOR)|Primary Purpose: SUPPORTIVE_CARE\\t2023-01-22\\t2025-01-01\",,,,,,,,,,,,,,,,,,,,,,,,,,,,,,,,,,,,,,,,,,,,,,,,,,,,,,,,,,,,,,,,,,,,,,,,,,,,,,,,,,,,,,,,,,,,,,,,,,,,,,,,,,,,,,,,,,,,,,,,,,,,,,,,,,,,,,,,,,,,,,,,,,,,,,,,,,,,,,,,,,,,,,,,,,,,,,,,,,,,,,,,,,,,,,,,,,,,,,,,,,,,,,,\\r\\n\"NCT04974671\\tTrial Of Stereotactic Body Radiation Therapy (SBRT) for Oligoprogression on Immune Checkpoint Inhibitors (ICI) in Metastatic Renal Cell Carcinoma\\t\\tRECRUITING\\tRenal Cell Carcinoma|Metastatic Renal Cell Carcinoma|Oligoprogressive|Progression\\tRADIATION: Stereotactic Body Radiation Therapy\\tYale University\\t\\t30.0\\tOTHER\\tINTERVENTIONAL\\tAllocation: NA|Intervention Model: SINGLE_GROUP|Masking: NONE|Primary Purpose: TREATMENT\\t2022-08-08\\t2027-04-01\",,,,,,,,,,,,,,,,,,,,,,,,,,,,,,,,,,,,,,,,,,,,,,,,,,,,,,,,,,,,,,,,,,,,,,,,,,,,,,,,,,,,,,,,,,,,,,,,,,,,,,,,,,,,,,,,,,,,,,,,,,,,,,,,,,,,,,,,,,,,,,,,,,,,,,,,,,,,,,,,,,,,,,,,,,,,,,,,,,,,,,,,,,,,,,,,,,,,,,,,,,,,,,,,,,\\r\\n\"NCT00080171\\tOsteoarthritis Initiative (OAI): A Knee Health Study\\t\\tCOMPLETED\\tOsteoarthritis|Knee Osteoarthritis\\t\\tNational Institute of Arthritis and Musculoskeletal and Skin Diseases (NIAMS)\\tGlaxoSmithKline|Merck Sharp & Dohme LLC|Novartis|Pfizer\\t4796.0\\tNIH\\tOBSERVATIONAL\\tObservational Model: |Time Perspective: p\\t2004-02\\t2015-10\",,,,,,,,,,,,,,,,,,,,,,,,,,,,,,,,,,,,,,,,,,,,,,,,,,,,,,,,,,,,,,,,,,,,,,,,,,,,,,,,,,,,,,,,,,,,,,,,,,,,,,,,,,,,,,,,,,,,,,,,,,,,,,,,,,,,,,,,,,,,,,,,,,,,,,,,,,,,,,,,,,,,,,,,,,,,,,,,,,,,,,,,,,,,,,,,,,,,,,,,,,,,,,,,,,\\r\\n\"NCT00368771\\tA Six-month Study to Compare Outcome Differences and Visceral Response ... Irritable Bowel Syndrome\\t\\tCOMPLETED\\tIrritable Bowel Syndrome\\tBEHAVIORAL: IBS Stress Management|BEHAVIORAL: IBS Symptom Management|BEHAVIORAL: IBS Educational Training\\tUniversity of California\",\" Los Angeles\\tNational Institute of Nursing Research (NINR)\\t163.0\\tOTHER\\tINTERVENTIONAL\\tAllocation: RANDOMIZED|Intervention Model: PARALLEL|Masking: NONE|Primary Purpose: TREATMENT\\t2002-07\\t2010-05\",,,,,,,,,,,,,,,,,,,,,,,,,,,,,,,,,,,,,,,,,,,,,,,,,,,,,,,,,,,,,,,,,,,,,,,,,,,,,,,,,,,,,,,,,,,,,,,,,,,,,,,,,,,,,,,,,,,,,,,,,,,,,,,,,,,,,,,,,,,,,,,,,,,,,,,,,,,,,,,,,,,,,,,,,,,,,,,,,,,,,,,,,,,,,,,,,,,,,,,,,,,,,,,,,\\r\\n\"NCT04979871\\tSARS-CoV-2 Antibodies and Virus Neutralisation in a Cohort Vaccinted Against COVID-19\\tDER-CoV2-001\\tCOMPLETED\\tVaccine Reaction\\tPROCEDURE: Venous bleeding\\tUniversity of Zurich\\t\\t50.0\\tOTHER\\tOBSERVATIONAL\\tObservational Model: |Time Perspective: p\\t2021-07-22\\t2021-12-31\",,,,,,,,,,,,,,,,,,,,,,,,,,,,,,,,,,,,,,,,,,,,,,,,,,,,,,,,,,,,,,,,,,,,,,,,,,,,,,,,,,,,,,,,,,,,,,,,,,,,,,,,,,,,,,,,,,,,,,,,,,,,,,,,,,,,,,,,,,,,,,,,,,,,,,,,,,,,,,,,,,,,,,,,,,,,,,,,,,,,,,,,,,,,,,,,,,,,,,,,,,,,,,,,,,\\r\\n\"NCT04097171\\tThe Effect of Diet Composition on Performance\", Expenditure, Blood Lipids,\" and Appetite Hormones in Highly Trained Cyclists\\tDCAP\\tCOMPLETED\\tEndurance Cycling Performance\\tOTHER: Diet\\tTexas Christian University\\t\\t34.0\\tOTHER\\tINTERVENTIONAL\\tAllocation: RANDOMIZED|Intervention Model: CROSSOVER|Masking: NONE|Primary Purpose: BASIC_SCIENCE\\t2019-11-11\\t2020-03-30\",,,,,,,,,,,,,,,,,,,,,,,,,,,,,,,,,,,,,,,,,,,,,,,,,,,,,,,,,,,,,,,,,,,,,,,,,,,,,,,,,,,,,,,,,,,,,,,,,,,,,,,,,,,,,,,,,,,,,,,,,,,,,,,,,,,,,,,,,,,,,,,,,,,,,,,,,,,,,,,,,,,,,,,,,,,,,,,,,,,,,,,,,,,,,,,,,,,,,,,,,,,,,,,\\r\\n\"NCT06199271\\tNeoadjuvant Adebrelimab Plus Dalpiciclib in Head and Neck Squamous Cell Carcinoma\\t\\tNOT_YET_RECRUITING\\tHead and Neck Squamous Cell Carcinoma\\tDRUG: Adebrelimab and dalpiciclib\\tZhongzheng Xiang\\t\\t30.0\\tOTHER\\tINTERVENTIONAL\\tAllocation: NA|Intervention Model: SINGLE_GROUP|Masking: NONE|Primary Purpose: TREATMENT\\t2024-01-31\\t2026-12-31\",,,,,,,,,,,,,,,,,,,,,,,,,,,,,,,,,,,,,,,,,,,,,,,,,,,,,,,,,,,,,,,,,,,,,,,,,,,,,,,,,,,,,,,,,,,,,,,,,,,,,,,,,,,,,,,,,,,,,,,,,,,,,,,,,,,,,,,,,,,,,,,,,,,,,,,,,,,,,,,,,,,,,,,,,,,,,,,,,,,,,,,,,,,,,,,,,,,,,,,,,,,,,,,,,,\\r\\n\"NCT04032171\\tStudy of Evobrutinib in Participants With RMS\\t\\tTERMINATED\\tRelapsing-remitting Multiple Sclerosis\\tDRUG: Evobrutinib|DRUG: Avonex®|DRUG: Avonex® matched Placebo|DRUG: Evobrutinib matched Placebo\\tEMD Serono Research & Development Institute\",\" Inc.\\tMerck KGaA\", Darmstadt,\" Germany\\t1.0\\tINDUSTRY\\tINTERVENTIONAL\\tAllocation: RANDOMIZED|Intervention Model: PARALLEL|Masking: QUADRUPLE (PARTICIPANT\", CARE_PROVIDER, INVESTIGATOR,\" OUTCOMES_ASSESSOR)|Primary Purpose: TREATMENT\\t2019-09-10\\t2020-05-20\",,,,,,,,,,,,,,,,,,,,,,,,,,,,,,,,,,,,,,,,,,,,,,,,,,,,,,,,,,,,,,,,,,,,,,,,,,,,,,,,,,,,,,,,,,,,,,,,,,,,,,,,,,,,,,,,,,,,,,,,,,,,,,,,,,,,,,,,,,,,,,,,,,,,,,,,,,,,,,,,,,,,,,,,,,,,,,,,,,,,,,,,,,,,,,,,,,,,,,,,,,,,\\r\\n\"NCT05674071\\tApplying an Osteopathic Intervention to Improve Mental Health Symptoms: a Mixed-methods Feasibility Study Protocol.\\t\\tCOMPLETED\\tMental Health Issue\\tBEHAVIORAL: Articulation/HVT|BEHAVIORAL: Soft-tissue massage|BEHAVIORAL: Craniosacral techniques|BEHAVIORAL: Combination of the three interventions: HVT\",\" soft-tissue and craniosacral techniques\\tSwansea University\\tOsteopathic Foundation|University College of Osteopathy\\t32.0\\tOTHER\\tINTERVENTIONAL\\tAllocation: RANDOMIZED|Intervention Model: PARALLEL|Masking: SINGLE (OUTCOMES_ASSESSOR)|Primary Purpose: TREATMENT\\t2022-12-20\\t2023-08-01\",,,,,,,,,,,,,,,,,,,,,,,,,,,,,,,,,,,,,,,,,,,,,,,,,,,,,,,,,,,,,,,,,,,,,,,,,,,,,,,,,,,,,,,,,,,,,,,,,,,,,,,,,,,,,,,,,,,,,,,,,,,,,,,,,,,,,,,,,,,,,,,,,,,,,,,,,,,,,,,,,,,,,,,,,,,,,,,,,,,,,,,,,,,,,,,,,,,,,,,,,,,,,,,,,\\r\\n\"NCT00858871\\tFirst Line Hepato Cellular Carcinoma (HCC)\\tBRISK FL\\tCOMPLETED\\tHepato Cellular Carcinoma (HCC)\\tDRUG: Brivanib|DRUG: Placebo|DRUG: Sorafenib|DRUG: Placebo\\tBristol-Myers Squibb\\t\\t1714.0\\tINDUSTRY\\tINTERVENTIONAL\\tAllocation: RANDOMIZED|Intervention Model: PARALLEL|Masking: QUADRUPLE (PARTICIPANT\", CARE_PROVIDER, INVESTIGATOR,\" OUTCOMES_ASSESSOR)|Primary Purpose: TREATMENT\\t2009-05\\t2013-09\",,,,,,,,,,,,,,,,,,,,,,,,,,,,,,,,,,,,,,,,,,,,,,,,,,,,,,,,,,,,,,,,,,,,,,,,,,,,,,,,,,,,,,,,,,,,,,,,,,,,,,,,,,,,,,,,,,,,,,,,,,,,,,,,,,,,,,,,,,,,,,,,,,,,,,,,,,,,,,,,,,,,,,,,,,,,,,,,,,,,,,,,,,,,,,,,,,,,,,,,,,,,,,,\\r\\n\"NCT01776671\\tOnce Daily Gabapentin in the Treatment of Post Amputation Pain\\t\\tUNKNOWN\\tPain|Quality of Life\\tDRUG: Gralise\\tChicago Anesthesia Pain Specialists\\t\\t16.0\\tOTHER\\tINTERVENTIONAL\\tAllocation: NA|Intervention Model: SINGLE_GROUP|Masking: NONE|Primary Purpose: TREATMENT\\t2013-02\\t2018-12\",,,,,,,,,,,,,,,,,,,,,,,,,,,,,,,,,,,,,,,,,,,,,,,,,,,,,,,,,,,,,,,,,,,,,,,,,,,,,,,,,,,,,,,,,,,,,,,,,,,,,,,,,,,,,,,,,,,,,,,,,,,,,,,,,,,,,,,,,,,,,,,,,,,,,,,,,,,,,,,,,,,,,,,,,,,,,,,,,,,,,,,,,,,,,,,,,,,,,,,,,,,,,,,,,,\\r\\n\"NCT01363271\\tCost Study of Linezolid Versus Vancomycin Among Previously Hospitalized Patients\\t\\tCOMPLETED\\tComplicated Skin and Structure Infection|Nosocomial Pneumonia\\tDRUG: Linezolid|DRUG: Vancomycin|DRUG: Linezolid|DRUG: Vancomycin\\tPfizer\\tUniversity of Maryland|Lodise & Lodise\",\" LLC\\t7260.0\\tINDUSTRY\\tOBSERVATIONAL\\tObservational Model: |Time Perspective: p\\t2011-05\\t2012-05\",,,,,,,,,,,,,,,,,,,,,,,,,,,,,,,,,,,,,,,,,,,,,,,,,,,,,,,,,,,,,,,,,,,,,,,,,,,,,,,,,,,,,,,,,,,,,,,,,,,,,,,,,,,,,,,,,,,,,,,,,,,,,,,,,,,,,,,,,,,,,,,,,,,,,,,,,,,,,,,,,,,,,,,,,,,,,,,,,,,,,,,,,,,,,,,,,,,,,,,,,,,,,,,,,\\r\\n\"NCT01282671\\tEffects of Deep Breathing Exercises Two Months After Cardiac Surgery\\t\\tCOMPLETED\\tCABG|Valve Surgery\\tOTHER: Breathing exercises\\tUppsala University\\tThe Swedish Research Council|Örebro County Council\\t357.0\\tOTHER\\tINTERVENTIONAL\\tAllocation: RANDOMIZED|Intervention Model: PARALLEL|Masking: SINGLE (OUTCOMES_ASSESSOR)|Primary Purpose: TREATMENT\\t2007-09\\t2012-08\",,,,,,,,,,,,,,,,,,,,,,,,,,,,,,,,,,,,,,,,,,,,,,,,,,,,,,,,,,,,,,,,,,,,,,,,,,,,,,,,,,,,,,,,,,,,,,,,,,,,,,,,,,,,,,,,,,,,,,,,,,,,,,,,,,,,,,,,,,,,,,,,,,,,,,,,,,,,,,,,,,,,,,,,,,,,,,,,,,,,,,,,,,,,,,,,,,,,,,,,,,,,,,,,,,\\r\\n\"NCT05683171\\tA Phase 1/2\",\" Open-label Study of Valemetostat in Combination With Rituximab and Lenalidomide in Relapsed or Refractory Follicular Lymphoma\\t\\tRECRUITING\\tLymphoma\\tDRUG: Rituximab|DRUG: Lenalidomide|DRUG: Valemetostat\\tM.D. Anderson Cancer Center\\tDaiichi Sankyo\\t60.0\\tOTHER\\tINTERVENTIONAL\\tAllocation: NA|Intervention Model: SINGLE_GROUP|Masking: NONE|Primary Purpose: TREATMENT\\t2023-05-19\\t2027-09-30\",,,,,,,,,,,,,,,,,,,,,,,,,,,,,,,,,,,,,,,,,,,,,,,,,,,,,,,,,,,,,,,,,,,,,,,,,,,,,,,,,,,,,,,,,,,,,,,,,,,,,,,,,,,,,,,,,,,,,,,,,,,,,,,,,,,,,,,,,,,,,,,,,,,,,,,,,,,,,,,,,,,,,,,,,,,,,,,,,,,,,,,,,,,,,,,,,,,,,,,,,,,,,,,,,\\r\\n\"NCT05334771\\tEarly Detection of Endolymphatic Hydrops in Hypothyroid Patients\\t\\tNOT_YET_RECRUITING\\tHypothyroidism\\tDEVICE: Dual band pure tune audiometer\\tAssiut University\\t\\t50.0\\tOTHER\\tOBSERVATIONAL\\tObservational Model: |Time Perspective: p\\t2022-09\\t2025-04\",,,,,,,,,,,,,,,,,,,,,,,,,,,,,,,,,,,,,,,,,,,,,,,,,,,,,,,,,,,,,,,,,,,,,,,,,,,,,,,,,,,,,,,,,,,,,,,,,,,,,,,,,,,,,,,,,,,,,,,,,,,,,,,,,,,,,,,,,,,,,,,,,,,,,,,,,,,,,,,,,,,,,,,,,,,,,,,,,,,,,,,,,,,,,,,,,,,,,,,,,,,,,,,,,,\\r\\n\"NCT04718571\\tAn Ecological Analysis of Nontuberculous Mycobacteria in the Geneva Area (2015-2020)\\t\\tCOMPLETED\\tEcology of Nontubercuous Mycobacteria|Geneva Area\\t\\tUniversity Hospital\",\" Geneva\\t\\t231.0\\tOTHER\\tOBSERVATI'"
      ]
     },
     "execution_count": 8,
     "metadata": {},
     "output_type": "execute_result"
    }
   ],
   "source": [
    "dbutils.fs.head('FileStore/tables/clinicaltrial_2023')"
   ]
  },
  {
   "cell_type": "code",
   "execution_count": 0,
   "metadata": {
    "application/vnd.databricks.v1+cell": {
     "cellMetadata": {
      "byteLimit": 2048000,
      "rowLimit": 10000
     },
     "inputWidgets": {},
     "nuid": "4ebc566a-0694-4a2b-a9dd-3ef39f14bd50",
     "showTitle": false,
     "title": ""
    }
   },
   "outputs": [
    {
     "output_type": "execute_result",
     "data": {
      "text/plain": [
       "['\"Id\\tStudy Title\\tAcronym\\tStatus\\tConditions\\tInterventions\\tSponsor\\tCollaborators\\tEnrollment\\tFunder Type\\tType\\tStudy Design\\tStart\\tCompletion\",,,,,,,,,,,,,,,,,,,,,,,,,,,,,,,,,,,,,,,,,,,,,,,,,,,,,,,,,,,,,,,,,,,,,,,,,,,,,,,,,,,,,,,,,,,,,,,,,,,,,,,,,,,,,,,,,,,,,,,,,,,,,,,,,,,,,,,,,,,,,,,,,,,,,,,,,,,,,,,,,,,,,,,,,,,,,,,,,,,,,,,,,,,,,,,,,,,,,,,,,,,,,,,,,,',\n",
       " '\"NCT03630471\\tEffectiveness of a Problem-solving Intervention for Common Adolescent Mental Health Problems in India\\tPRIDE\\tCOMPLETED\\tMental Health Issue (E.G.\", Depression, Psychosis, Personality Disorder,\" Substance Abuse)\\tBEHAVIORAL: PRIDE \\'Step 1\\' problem-solving intervention|BEHAVIORAL: Enhanced usual care\\tSangath\\tHarvard Medical School (HMS and HSDM)|London School of Hygiene and Tropical Medicine\\t250.0\\tOTHER\\tINTERVENTIONAL\\tAllocation: RANDOMIZED|Intervention Model: PARALLEL|Masking: DOUBLE (INVESTIGATOR\",\" OUTCOMES_ASSESSOR)|Primary Purpose: TREATMENT\\t2018-08-20\\t2019-02-28\",,,,,,,,,,,,,,,,,,,,,,,,,,,,,,,,,,,,,,,,,,,,,,,,,,,,,,,,,,,,,,,,,,,,,,,,,,,,,,,,,,,,,,,,,,,,,,,,,,,,,,,,,,,,,,,,,,,,,,,,,,,,,,,,,,,,,,,,,,,,,,,,,,,,,,,,,,,,,,,,,,,,,,,,,,,,,,,,,,,,,,,,,,,,,,,,,,,,,,,,,,,,,']"
      ]
     },
     "execution_count": 9,
     "metadata": {},
     "output_type": "execute_result"
    }
   ],
   "source": [
    "# Reading data from the file 'clinicaltrial_2023'\n",
    "myrdd1 = sc.textFile('/FileStore/tables/clinicaltrial_2023')\n",
    "myrdd1.take(2)"
   ]
  },
  {
   "cell_type": "code",
   "execution_count": 0,
   "metadata": {
    "application/vnd.databricks.v1+cell": {
     "cellMetadata": {
      "byteLimit": 2048000,
      "rowLimit": 10000
     },
     "inputWidgets": {},
     "nuid": "85cb9ff6-4f71-4ce3-8042-927945ce6750",
     "showTitle": false,
     "title": ""
    }
   },
   "outputs": [
    {
     "output_type": "execute_result",
     "data": {
      "text/plain": [
       "['\"Id\\tStudy Title\\tAcronym\\tStatus\\tConditions\\tInterventions\\tSponsor\\tCollaborators\\tEnrollment\\tFunder Type\\tType\\tStudy Design\\tStart\\tCompletion\",,,,,,,,,,,,,,,,,,,,,,,,,,,,,,,,,,,,,,,,,,,,,,,,,,,,,,,,,,,,,,,,,,,,,,,,,,,,,,,,,,,,,,,,,,,,,,,,,,,,,,,,,,,,,,,,,,,,,,,,,,,,,,,,,,,,,,,,,,,,,,,,,,,,,,,,,,,,,,,,,,,,,,,,,,,,,,,,,,,,,,,,,,,,,,,,,,,,,,,,,,,,,,,,,,',\n",
       " '\"NCT03630471\\tEffectiveness of a Problem-solving Intervention for Common Adolescent Mental Health Problems in India\\tPRIDE\\tCOMPLETED\\tMental Health Issue (E.G.\", Depression, Psychosis, Personality Disorder,\" Substance Abuse)\\tBEHAVIORAL: PRIDE \\'Step 1\\' problem-solving intervention|BEHAVIORAL: Enhanced usual care\\tSangath\\tHarvard Medical School (HMS and HSDM)|London School of Hygiene and Tropical Medicine\\t250.0\\tOTHER\\tINTERVENTIONAL\\tAllocation: RANDOMIZED|Intervention Model: PARALLEL|Masking: DOUBLE (INVESTIGATOR\",\" OUTCOMES_ASSESSOR)|Primary Purpose: TREATMENT\\t2018-08-20\\t2019-02-28\",,,,,,,,,,,,,,,,,,,,,,,,,,,,,,,,,,,,,,,,,,,,,,,,,,,,,,,,,,,,,,,,,,,,,,,,,,,,,,,,,,,,,,,,,,,,,,,,,,,,,,,,,,,,,,,,,,,,,,,,,,,,,,,,,,,,,,,,,,,,,,,,,,,,,,,,,,,,,,,,,,,,,,,,,,,,,,,,,,,,,,,,,,,,,,,,,,,,,,,,,,,,,',\n",
       " '\"NCT05992571\\tOral Ketone Monoester Supplementation and Resting-state Brain Connectivity\\t\\tRECRUITING\\tCerebrovascular Function|Cognition\\tOTHER: Placebo|DIETARY_SUPPLEMENT: β-OHB\\tMcMaster University\\tAlzheimer\\'s Society of Brant\", Haldimand Norfolk,\" Hamilton Halton\\t30.0\\tOTHER\\tINTERVENTIONAL\\tAllocation: RANDOMIZED|Intervention Model: CROSSOVER|Masking: TRIPLE (PARTICIPANT\", INVESTIGATOR,\" OUTCOMES_ASSESSOR)|Primary Purpose: BASIC_SCIENCE\\t2023-10-25\\t2024-08\",,,,,,,,,,,,,,,,,,,,,,,,,,,,,,,,,,,,,,,,,,,,,,,,,,,,,,,,,,,,,,,,,,,,,,,,,,,,,,,,,,,,,,,,,,,,,,,,,,,,,,,,,,,,,,,,,,,,,,,,,,,,,,,,,,,,,,,,,,,,,,,,,,,,,,,,,,,,,,,,,,,,,,,,,,,,,,,,,,,,,,,,,,,,,,,,,,,,,,,,,,,,,,']"
      ]
     },
     "execution_count": 10,
     "metadata": {},
     "output_type": "execute_result"
    }
   ],
   "source": [
    "# Displaying 3 lines in myrdd1 \n",
    "myrdd2 = myrdd1.map(lambda line: line)\n",
    "myrdd2.take(3)"
   ]
  },
  {
   "cell_type": "code",
   "execution_count": 0,
   "metadata": {
    "application/vnd.databricks.v1+cell": {
     "cellMetadata": {
      "byteLimit": 2048000,
      "rowLimit": 10000
     },
     "inputWidgets": {},
     "nuid": "69c5f1e2-01c8-4778-b968-d8c9b3d3df84",
     "showTitle": false,
     "title": ""
    }
   },
   "outputs": [
    {
     "output_type": "execute_result",
     "data": {
      "text/plain": [
       "[['\"Id',\n",
       "  'Study Title',\n",
       "  'Acronym',\n",
       "  'Status',\n",
       "  'Conditions',\n",
       "  'Interventions',\n",
       "  'Sponsor',\n",
       "  'Collaborators',\n",
       "  'Enrollment',\n",
       "  'Funder Type',\n",
       "  'Type',\n",
       "  'Study Design',\n",
       "  'Start',\n",
       "  'Completion\",,,,,,,,,,,,,,,,,,,,,,,,,,,,,,,,,,,,,,,,,,,,,,,,,,,,,,,,,,,,,,,,,,,,,,,,,,,,,,,,,,,,,,,,,,,,,,,,,,,,,,,,,,,,,,,,,,,,,,,,,,,,,,,,,,,,,,,,,,,,,,,,,,,,,,,,,,,,,,,,,,,,,,,,,,,,,,,,,,,,,,,,,,,,,,,,,,,,,,,,,,,,,,,,,,'],\n",
       " ['\"NCT03630471',\n",
       "  'Effectiveness of a Problem-solving Intervention for Common Adolescent Mental Health Problems in India',\n",
       "  'PRIDE',\n",
       "  'COMPLETED',\n",
       "  'Mental Health Issue (E.G.\", Depression, Psychosis, Personality Disorder,\" Substance Abuse)',\n",
       "  \"BEHAVIORAL: PRIDE 'Step 1' problem-solving intervention|BEHAVIORAL: Enhanced usual care\",\n",
       "  'Sangath',\n",
       "  'Harvard Medical School (HMS and HSDM)|London School of Hygiene and Tropical Medicine',\n",
       "  '250.0',\n",
       "  'OTHER',\n",
       "  'INTERVENTIONAL',\n",
       "  'Allocation: RANDOMIZED|Intervention Model: PARALLEL|Masking: DOUBLE (INVESTIGATOR\",\" OUTCOMES_ASSESSOR)|Primary Purpose: TREATMENT',\n",
       "  '2018-08-20',\n",
       "  '2019-02-28\",,,,,,,,,,,,,,,,,,,,,,,,,,,,,,,,,,,,,,,,,,,,,,,,,,,,,,,,,,,,,,,,,,,,,,,,,,,,,,,,,,,,,,,,,,,,,,,,,,,,,,,,,,,,,,,,,,,,,,,,,,,,,,,,,,,,,,,,,,,,,,,,,,,,,,,,,,,,,,,,,,,,,,,,,,,,,,,,,,,,,,,,,,,,,,,,,,,,,,,,,,,,,'],\n",
       " ['\"NCT05992571',\n",
       "  'Oral Ketone Monoester Supplementation and Resting-state Brain Connectivity',\n",
       "  '',\n",
       "  'RECRUITING',\n",
       "  'Cerebrovascular Function|Cognition',\n",
       "  'OTHER: Placebo|DIETARY_SUPPLEMENT: β-OHB',\n",
       "  'McMaster University',\n",
       "  'Alzheimer\\'s Society of Brant\", Haldimand Norfolk,\" Hamilton Halton',\n",
       "  '30.0',\n",
       "  'OTHER',\n",
       "  'INTERVENTIONAL',\n",
       "  'Allocation: RANDOMIZED|Intervention Model: CROSSOVER|Masking: TRIPLE (PARTICIPANT\", INVESTIGATOR,\" OUTCOMES_ASSESSOR)|Primary Purpose: BASIC_SCIENCE',\n",
       "  '2023-10-25',\n",
       "  '2024-08\",,,,,,,,,,,,,,,,,,,,,,,,,,,,,,,,,,,,,,,,,,,,,,,,,,,,,,,,,,,,,,,,,,,,,,,,,,,,,,,,,,,,,,,,,,,,,,,,,,,,,,,,,,,,,,,,,,,,,,,,,,,,,,,,,,,,,,,,,,,,,,,,,,,,,,,,,,,,,,,,,,,,,,,,,,,,,,,,,,,,,,,,,,,,,,,,,,,,,,,,,,,,,,']]"
      ]
     },
     "execution_count": 11,
     "metadata": {},
     "output_type": "execute_result"
    }
   ],
   "source": [
    "# Splitting each line in myrdd2 by the tab character ('\\t') to create a list of elements and retrieving the first 9\n",
    "myrdd3 = myrdd2.map(lambda line: line.split('\\t'))\n",
    "myrdd3.take(3)"
   ]
  },
  {
   "cell_type": "code",
   "execution_count": 0,
   "metadata": {
    "application/vnd.databricks.v1+cell": {
     "cellMetadata": {
      "byteLimit": 2048000,
      "rowLimit": 10000
     },
     "inputWidgets": {},
     "nuid": "6ddbda00-5793-4976-9926-db0abffed902",
     "showTitle": false,
     "title": ""
    }
   },
   "outputs": [],
   "source": [
    "from datetime import datetime\n",
    "\n",
    "def format_date(date_str):\n",
    "    #Formats the given date string to have a day component if it's missing.\n",
    "    if len(date_str) == 7:\n",
    "        return date_str + '-01'\n",
    "    else:\n",
    "        return date_str"
   ]
  },
  {
   "cell_type": "code",
   "execution_count": 0,
   "metadata": {
    "application/vnd.databricks.v1+cell": {
     "cellMetadata": {
      "byteLimit": 2048000,
      "rowLimit": 10000
     },
     "inputWidgets": {},
     "nuid": "529fe5fe-a8b5-42c8-b1be-97c0eede62eb",
     "showTitle": false,
     "title": ""
    }
   },
   "outputs": [],
   "source": [
    "#Calculate the length of the first row in myrdd3\n",
    "first_row_length = len(myrdd3.first())\n",
    "\n",
    "#Filter the rdd to retain only rows with the same length as the first row\n",
    "myrdd_clean = myrdd3.filter(lambda row: len(row) == first_row_length)"
   ]
  },
  {
   "cell_type": "code",
   "execution_count": 0,
   "metadata": {
    "application/vnd.databricks.v1+cell": {
     "cellMetadata": {
      "byteLimit": 2048000,
      "rowLimit": 10000
     },
     "inputWidgets": {},
     "nuid": "aee82e15-0371-4d61-88b6-8e636a621c21",
     "showTitle": false,
     "title": ""
    }
   },
   "outputs": [
    {
     "output_type": "execute_result",
     "data": {
      "text/plain": [
       "[('Status', 'Completion'),\n",
       " ('COMPLETED', '2019-02-28'),\n",
       " ('RECRUITING', '2024-08-01'),\n",
       " ('TERMINATED', '2006-05-01'),\n",
       " ('RECRUITING', '2023-10-01')]"
      ]
     },
     "execution_count": 14,
     "metadata": {},
     "output_type": "execute_result"
    }
   ],
   "source": [
    "#cleaning the 'Completion' column\n",
    "myrdd4 = myrdd_clean.map(lambda x: (x[3], format_date (x[13].replace(',', '').replace('\"', ''))))\n",
    "myrdd4.take(5)"
   ]
  },
  {
   "cell_type": "code",
   "execution_count": 0,
   "metadata": {
    "application/vnd.databricks.v1+cell": {
     "cellMetadata": {
      "byteLimit": 2048000,
      "rowLimit": 10000
     },
     "inputWidgets": {},
     "nuid": "e1c48e9e-a44d-452f-9b80-00fb77ab2982",
     "showTitle": false,
     "title": ""
    }
   },
   "outputs": [
    {
     "output_type": "stream",
     "name": "stdout",
     "output_type": "stream",
     "text": [
      "[Truncated to first 65536 bytes]\n"
     ]
    },
    {
     "output_type": "execute_result",
     "data": {
      "text/plain": [
       "'\"Company\",\"Parent_Company\",\"Penalty_Amount\",\"Subtraction_From_Penalty\",\"Penalty_Amount_Adjusted_For_Eliminating_Multiple_Counting\",\"Penalty_Year\",\"Penalty_Date\",\"Offense_Group\",\"Primary_Offense\",\"Secondary_Offense\",\"Description\",\"Level_of_Government\",\"Action_Type\",\"Agency\",\"Civil/Criminal\",\"Prosecution_Agreement\",\"Court\",\"Case_ID\",\"Private_Litigation_Case_Title\",\"Lawsuit_Resolution\",\"Facility_State\",\"City\",\"Address\",\"Zip\",\"NAICS_Code\",\"NAICS_Translation\",\"HQ_Country_of_Parent\",\"HQ_State_of_Parent\",\"Ownership_Structure\",\"Parent_Company_Stock_Ticker\",\"Major_Industry_of_Parent\",\"Specific_Industry_of_Parent\",\"Info_Source\",\"Notes\"\\n\"Abbott Laboratories\",\"Abbott Laboratories\",\"$5,475,000\",\"$0\",\"$5,475,000\",\"2013\",\"20131227\",\"government-contracting-related offenses\",\"False Claims Act and related\",\"kickbacks and bribery\",\"Abbott Laboratories agreed to $5.475 million to resolve allegations that it violated the False Claims Act by paying kickbacks to induce doctors to implant the company\\'s carotid, biliary and peripheral vascular products.\",\"federal\",\"agency action\",\"Justice Department Civil Division\",\"civil\",\"\",\"\",\"\",\"\",\"\",\"\",\"\",\"\",\"\",\"\",\"\",\"USA\",\"Illinois\",\"publicly traded\",\"ABT\",\"pharmaceuticals\",\"pharmaceuticals\",\"https://www.justice.gov/opa/pr/abbott-laboratories-pays-us-5475-million-settle-claims-company-paid-kickbacks-physicians\",\"\"\\n\"Abbott Laboratories Inc.\",\"AbbVie\",\"$1,500,000,000\",\"$0\",\"$1,500,000,000\",\"2012\",\"20120507\",\"healthcare-related offenses\",\"off-label or unapproved promotion of medical products\",\"\",\"Global Health Care Company Abbott Laboratories Inc. has pleaded guilty and agreed to pay $1.5 billion to resolve its criminal and civil liability arising from the company\\'s unlawful promotion of the prescription drug Depakote for uses not approved as safe and effective by the Food and Drug Administration. The resolution - the second largest payment by a drug company - includes a criminal fine and forfeiture totaling $700 million and civil settlements with the federal government and the states totaling $800 million. Abbott also will be subject to court-supervised probation and reporting obligations for Abbotts CEO and Board of Directors.\",\"federal\",\"agency action\",\"Food and Drug Administration referral to the Justice Department\",\"civil and criminal\",\"\",\"\",\"\",\"\",\"\",\"\",\"\",\"\",\"\",\"\",\"\",\"USA\",\"Illinois\",\"publicly traded\",\"ABBV\",\"pharmaceuticals\",\"pharmaceuticals\",\"http://www.justice.gov/opa/pr/abbott-labs-pay-15-billion-resolve-criminal-civil-investigations-label-promotion-depakote\",\"\"\\n\"Abbott Laboratories Inc.\",\"AbbVie\",\"$126,500,000\",\"$0\",\"$126,500,000\",\"2010\",\"20101207\",\"government-contracting-related offenses\",\"False Claims Act and related\",\"\",\"Abbott Laboratories Inc., B. Braun Medical Inc. and Roxane Laboratories Inc. n/k/a Boehringer Ingelheim Roxane Inc. and affiliated entities agreed to pay $421 million to settle False Claims Act allegations, that they engaged in a scheme to report false and inflated prices for numerous pharmaceutical products knowing that federal healthcare programs relied on those reported prices to set payment rates.\",\"federal\",\"agency action\",\"Justice Department Civil Division\",\"civil\",\"\",\"\",\"\",\"\",\"\",\"\",\"\",\"\",\"\",\"\",\"\",\"USA\",\"Illinois\",\"publicly traded\",\"ABBV\",\"pharmaceuticals\",\"pharmaceuticals\",\"https://www.justice.gov/opa/pr/pharmaceutical-manufacturers-pay-4212-million-settle-false-claims-act-cases\",\"\"\\n\"Abbott Laboratories Puerto Rico, Inc.\",\"Abbott Laboratories\",\"$49,045\",\"$0\",\"$49,045\",\"2009\",\"20090305\",\"employment-related offenses\",\"wage and hour violation\",\"Fair Labor Standards Act\",\"\",\"federal\",\"agency action\",\"Labor Department Wage and Hour Division\",\"civil\",\"\",\"\",\"1527129\",\"\",\"\",\"Puerto Rico\",\"San Juan\",\"\",\"\",\"423450\",\"423450: Medical, Dental, and Hospital Equipment and Supplies Merchant Wholesalers\",\"USA\",\"Illinois\",\"publicly traded\",\"ABT\",\"pharmaceuticals\",\"pharmaceuticals\",\"March 7, 2017 download of a dataset posted by the Wage and Hour Division at https://enforcedata.dol.gov/views/data_summary.php\",\"Date and year are the Findings End Date in the dataset posted by the Wage and Hour Division, which does not provide case opening or closing dates. The company name is the Legal Name provided by the dataset unless that field is blank, in which case the Trade Name is used. The dataset provides only one address and does not indicate whether it is the company headquarters address or the establishment address. The penalty amount is the total of civil monetary penalties and mandated back wages. The original dataset provides a breakdown.\"\\n\"Acclarent Inc.\",\"Johnson & Johnson\",\"$18,000,000\",\"$0\",\"$18,000,000\",\"2016\",\"20160722\",\"government-contracting-related offenses\",\"False Claims Act and related\",\"\",\"California-based medical device manufacturer Acclarent Inc., a subsidiary of Johnson & Johnson, agreed to pay $18 million to resolve allegations that the company caused health care providers to submit false claims to Medicare and other federal health care programs by marketing and distributing its sinus spacer product for use as a drug delivery device without Food and Drug Administration approval.\",\"federal\",\"agency action\",\"Justice Department Civil Division\",\"civil\",\"\",\"\",\"\",\"\",\"\",\"\",\"\",\"\",\"\",\"\",\"\",\"USA\",\"New Jersey\",\"publicly traded\",\"JNJ\",\"pharmaceuticals\",\"pharmaceuticals\",\"https://www.justice.gov/opa/pr/johnson-johnson-subsidiary-acclarent-inc-pays-government-18-million-settle-false-claims-act\",\"\"\\n\"Advanced Medical Optics\",\"Abbott Laboratories\",\"$16,800\",\"$0\",\"$16,800\",\"2004\",\"20040412\",\"employment-related offenses\",\"labor relations violation\",\"\",\"back pay award in unfair labor practices case\",\"federal\",\"agency action\",\"National Labor Relations Board\",\"civil\",\"\",\"\",\"21-CA-36104-001\",\"\",\"\",\"California\",\"Irvine\",\"\",\"92606\",\"333314\",\"333314: Optical Instrument and Lens Manufacturing\",\"USA\",\"Illinois\",\"publicly traded\",\"ABT\",\"pharmaceuticals\",\"pharmaceuticals\",\"Extracted from an NLRB dataset covering 1999-2011 downloaded at https://catalog.data.gov/dataset/nlrb-cats-final-c-case-data-bulk-19990101-20110930-in-xml\",\"\"\\n\"Advanced Neuromodulation Systems, Inc.\",\"Abbott Laboratories\",\"$2,950,000\",\"$0\",\"$2,950,000\",\"2007\",\"20070702\",\"healthcare-related offenses\",\"HHS civil monetary penalties\",\"kickbacks and bribery\",\"The HHS Inspector General announced that Advanced Neuromodulation Systems, Inc.,  a medical device manufacturer specializing in spinal cord stimulation used for pain management, agreed to pay $2.95 million to settle allegations that it paid kickbacks to physicians in violation of the Civil Monetary Penalties Law (CMPL). The company also entered into a 3-year Corporate Integrity Agreement.\",\"federal\",\"agency action\",\"Health & Human Services Department Office of Inspector General\",\"civil\",\"\",\"\",\"\",\"\",\"\",\"\",\"\",\"\",\"\",\"\",\"\",\"USA\",\"Illinois\",\"publicly traded\",\"ABT\",\"pharmaceuticals\",\"pharmaceuticals\",\"https://oig.hhs.gov/publications/docs/press/2007/ANS%20Press%20Release.pdf\",\"\"\\n\"Advanced Sterilization Products\",\"Johnson & Johnson\",\"$136,800\",\"$0\",\"$136,800\",\"2014\",\"20140520\",\"environment-related offenses\",\"environmental violation\",\"\",\"The U.S. Environmental Protection Agency announced that an Irvine, Calif. company, Advanced Sterilization Products, has agreed to pay a $136,800 penalty for the sale and distribution of unregistered and misbranded pesticides to veterinary clinics and laboratories nationwide.\",\"federal\",\"agency action\",\"Environmental Protection Agency\",\"civil\",\"\",\"\",\"\",\"\",\"\",\"California\",\"Irvine\",\"\",\"\",\"\",\"\",\"USA\",\"New Jersey\",\"publicly traded\",\"JNJ\",\"pharmaceuticals\",\"pharmaceuticals\",\"https://archive.epa.gov/epapages/newsroom_archive/newsreleases/8e820317c86e4c5685257cde00717855.html\",\"\"\\n\"Advanced Sterilization Products, a division of Ethicon Inc.\",\"Johnson & Johnson\",\"$1,200,000\",\"$0\",\"$1,200,000\",\"2013\",\"20131204\",\"safety-related offenses\",\"drug or medical equipment safety violation\",\"\",\"Settlement of a civil money penalty action against Advanced Sterilization Products, a division of Ethicon Inc., a Johnson & Johnson company, and two of ASP\\'s executives alleging that ASP manufactured and distributed adulterated and misbranded sterilization monitoring products.\",\"federal\",\"agency action\",\"Food and Drug Administration\",\"civil\",\"\",\"\",\"\",\"\",\"\",\"California\",\"Irvine\",\"\",\"\",\"\",\"\",\"USA\",\"New Jersey\",\"publicly traded\",\"JNJ\",\"pharmaceuticals\",\"pharmaceuticals\",\"http://www.fda.gov/NewsEvents/Newsroom/PressAnnouncements/ucm377588.htm\",\"\"\\n\"Alere San Diego Inc.\",\"Abbott Laboratories\",\"$10,572\",\"$0\",\"$10,572\",\"2017\",\"20170309\",\"employment-related offenses\",\"wage and hour violation\",\"Fair Labor Standards Act\",\"\",\"federal\",\"agency action\",\"Labor Department Wage and Hour Division\",\"civil\",\"\",\"\",\"1813371\",\"\",\"\",\"California\",\"Pomona\",\"828 Towne Center Dr.\",\"91767\",\"\",\"\",\"USA\",\"Illinois\",\"publicly traded\",\"ABT\",\"pharmaceuticals\",\"pharmaceuticals\",\"July 23, 2017 download of a dataset posted by the Wage and Hour Division at https://enforcedata.dol.gov/views/data_summary.php\",\"Date and year are the Findings End Date in the dataset posted by the Wage and Hour Division, which does not provide case opening or closing dates. The company name is the Legal Name provided by the dataset unless that field is blank, in which case the Trade Name is used. The dataset provides only one address and does not indicate whether it is the company headquarters address or the establishment address. The penalty amount is the total of civil monetary penalties and mandated back wages. The original dataset provides a breakdown.\"\\n\"Allergan Inc.\",\"AbbVie\",\"$600,000,000\",\"$0\",\"$600,000,000\",\"2010\",\"20100901\",\"healthcare-related offenses\",\"off-label or unapproved promotion of medical products\",\"\",\"American pharmaceutical manufacturer Allergan Inc. has agreed to plead guilty and pay $600 million to resolve its criminal and civil liability arising from the company\\'s unlawful promotion of its biological product, Botox Therapeutic, for uses not approved as safe and effective by the Food and Drug Administration. The resolution included a criminal fine and forfeiture totaling $375 million and a civil settlement with the federal government and the states of $225 million.\",\"federal\",\"agency action\",\"Food and Drug Administration referral to the Justice Department\",\"civil and criminal\",\"\",\"\",\"\",\"\",\"\",\"\",\"\",\"\",\"\",\"\",\"\",\"USA\",\"Illinois\",\"publicly traded\",\"ABBV\",\"pharmaceuticals\",\"pharmaceuticals\",\"http://www.justice.gov/opa/pr/allergan-agrees-plead-guilty-and-pay-600-million-resolve-allegations-label-promotion-botox\",\"\"\\n\"Allergan Inc.\",\"AbbVie\",\"$15,000,000\",\"$0\",\"$15,000,000\",\"2017\",\"20170117\",\"financial offenses\",\"investor protection violation\",\"\",\"Allergan Inc. admitted securities law violations and agreed to pay a $15 million penalty for disclosure failures in the wake of a hostile takeover bid.\",\"federal\",\"agency action\",\"Securities and Exchange Commission\",\"civil\",\"\",\"\",\"\",\"\",\"\",\"\",\"\",\"\",\"\",\"\",\"\",\"USA\",\"Illinois\",\"publicly traded\",\"ABBV\",\"pharmaceuticals\",\"pharmaceuticals\",\"https://www.sec.gov/news/pressrelease/2017-16.html\",\"\"\\n\"Alpharma Inc.\",\"Pfizer\",\"$42,500,000\",\"$0\",\"$42,500,000\",\"2010\",\"20100316\",\"government-contracting-related offenses\",\"False Claims Act and related\",\"kickbacks and bribery\",\"Alpharma Inc. agreed to pay $42.5 million to resolve False Claims Act allegations in connection with the marketing of the morphine-based drug Kadian. The settlement resolved allegations that between January 1, 2000 and December 29, 2008 Alpharma paid health care providers to induce them to promote or prescribe Kadian, and made misrepresentations about the safety and efficacy of the drug. \",\"federal\",\"agency action\",\"Justice Department Civil Division\",\"civil\",\"\",\"\",\"\",\"\",\"\",\"\",\"\",\"\",\"\",\"\",\"\",\"USA\",\"New York\",\"publicly traded\",\"PFE\",\"pharmaceuticals\",\"pharmaceuticals\",\"https://www.justice.gov/opa/pr/alpharma-pay-425-million-resolve-false-claims-act-allegations-connection-promotion-drug\",\"\"\\n\"Alpharma, Inc.\",\"Pfizer\",\"$2,500,000\",\"$0\",\"$2,500,000\",\"2004\",\"20040812\",\"competition-related offenses\",\"price-fixing or anti-competitive practices\",\"consumer protection violation\",\"Generic drug manufacturers Alpharma Inc. and Perrigo Company agreed to give up a total of $6.25 million in illegal profits to settle Federal Trade Commission allegations that their agreement to limit competition for over-the-counter store-brand children\\'s liquid ibuprofen drove up prices and violated federal law.\",\"federal\",\"agency action\",\"Federal Trade Commission\",\"civil\",\"\",\"\",\"\",\"\",\"\",\"\",\"\",\"\",\"\",\"\",\"\",\"USA\",\"New York\",\"publicly traded\",\"PFE\",\"pharmaceuticals\",\"pharmaceuticals\",\"https://www.ftc.gov/news-events/press-releases/2004/08/generic-drug-marketers-settle-ftc-charges\",\"\"\\n\"American Pharmaceutical Partners, Inc.\",\"Bristol-Myers Squibb\",\"$160,203\",\"$0\",\"$160,203\",\"2004\",\"20041226\",\"employment-related offenses\",\"wage and hour violation\",\"Fair Labor Standards Act\",\"\",\"federal\",\"agency action\",\"Labor Department Wage and Hour Division\",\"civil\",\"\",\"\",\"1379241\",\"\",\"\",\"New York\",\"Grand Island\",\"\",\"14072\",\"32541\",\"32541: Pharmaceutical and Medicine Manufacturing\",\"USA\",\"New York\",\"publicly traded\",\"BMY\",\"pharmaceuticals\",\"pharmaceuticals\",\"March 7, 2017 download of a dataset posted by the Wage and Hour Division at https://enforcedata.dol.gov/views/data_summary.php\",\"Date and year are the Findings End Date in the dataset posted by the Wage and Hour Division, which does not provide case opening or closing dates. The company name is the Legal Name provided by the dataset unless that field is blank, in which case the Trade Name is used. The dataset provides only one address and does not indicate whether it is the company headquarters address or the establishment address. The penalty amount is the total of civil monetary penalties and mandated back wages. The original dataset provides a breakdown.\"\\n\"Amgen Inc.\",\"Amgen\",\"$762,000,000\",\"$0\",\"$762,000,000\",\"2012\",\"20121219\",\"healthcare-related offenses\",\"off-label or unapproved promotion of medical products\",\"\",\"U.S. District Judge Sterling Johnson, Jr. accepted a guilty plea by American biotechnology giant Amgen Inc. for illegally introducing a misbranded drug into interstate commerce. The plea is part of a global settlement with the United States in which Amgen agreed to pay $762 million to resolve criminal and civil liability arising from its sale and promotion of certain drugs.\",\"federal\",\"agency action\",\"Food and Drug Administration referral to the Justice Department\",\"civil and criminal\",\"\",\"\",\"\",\"\",\"\",\"\",\"\",\"\",\"\",\"\",\"\",\"USA\",\"California\",\"publicly traded\",\"AMGN\",\"pharmaceuticals\",\"pharmaceuticals\",\"http://www.justice.gov/opa/pr/amgen-inc-pleads-guilty-federal-charge-brooklyn-ny-pays-762-million-resolve-criminal\",\"\"\\n\"Amgen Inc.\",\"Amgen\",\"$24,900,000\",\"$0\",\"$24,900,000\",\"2013\",\"20130416\",\"government-contracting-related offenses\",\"False Claims Act and related\",\"kickbacks and bribery\",\"Amgen Inc. agreed to pay the United States $24.9 million to settle allegations that it violated the False Claims Act. The company was accused of paying kickbacks  to long-term care pharmacy providers Omnicare Inc., PharMerica Corporation and Kindred Healthcare Inc. in return for implementing \"\"therapeutic interchange\"\" programs that were designed to switch Medicare and Medicaid beneficiaries from a competitor drug to Amgen\\'s Aranesp.\",\"federal\",\"agency action\",\"Justice Department Civil Division\",\"civil\",\"\",\"\",\"\",\"\",\"\",\"\",\"\",\"\",\"\",\"\",\"\",\"USA\",\"California\",\"publicly traded\",\"AMGN\",\"pharmaceuticals\",\"pharmaceuticals\",\"https://www.justice.gov/opa/pr/amgen-pay-us-249-million-resolve-false-claims-act-allegations\",\"\"\\n\"Amgen, Inc.\",\"Amgen\",\"$40,000\",\"$0\",\"$40,000\",\"2011\",\"20110302\",\"employment-related offenses\",\"labor relations violation\",\"\",\"back pay award in unfair labor practices case\",\"federal\",\"agency action\",\"National Labor Relations Board\",\"civil\",\"\",\"\",\"14-CA-30273-001\",\"\",\"\",\"Missouri\",\"St. Louis\",\"\",\"63130\",\"541720\",\"541720: Research and Development in the Social Sciences and Humanities\",\"USA\",\"California\",\"publicly traded\",\"AMGN\",\"pharmaceuticals\",\"pharmaceuticals\",\"Extracted from an NLRB dataset covering 1999-2011 downloaded at https://catalog.data.gov/dataset/nlrb-cats-final-c-case-data-bulk-19990101-20110930-in-xml\",\"\"\\n\"Amneal Pharmaceuticals of NY, LLC\",\"Amneal Pharmaceuticals\",\"$99,000\",\"$0\",\"$99,000\",\"2015\",\"20150930\",\"employment-related offenses\",\"employment discrimination\",\"\",\"\",\"federal\",\"agency action\",\"Office of Federal Contract Compliance Programs\",\"civil\",\"\",\"\",\"\",\"\",\"\",\"\",\"\",\"\",\"\",\"\",\"\",\"USA\",\"New Jersey\",\"publicly traded\",\"AMRX\",\"pharmaceuticals\",\"pharmaceuticals\",\"https://www.dol.gov/ofccp/foia/files/AmnealPharmaceuticalsCA_Redacted.pdf\",\"\"\\n\"Astellas Pharma US Inc.\",\"Astellas Pharma\",\"$7,300,000\",\"$0\",\"$7,300,000\",\"2014\",\"20140416\",\"government-contracting-related offenses\",\"False Claims Act and related\",\"off-label or unapproved promotion of medical products\",\"Astellas Pharma US Inc. agreed to pay $7.3 million to resolve allegations that it violated the False Claims Act in connection with its marketing and promotion of the drug Mycamine for pediatric use, which had not received FDA approval.\",\"federal\",\"agency action\",\"Justice Department Civil Division\",\"civil\",\"\",\"\",\"\",\"\",\"\",\"\",\"\",\"\",\"\",\"\",\"\",\"Japan\",\"\",\"publicly traded\",\"\",\"pharmaceuticals\",\"pharmaceuticals\",\"https://www.justice.gov/opa/pr/astellas-pharma-us-inc-pay-73-million-resolve-false-claims-act-allegations-relating-marketing\",\"\"\\n\"AstraZeneca\",\"AstraZeneca\",\"$250,000\",\"$0\",\"$250,000\",\"2011\",\"20110606\",\"employment-related offenses\",\"employment discrimination\",\"\",\"AstraZeneca agreed to pay $250,000 to 124 women who allegedly were subjected to pay discrimination while working at the corporation\\'s Philadelphia Business Center in Wayne, Pa. The action resolved a lawsuit filed by the U.S. Department of Labor in May 2010 alleging that the company discriminated against female sales specialists by paying them salaries that were, on average, $1,700 less than their male counterparts. \",\"federal\",\"agency action\",\"Office of Federal Contract Compliance Programs\",\"civil\",\"\",\"\",\"\",\"\",\"\",\"Pennsylvania\",\"Wayne\",\"\",\"\",\"\",\"\",\"United Kingdom\",\"\",\"publicly traded\",\"LSE: AZN\",\"pharmaceuticals\",\"pharmaceuticals\",\"https://www.dol.gov/opa/media/press/ofccp/OFCCP20110829.htm\",\"\"\\n\"AstraZeneca LP\",\"AstraZeneca\",\"$520,000,000\",\"$0\",\"$520,000,000\",\"2010\",\"20100427\",\"healthcare-related offenses\",\"off-label or unapproved promotion of medical products\",\"\",\"AstraZeneca LP and AstraZeneca Pharmaceuticals LP will pay $520 million to resolve allegations that AstraZeneca illegally marketed the anti-psychotic drug Seroquel for uses not approved as safe and effective by the Food and Drug Administration, the Departments of Justice and Health and Human Services\\' Health Care Fraud Enforcement Action Team.\",\"federal\",\"agency action\",\"Food and Drug Administration referral to the Justice Department\",\"civil\",\"\",\"\",\"\",\"\",\"\",\"\",\"\",\"\",\"\",\"\",\"\",\"United Kingdom\",\"\",\"publicly traded\",\"LSE: AZN\",\"pharmaceuticals\",\"pharmaceuticals\",\"http://www.justice.gov/opa/pr/pharmaceutical-giant-astrazeneca-pay-520-million-label-drug-marketing\",\"\"\\n\"AstraZeneca LP\",\"AstraZeneca\",\"$46,500,000\",\"$0\",\"$46,500,000\",\"2015\",\"20150706\",\"government-contracting-related offenses\",\"False Claims Act and related\",\"\",\"AstraZeneca LP agreed to pay the United States and participating states a total of $46.5 million, plus interest, to resolve allegations that it knowingly underpaid rebates owed under the Medicaid Drug Rebate Program.\",\"federal\",\"agency action\",\"Justice Department Civil Division\",\"civil\",\"\",\"\",\"\",\"\",\"\",\"\",\"\",\"\",\"\",\"\",\"\",\"United Kingdom\",\"\",\"publicly traded\",\"LSE: AZN\",\"pharmaceuticals\",\"pharmaceuticals\",\"https://www.justice.gov/opa/pr/astrazeneca-and-cephalon-pay-465-million-and-75-million-respectively-allegedly-underpaying\",\"\"\\n\"AstraZeneca LP\",\"AstraZeneca\",\"$7,900,000\",\"$0\",\"$7,900,000\",\"2015\",\"20150211\",\"government-contracting-related offenses\",\"False Claims Act and related\",\"kickbacks and bribery\",\"AstraZeneca LP, a pharmaceutical manufacturer based in Delaware, agreed to pay the government $7.9 million to settle allegations that it engaged in a kickback scheme in violation of the False Claims Act.\",\"federal\",\"agency action\",\"Justice Department Civil Division\",\"civil\",\"\",\"\",\"\",\"\",\"\",\"\",\"\",\"\",\"\",\"\",\"\",\"United Kingdom\",\"\",\"publicly traded\",\"LSE: AZN\",\"pharmaceuticals\",\"pharmaceuticals\",\"https://www.justice.gov/opa/pr/astrazeneca-pay-79-million-resolve-kickback-allegations\",\"\"\\n\"AstraZeneca Pharmaceuticals\",\"AstraZeneca\",\"$2,600,000\",\"$0\",\"$2,600,000\",\"2009\",\"20091019\",\"government-contracting-related offenses\",\"False Claims Act and related\",\"\",\"Mylan Pharmaceuticals, UDL Laboratories, AstraZeneca Pharmaceuticals and Ortho McNeil Pharmaceutical entered into settlement agreements for a total of $124 million to resolve claims that they violated the False Claims Act by failing to pay appropriate rebates to state Medicaid programs for drugs paid for by those programs.\",\"federal\",\"agency action\",\"Justice Department Civil Division\",\"civil\",\"\",\"\",\"\",\"\",\"\",\"\",\"\",\"\",\"\",\"\",\"\",\"United Kingdom\",\"\",\"publicly traded\",\"LSE: AZN\",\"pharmaceuticals\",\"pharmaceuticals\",\"https://www.justice.gov/opa/pr/four-pharmaceutical-companies-pay-124-million-submission-false-claims-medicaid\",\"\"\\n\"AstraZeneca Pharmaceuticals LP\",\"AstraZeneca\",\"$354,900,000\",\"$0\",\"$354,900,000\",\"2003\",\"20030620\",\"government-contracting-related offenses\",\"False Claims Act and related\",\"\",\"AstraZeneca Pharmaceuticals LP pleaded guilty in federal district court in Wilmington, Delaware and agreed to pay $354.9 million to resolve criminal charges and civil liabilities in connection with its drug pricing and marketing practices with regard to Zoladex, a drug used primarily for the treatment of prostate cancer. AstraZeneca agreed to pay a criminal fine of $63.9 million as part of pleaded guilty to conspiring to violate the Prescription Drug Marketing Act by causing to be submitted claims for payment for the prescription of Zoladex which had been provided as free samples to urologists. AstraZeneca agreed to settle its federal civil False Claim Act liabilities and to pay the U.S. government $266.1 million to resolve allegations it caused false and fraudulent claims to be filed with the Medicare; another $24.9 million was to be paid to states to resolve similar claims concerning Medicaid.\",\"federal\",\"agency action\",\"Justice Department Civil Division\",\"civil and criminal\",\"\",\"\",\"\",\"\",\"\",\"\",\"\",\"\",\"\",\"\",\"\",\"United Kingdom\",\"\",\"publicly traded\",\"LSE: AZN\",\"pharmaceuticals\",\"pharmaceuticals\",\"https://www.justice.gov/archive/opa/pr/2003/June/03_civ_371.htm\",\"\"\\n\"AstraZeneca PLC\",\"AstraZeneca\",\"$5,522,000\",\"$0\",\"$5,522,000\",\"2016\",\"20160830\",\"competition-related offenses\",\"kickbacks and bribery\",\"\",\"\",\"federal\",\"agency action\",\"Securities and Exchange Commission\",\"civil\",\"\",\"\",\"\",\"\",\"\",\"\",\"\",\"\",\"\",\"\",\"\",\"United Kingdom\",\"\",\"publicly traded\",\"LSE: AZN\",\"pharmaceuticals\",\"pharmaceuticals\",\"https://www.sec.gov/litigation/admin/2016/34-78730.pdf\",\"\"\\n\"Aventis Pharmaceutical Inc.\",\"Sanofi\",\"$95,500,000\",\"$0\",\"$95,500,000\",\"2009\",\"20090528\",\"government-contracting-related offenses\",\"False Claims Act and related\",\"\",\"Aventis Pharmaceutical Inc. agreed to pay the United States $95.5 million to settle allegations that it violated the False Claims Act by misreporting drug prices in order to reduce its Medicaid Drug Rebate obligations.\",\"federal\",\"agency action\",\"Justice Department Civil Division\",\"civil\",\"\",\"\",\"\",\"\",\"\",\"\",\"\",\"\",\"\",\"\",\"\",\"France\",\"\",\"publicly traded\",\"\",\"pharmaceuticals\",\"pharmaceuticals\",\"https://www.justice.gov/opa/pr/aventis-pharmaceutical-pay-us-955-million-settle-false-claims-act-allegations\",\"\"\\n\"Aventis Pharmaceuticals Inc.\",\"Sanofi\",\"$190,000,000\",\"$0\",\"$190,000,000\",\"2007\",\"20070910\",\"government-contracting-related offenses\",\"False Claims Act and related\",\"fraud\",\"Aventis Pharmaceuticals Inc. paid the United States and a number of states, as well as the District of Columbia, over $190 million to resolve allegations that the company caused false claims to be filed with Medicare and other federal health programs as a result of the company\\'s alleged fraudulent pricing and marketing of drugs. Aventis, which changed its name to Sanofi-Aventis,  agreed to settle False Claims Act allegations concerning its pricing and marketing of Anzemet, an antiemetic drug used primarily in conjunction with oncology and radiation treatment to prevent nausea and vomiting. \",\"federal\",\"agency action\",\"Justice Department Civil Division\",\"civil\",\"\",\"\",\"\",\"\",\"\",\"\",\"\",\"\",\"\",\"\",\"\",\"France\",\"\",\"publicly traded\",\"\",\"pharmaceuticals\",\"pharmaceuticals\",\"https://www.justice.gov/archive/opa/pr/2007/September/07_civ_694.html\",\"\"\\n\"AVEO Pharmaceuticals Inc.\",\"AVEO Pharmaceuticals\",\"$4,000,000\",\"$0\",\"$4,000,000\",\"2016\",\"20160329\",\"financial offenses\",\"investor protection violation\",\"\",\"The SEC announced fraud charges against a Massachusetts-based biotech company and three former executives for misleading investors about the company\\'s efforts to obtain Food and Drug Administration approval for its flagship developmental drug to treat kidney cancer. The SEC alleged that AVEO Pharmaceuticals Inc. concealed the FDA\\'s level of concern about Tivozanib in public statements to investors by omitting the critical fact that FDA staff had recommended a second clinical trial to address their concerns about patient death rates during the first clinical trial.  When the FDA made public months later that it had recommended an additional clinical trial, the company\\'s stock price declined 31 percent.  AVEO never conducted an additional trial, and the FDA later refused to approve Tivozanib.\",\"federal\",\"agency action\",\"Securities and Exchange Commission\",\"civil\",\"\",\"\",\"\",\"\",\"\",\"\",\"\",\"\",\"\",\"\",\"\",\"USA\",\"Massachusetts\",\"publicly traded\",\"AVEO\",\"pharmaceuticals\",\"biopharmaceuticals\",\"https://www.sec.gov/news/pressrelease/2016-59.html\",\"\"\\n\"Biogen Idec Inc.\",\"Biogen Idec\",\"$6,934\",\"$0\",\"$6,934\",\"2005\",\"20050617\",\"employment-related offenses\",\"wage and hour violation\",\"Fair Labor Standards Act\",\"\",\"federal\",\"agency action\",\"Labor Department Wage and Hour Division\",\"civil\",\"\",\"\",\"1386927\",\"\",\"\",\"California\",\"San Diego\",\"\",\"92122\",\"541710\",\"541710: Research and Development in the Physical, Engineering, and Life Sciences\",\"USA\",\"Massachusetts\",\"publicly traded\",\"BIIB\",\"pharmaceuticals\",\"pharmaceuticals\",\"March 7, 2017 download of a dataset posted by the Wage and Hour Division at https://enforcedata.dol.gov/views/data_summary.php\",\"Date and year are the Findings End Date in the dataset posted by the Wage and Hour Division, which does not provide case opening or closing dates. The company name is the Legal Name provided by the dataset unless that field is blank, in which case the Trade Name is used. The dataset provides only one address and does not indicate whether it is the company headquarters address or the establishment address. The penalty amount is the total of civil monetary penalties and mandated back wages. The original dataset provides a breakdown.\"\\n\"Biogen Idec, Inc.\",\"Biogen Idec\",\"$49,600\",\"$0\",\"$49,600\",\"2009\",\"20090227\",\"employment-related offenses\",\"wage and hour violation\",\"Fair Labor Standards Act\",\"\",\"federal\",\"agency action\",\"Labor Department Wage and Hour Division\",\"civil\",\"\",\"\",\"1518333\",\"\",\"\",\"Massachusetts\",\"Cambridge\",\"\",\"02142\",\"325412\",\"325412: Pharmaceutical Preparation Manufacturing\",\"USA\",\"Massachusetts\",\"publicly traded\",\"BIIB\",\"pharmaceuticals\",\"pharmaceuticals\",\"March 7, 2017 download of a dataset posted by the Wage and Hour Division at https://enforcedata.dol.gov/views/data_summary.php\",\"Date and year are the Findings End Date in the dataset posted by the Wage and Hour Division, which does not provide case opening or closing dates. The company name is the Legal Name provided by the dataset unless that field is blank, in which case the Trade Name is used. The dataset provides only one address and does not indicate whether it is the company headquarters address or the establishment address. The penalty amount is the total of civil monetary penalties and mandated back wages. The original dataset provides a breakdown.\"\\n\"Biovail Corporation\",\"Bausch Health\",\"$10,000,000\",\"$0\",\"$10,000,000\",\"2008\",\"20080324\",\"financial offenses\",\"accounting fraud or deficiencies\",\"\",\"Biovail Corporation agreed to pay $10 million to settle allegations of engaging in a number of fraudulent accounting schemes and making a series of misstatements to analysts and investors.\",\"federal\",\"agency action\",\"Securities and Exchange Commission\",\"civil\",\"\",\"\",\"\",\"\",\"\",\"\",\"\",\"\",\"\",\"\",\"\",\"Canada\",\"\",\"publicly traded\",\"BHC\",\"pharmaceuticals\",\"pharmaceuticals\",\"https://www.sec.gov/news/press/2008/2008-50.htm\",\"\"\\n\"BIOVAIL AMERICAS CORP.\",\"Bausch Health\",\"$10,001\",\"$0\",\"$10,001\",\"2012\",\"20120607\",\"employment-related offenses\",\"benefit plan administrator violation\",\"\",\"Deficient Filer\",\"federal\",\"agency action\",\"Employee Benefits Security Administration\",\"civil\",\"\",\"\",\"\",\"\",\"\",\"New Jersey\",\"\",\"\",\"\",\"\",\"\",\"Canada\",\"\",\"publicly traded\",\"BHC\",\"pharmaceuticals\",\"pharmaceuticals\",\"Included in a dataset downloaded at https://enforcedata.dol.gov/views/data_summary.php\",\"Company is plan administrator. Penalty amount reported in range of $10,001 to $50,000. \"\\n\"Block Drug Company Incorporated\",\"GlaxoSmithKline\",\"$352,773\",\"$0\",\"$352,773\",\"2011\",\"20110801\",\"employment-related offenses\",\"wage and hour violation\",\"Fair Labor Standards Act\",\"\",\"federal\",\"agency action\",\"Labor Department Wage and Hour Division\",\"civil\",\"\",\"\",\"1599664\",\"\",\"\",\"Tennessee\",\"Memphis\",\"\",\"38113\",\"32541\",\"32541: Pharmaceutical and Medicine Manufacturing\",\"United Kingdom\",\"\",\"publicly traded\",\"LSE: GSK\",\"pharmaceuticals\",\"pharmaceuticals\",\"March 7, 2017 download of a dataset posted by the Wage and Hour Division at https://enforcedata.dol.gov/views/data_summary.php\",\"Date and year are the Findings End Date in the dataset posted by the Wage and Hour Division, which does not provide case opening or closing dates. The company name is the Legal Name provided by the dataset unless that field is blank, in which case the Trade Name is used. The dataset provides only one address and does not indicate whether it is the company headquarters address or the establishment address. The penalty amount is the total of civil monetary penalties and mandated back wages. The original dataset provides a breakdown.\"\\n\"Boehringer Ingelheim Pharmaceuticals Inc.\",\"Boehringer Ingelheim\",\"$95,000,000\",\"$0\",\"$95,000,000\",\"2012\",\"20121025\",\"healthcare-related offenses\",\"off-label or unapproved promotion of medical products\",\"\",\"Boehringer Ingelheim Pharmaceuticals Inc. agreed to pay $95 million to resolve allegations relating to the improper promotion of the stroke-prevention drug Aggrenox, the chronic obstructive pulmonary disease drugs Atrovent and Combivent, and the hypertension drug Micardis.\",\"federal\",\"agency action\",\"Food and Drug Administration referral to the Justice Department\",\"civil\",\"\",\"\",\"\",\"\",\"\",\"\",\"\",\"\",\"\",\"\",\"\",\"Germany\",\"\",\"privately held\",\"\",\"pharmaceuticals\",\"pharmaceuticals\",\"https://www.justice.gov/opa/pr/boehringer-ingelheim-pay-95-million-resolve-false-claims-act-allegations\",\"\"\\n\"Boehringer Ingelheim Pharmaceutical, Inc.\",\"Boehringer Ingelheim\",\"$50,000\",\"$0\",\"$50,000\",\"2004\",\"20040630\",\"employment-related offenses\",\"labor relations violation\",\"\",\"back pay award in unfair labor practices case\",\"federal\",\"agency action\",\"National Labor Relations Board\",\"civil\",\"\",\"\",\"34-CA-10778-001\",\"\",\"\",\"Connecticut\",\"Ridgefield\",\"\",\"06877\",\"325412\",\"325412: Pharmaceutical Preparation Manufacturing\",\"Germany\",\"\",\"privately held\",\"\",\"pharmaceuticals\",\"pharmaceuticals\",\"Extracted from an NLRB dataset covering 1999-2011 downloaded at https://catalog.data.gov/dataset/nlrb-cats-final-c-case-data-bulk-19990101-20110930-in-xml\",\"\"\\n\"Boehringer Ingelheim Vetmedica, Inc.\",\"Eli Lilly\",\"$300,000\",\"$0\",\"$300,000\",\"2011\",\"20111018\",\"environment-related offenses\",\"environmental violation\",\"\",\"Boehringer Ingelheim Vetmedica, Inc., (BIV), has agreed to pay a $300,000 civil penalty to the United States to settle a series of alleged violations of the federal Clean Air Act at its veterinary health products facility in St. Joseph, Mo.\",\"federal\",\"agency action\",\"Environmental Protection Agency\",\"civil\",\"\",\"\",\"\",\"\",\"\",\"Missouri\",\"St. Joseph\",\"\",\"\",\"\",\"\",\"USA\",\"Indiana\",\"publicly traded\",\"LLY\",\"pharmaceuticals\",\"pharmaceuticals\",\"https://archive.epa.gov/epapages/newsroom_archive/newsreleases/34cce24d8bf6c24f8525792d007785b9.html\",\"\"\\n\"Boehringer Ingelheim Vetmedica, Inc.\",\"Eli Lilly\",\"$68,475\",\"$0\",\"$68,475\",\"2012\",\"20120924\",\"environment-related offenses\",\"environmental violation\",\"\",\"Boehringer Ingelheim Vetmedica, Inc., a veterinary health products company, has agreed to pay a $68,475 civil penalty to the United States to settle a series of Resource Conservation and Recovery Act violations based on its mishandling of mercury waste in St. Joseph, Mo.\",\"federal\",\"agency action\",\"Environmental Protection Agency\",\"civil\",\"\",\"\",\"\",\"\",\"\",\"Missouri\",\"St. Joseph\",\"\",\"\",\"\",\"\",\"USA\",\"Indiana\",\"publicly traded\",\"LLY\",\"pharmaceuticals\",\"pharmaceuticals\",\"https://archive.epa.gov/epapages/newsroom_archive/newsreleases/efbee3de7fd92cab85257a830069d20f.html\",\"\"\\n\"Bristol-Myers Squibb\",\"Bristol-Myers Squibb\",\"$14,000,000\",\"$0\",\"$14,000,000\",\"2015\",\"20151005\",\"competition-related offenses\",\"Foreign Corrupt Practices Act\",\"\",\"\",\"federal\",\"agency action\",\"Securities and Exchange Commission\",\"civil\",\"\",\"\",\"\",\"\",\"\",\"\",\"\",\"\",\"\",\"\",\"\",\"USA\",\"New York\",\"publicly traded\",\"BMY\",\"pharmaceuticals\",\"pharmaceuticals\",\"https://www.sec.gov/news/pressrelease/2015-229.html\",\"\"\\n\"Bristol-Myers Squibb\",\"Bristol-Myers Squibb\",\"$3,650,000\",\"$0\",\"$3,650,000\",\"2008\",\"20080708\",\"environment-related offenses\",\"environmental violation\",\"\",\"Bristol-Myers Squibb agreed to reduce the output of ozone-depleting refrigerants at multiple industrial facilities around the country at a combined cost of $3.65 million in order to resolve violations of the Clean Air Act.\",\"federal\",\"agency action\",\"Justice Department Environment and Natural Resources Division\",\"civil\",\"\",\"\",\"\",\"\",\"\",\"\",\"\",\"\",\"\",\"\",\"\",\"USA\",\"New York\",\"publicly traded\",\"BMY\",\"pharmaceuticals\",\"pharmaceuticals\",\"https://www.justice.gov/archive/opa/pr/2008/July/08-enrd-591.html\",\"\"\\n\"Bristol-Myers Squibb\",\"Bristol-Myers Squibb\",\"$1,000,000\",\"$0\",\"$1,000,000\",\"2007\",\"20070530\",\"safety-related offenses\",\"drug or medical equipment safety violation\",\"\",\"Bristol-Myers Squibb Company agreed to plead guilty and pay a $1 million criminal fine for lying to the federal government about a patent deal involving a popular blood-thinning drug. The company\\'s actions allegedly  threatened to reduce competition for the drug Plavix that could have reduced the cost of blood-thinning drugs sold to heart attack, stroke and other patients.\",\"federal\",\"agency action\",\"Justice Department Antitrust Division\",\"criminal\",\"\",\"\",\"\",\"\",\"\",\"\",\"\",\"\",\"\",\"\",\"\",\"USA\",\"New York\",\"publicly traded\",\"BMY\",\"pharmaceuticals\",\"pharmaceuticals\",\"https://www.justice.gov/archive/atr/public/press_releases/2007/223634.htm\",\"\"\\n\"Bristol-Myers Squibb Company\",\"Bristol-Myers Squibb\",\"$2,100,000\",\"$0\",\"$2,100,000\",\"2009\",\"20090331\",\"consumer-protection-related offenses\",\"consumer protection violation\",\"\",\"Drug maker Bristol-Myers Squibb Company was fined $2.1 million for failing to inform the Federal Trade Commission of an agreement reached with Apotex, Inc. under which which Apotex agreed not to launch its generic version of Plavix for several years, and Bristol-Myers stated that it would not compete with Apotex during the first 180 days after Apotex did market its new generic drug.\",\"federal\",\"agency action\",\"Federal Trade Commission\",\"civil\",\"\",\"\",\"\",\"\",\"\",\"\",\"\",\"\",\"\",\"\",\"\",\"USA\",\"New York\",\"publicly traded\",\"BMY\",\"pharmaceuticals\",\"pharmaceuticals\",\"https://www.ftc.gov/news-events/press-releases/2009/03/bristol-myers-squibb-pay-21-million-penalty-failure-disclose\",\"\"\\n\"Bristol-Myers Squibb Company\",\"Bristol-Myers Squibb\",\"$515,000,000\",\"$0\",\"$515,000,000\",\"2007\",\"20070928\",\"healthcare-related offenses\",\"off-label or unapproved promotion of medical products\",\"kickbacks and bribery\",\"Bristol-Myers Squibb Company and its wholly owned subsidiary Apothecon, Inc. agreed to pay $515 million to resolve a broad array of civil allegations involving their drug marketing and pricing practices.\",\"federal\",\"agency action\",\"Justice Department Civil Division\",\"civil\",\"\",\"\",\"\",\"\",\"\",\"\",\"\",\"\",\"\",\"\",\"\",\"USA\",\"New York\",\"publicly traded\",\"BMY\",\"pharmaceuticals\",\"pharmaceuticals\",\"https://www.justice.gov/archive/opa/pr/2007/September/07_civ_782.html\",\"\"\\n\"Bristol-Myers Squibb Company\",\"Bristol-Myers Squibb\",\"$150,000,000\",\"$0\",\"$150,000,000\",\"2004\",\"20040804\",\"financial offenses\",\"accounting fraud or deficiencies\",\"\",\"Bristol-Myers Squibb Company agreed to pay $150 million to settle allegations that it perpetrated a fraudulent earnings management scheme by, among other things, selling excessive amounts of pharmaceutical products to its wholesalers ahead of demand, improperly recognizing revenue from $1.5 billion of such sales to its two largest wholesalers and using cookie jar reserves to meet its internal sales and earnings targets and analysts\\' earnings estimates.\",\"federal\",\"agency action\",\"Securities and Exchange Commission\",\"civil\",\"\",\"\",\"\",\"\",\"\",\"\",\"\",\"\",\"\",\"\",\"\",\"USA\",\"New York\",\"publicly traded\",\"BMY\",\"pharmaceuticals\",\"pharmaceuticals\",\"https://www.sec.gov/news/press/2004-105.htm\",\"\"\\n\"Bristol-Myers Squibb Medical Imaging, Inc.\",\"Bristol-Myers Squibb\",\"$16,200\",\"$0\",\"$16,200\",\"2004\",\"20041112\",\"competition-related offenses\",\"export control violation\",\"\",\"\",\"federal\",\"agency action\",\"Bureau of Industry and Security\",\"civil\",\"\",\"\",\"\",\"\",\"\",\"\",\"\",\"\",\"\",\"\",\"\",\"USA\",\"New York\",\"publicly traded\",\"BMY\",\"pharmaceuticals\",\"pharmaceuticals\",\"FOIA236\",\"Source document obtained through a Freedom of Information Act request to the agency.\"\\n\"CAMBRIDGE MAJOR LABORATORIES INC\",\"Alcami\",\"$18,560\",\"$0\",\"$18,560\",\"2006\",\"20060913\",\"safety-related offenses\",\"motor vehicle safety violation\",\"\",\"WI-2006-0168-US0586\",\"federal\",\"agency action\",\"Federal Motor Carrier Safety Administration\",\"civil\",\"\",\"\",\"\",\"\",\"\",\"Wisconsin\",\"GERMANTOWN\",\"\",\"\",\"\",\"\",\"USA\",\"North Carolina\",\"privately held\",\"\",\"pharmaceuticals\",\"pharmaceutical manufacturing services\",\"https://www.fmcsa.dot.gov/regulations/enforcement/national-listing-enforcement-cases-subject-name-closed-fiscal-year-2006-pdf\",\"Year is fiscal year. Date is closing date.\"\\n\"CAMBRIDGE MAJOR LABORATORIES INC\",\"Alcami\",\"$15,820\",\"$0\",\"$15,820\",\"2005\",\"20050922\",\"safety-related offenses\",\"motor vehicle safety violation\",\"\",\"WI-2005-0125-US0586\",\"federal\",\"agency action\",\"Federal Motor Carrier Safety Administration\",\"civil\",\"\",\"\",\"\",\"\",\"\",\"Wisconsin\",\"GERMANTOWN\",\"\",\"\",\"\",\"\",\"USA\",\"North Carolina\",\"privately held\",\"\",\"pharmaceuticals\",\"pharmaceutical manufacturing services\",\"https://www.fmcsa.dot.gov/regulations/enforcement/national-listing-enforcement-cases-subject-name-closed-fiscal-year-2005-pdf\",\"Year is fiscal year. Date is closing date.\"\\n\"Cephalon Inc\",\"Teva Pharmaceutical Industries\",\"$425,000,000\",\"$0\",\"$425,000,000\",\"2008\",\"20080929\",\"healthcare-related offenses\",\"off-label or unapproved promotion of medical products\",\"False Claims Act and related\",\"Cephalon Inc. agreed to enter a criminal plea and pay a $50 million criminal penalty and a $375 million civil settlement to resolve claims that it marketed three drugs for uses not approved by the Food and Drug Administration.\",\"federal\",\"agency action\",\"Justice Department Civil Division\",\"civil and criminal\",\"\",\"\",\"\",\"\",\"\",\"\",\"\",\"\",\"\",\"\",\"\",\"Israel\",\"\",\"publicly traded\",\"TEVA\",\"pharmaceuticals\",\"pharmaceuticals\",\"https://www.justice.gov/archive/opa/pr/2008/September/08-civ-860.html\",\"\"\\n\"Cephalon Inc.\",\"Teva Pharmaceutical Industries\",\"$7,500,000\",\"$0\",\"$7,500,000\",\"2015\",\"20150706\",\"government-contracting-related offenses\",\"False Claims Act and related\",\"\",\"Cephalon Inc. agreed to pay the United States and participating states a total of $7.5 million, plus interest, to resolve allegations that it knowingly underpaid rebates owed under the Medicaid Drug Rebate Program.\",\"federal\",\"agency action\",\"Justice Department Civil Division\",\"civil\",\"\",\"\",\"\",\"\",\"\",\"\",\"\",\"\",\"\",\"\",\"\",\"Israel\",\"\",\"publicly traded\",\"TEVA\",\"pharmaceuticals\",\"pharmaceuticals\",\"https://www.justice.gov/opa/pr/astrazeneca-and-cephalon-pay-465-million-and-75-million-respectively-allegedly-underpaying\",\"\"\\n\"Cephalon, Inc.\",\"Teva Pharmaceutical Industries\",\"$1,200,000,000\",\"$0\",\"$1,200,000,000\",\"2015\",\"20150528\",\"consumer-protection-related offenses\",\"consumer protection violation\",\"price-fixing or anti-competitive practices\",\"The Federal Trade Commission reached a settlement resolving a suit accusing Cephalon, Inc. of illegally blocking generic competition to its blockbuster sleep-disorder drug Provigil. The settlement ensures that Teva Pharmaceutical Industries, Ltd., which acquired Cephalon in 2012, will make a total of $1.2 billion available to compensate purchasers, including drug wholesalers, pharmacies, and insurers, who overpaid because of Cephalon\\'s illegal conduct.\",\"federal\",\"agency action\",\"Federal Trade Commission\",\"civil\",\"\",\"\",\"\",\"\",\"\",\"\",\"\",\"\",\"\",\"\",\"\",\"Israel\",\"\",\"publicly traded\",\"TEVA\",\"pharmaceuticals\",\"pharmaceuticals\",\"https://www.ftc.gov/news-events/press-releases/2015/05/ftc-settlement-cephalon-pay-delay-case-ensures-12-billion-ill\",\"\"\\n\"CHEROKEE PHARMACEUTICALS LLC\",\"Merck\",\"$10,001\",\"$0\",\"$10,001\",\"2011\",\"20110613\",\"employment-related offenses\",\"benefit plan administrator violation\",\"\",\"Deficient Filer\",\"federal\",\"agency action\",\"Employee Benefits Security Administration\",\"civil\",\"\",\"\",\"\",\"\",\"\",\"Pennsylvania\",\"\",\"\",\"\",\"\",\"\",\"USA\",\"New Jersey\",\"publicly traded\",\"MRK\",\"pharmaceuticals\",\"pharmaceuticals\",\"Included in a dataset downloaded at https://enforcedata.dol.gov/views/data_summary.php\",\"Company is plan administrator. Penalty amount reported in range of $10,001 to $50,000. \"\\n\"Chiron Corporation Ltd\",\"Novartis\",\"$168,500\",\"$0\",\"$168,500\",\"2004\",\"20040604\",\"financial offenses\",\"economic sanction violation\",\"\",\"\",\"federal\",\"agency action\",\"Office of Foreign Assets Control\",\"civil\",\"\",\"\",\"\",\"\",\"\",\"\",\"\",\"\",\"\",\"\",\"\",\"Switzerland\",\"\",\"publicly traded\",\"NYSE: NVS\",\"pharmaceuticals\",\"pharmaceuticals\",\"https://www.treasury.gov/resource-center/sanctions/OFAC-Enforcement/Documents/06042004.pdf\",\"\"\\n\"Cypress Pharmaceutical Inc.\",\"Currax Pharmaceuticals\",\"$2,800,000\",\"$0\",\"$2,800,000\",\"2012\",\"20120328\",\"healthcare-related offenses\",\"off-label or unapproved promotion of medical products\",\"\",\"Mississippi-based Cypress Pharmaceutical Inc., its subsidiary Hawthorn Pharmaceuticals Inc. and its CEO, Max Draughn, have agreed to pay $2.8 million to resolve civil allegations under the False Claims Act, the Justice Department announced. The government alleged that between 2003 and 2009, Cypress, Hawthorn and Draughn were responsible for marketing three pharmaceutical products that were not approved as safe and effective by the Food and Drug Administration (FDA). The products were Hylira, a gel used for the treatment of dry skin, Zaclir, an acne treatment and Zacare, another acne treatment.\",\"federal\",\"agency action\",\"Food and Drug Administration referral to the Justice Department\",\"civil\",\"\",\"\",\"\",\"\",\"\",\"\",\"\",\"\",\"\",\"\",\"\",\"USA\",\"New Jersey\",\"privately held\",\"\",\"pharmaceuticals\",\"pharmaceuticals\",\"http://www.justice.gov/opa/pr/mississippi-pharmaceutical-firm-and-ceo-pay-28-million-resolve-allegations-illegal-marketing\",\"\"\\n\"Daiichi Sankyo Inc.\",\"Daiichi Sankyo\",\"$39,000,000\",\"$0\",\"$39,000,000\",\"2015\",\"20150109\",\"government-contracting-related offenses\",\"False Claims Act and related\",\"kickbacks and bribery\",\"Daiichi Sankyo Inc., a global pharmaceutical company with its U.S. headquarters in New Jersey, agreed to pay the United States and state Medicaid programs $39 million to resolve allegations that it violated the False Claims Act by paying kickbacks to induce physicians to prescribe Daiichi drugs.\",\"federal\",\"agency action\",\"Justice Department Civil Division\",\"civil\",\"\",\"\",\"\",\"\",\"\",\"\",\"\",\"\",\"\",\"\",\"\",\"Japan\",\"\",\"publicly traded\",\"\",\"pharmaceuticals\",\"pharmaceuticals\",\"https://www.justice.gov/opa/pr/daiichi-sankyo-inc-agrees-pay-39-million-settle-kickback-allegations-under-false-claims-act\",\"\"\\n\"Dava Pharmaceuticals Inc.\",\"Endo International\",\"$11,000,000\",\"$0\",\"$11,000,000\",\"2012\",\"20120208\",\"government-contracting-related offenses\",\"False Claims Act and related\",\"\",\"Dava Pharmaceuticals Inc. agreed to pay the United States $11 million to settle allegations that it violated the False Claims Act by misreporting drug prices in order to reduce its Medicaid Drug Rebate obligations.\",\"federal\",\"agency action\",\"Justice Department Civil Division\",\"civil\",\"\",\"\",\"\",\"\",\"\",\"\",\"\",\"\",\"\",\"\",\"\",\"Ireland\",\"\",\"publicly traded\",\"ENDP\",\"pharmaceuticals\",\"pharmaceuticals\",\"https://www.justice.gov/opa/pr/dava-pharmaceuticals-pay-us-11-million-settle-false-claims-act-allegations\",\"\"\\n\"Dey Inc.\",\"Viatris\",\"$280,000,000\",\"$0\",\"$280,000,000\",\"2010\",\"20101220\",\"government-contracting-related offenses\",\"False Claims Act and related\",\"\",\"Dey Inc., Dey Pharma L.P. and Dey L.P. Inc. agreed to pay $280 million to settle False Claims Act allegations that they engaged in a scheme to report false and inflated prices for numerous pharmaceutical products, knowing that federal health care programs relied on those reported prices to set payment rates.\",\"federal\",\"agency action\",\"Justice Department Civil Division\",\"civil\",\"\",\"\",\"\",\"\",\"\",\"\",\"\",\"\",\"\",\"\",\"\",\"USA\",\"Pennsylvania\",\"publicly traded\",\"VTRS\",\"pharmaceuticals\",\"pharmaceuticals\",\"https://www.justice.gov/opa/pr/pharmaceutical-manufacturer-pay-280-million-settle-false-claims-act-case\",\"\"\\n\"Dey, Inc.\",\"Viatris\",\"$18,500,000\",\"$0\",\"$18,500,000\",\"2003\",\"20030611\",\"government-contracting-related offenses\",\"False Claims Act and related\",\"fraud\",\"Dey, Inc., a manufacturer of prescription drugs for the treatment of allergies and respiratory diseases, agreed to pay the United States and the state of Texas $18.5 million to settle allegations of health care fraud.\",\"federal\",\"agency action\",\"Justice Department Civil Division\",\"civil\",\"\",\"\",\"\",\"\",\"\",\"\",\"\",\"\",\"\",\"\",\"\",\"USA\",\"Pennsylvania\",\"publicly traded\",\"VTRS\",\"pharmaceuticals\",\"pharmaceuticals\",\"https://www.justice.gov/archive/opa/pr/2003/June/03_civ_350.htm\",\"\"\\n\"DuPont Pharmaceuticals Company\",\"Bristol-Myers Squibb\",\"$6,600\",\"$0\",\"$6,600\",\"2004\",\"20040806\",\"financial offenses\",\"economic sanction violation\",\"\",\"\",\"federal\",\"agency action\",\"Office of Foreign Assets Control\",\"civil\",\"\",\"\",\"\",\"\",\"\",\"\",\"\",\"\",\"\",\"\",\"\",\"USA\",\"New York\",\"publicly traded\",\"BMY\",\"pharmaceuticals\",\"pharmaceuticals\",\"https://www.treasury.gov/resource-center/sanctions/OFAC-Enforcement/Documents/08062004.pdf\",\"\"\\n\"Eisai Inc.\",\"Eisai\",\"$11,000,000\",\"$0\",\"$11,000,000\",\"2010\",\"20101215\",\"healthcare-related offenses\",\"off-label or unapproved promotion of medical products\",\"\",\"Irish pharmaceutical manufacturer Elan Corporation PLC and its U.S. subsidiary Elan Pharmaceuticals Inc. agreed to pay more than $203 million to resolve criminal and civil liability arising from the illegal promotion of the epilepsy drug Zonegran. In a separate civil settlement, Japanese drug marketer Eisai Inc., which purchased the drug from Elan, will pay $11 million to resolve civil liability for off-label marketing of Zonegran.\",\"federal\",\"agency action\",\"Food and Drug Administration referral to the Justice Department\",\"civil and criminal\",\"\",\"\",\"\",\"\",\"\",\"\",\"\",\"\",\"\",\"\",\"\",\"Japan\",\"\",\"publicly traded\",\"\",\"pharmaceuticals\",\"pharmaceuticals\",\"http://www.justice.gov/opa/pr/pharmaceutical-companies-pay-2145-million-resolve-allegations-label-promotion-zonegran\",\"\"\\n\"Elan Pharmaceuticals Inc.\",\"Perrigo\",\"$31,000\",\"$0\",\"$31,000\",\"2005\",\"20050620\",\"competition-related offenses\",\"export control violation\",\"\",\"\",\"federal\",\"agency action\",\"Bureau of Industry and Security\",\"civil\",\"\",\"\",\"\",\"\",\"\",\"\",\"\",\"\",\"\",\"\",\"\",\"Ireland\",\"\",\"publicly traded\",\"PRGO\",\"pharmaceuticals\",\"pharmaceuticals\",\"FOIA204\",\"Source document obtained through a Freedom of Information Act request to the agency.\"\\n\"Elan Corporation PLC\",\"Perrigo\",\"$203,000,000\",\"$0\",\"$203,000,000\",\"2010\",\"20101215\",\"healthcare-related offenses\",\"off-label or unapproved promotion of medical products\",\"\",\"Irish pharmaceutical manufacturer Elan Corporation PLC and its U.S. subsidiary Elan Pharmaceuticals Inc. agreed to pay more than $203 million to resolve criminal and civil liability arising from the illegal promotion of the epilepsy drug Zonegran. In a separate civil settlement, Japanese drug marketer Eisai Inc., which purchased the drug from Elan, will pay $11 million to resolve civil liability for off-label marketing of Zonegran.\",\"federal\",\"agency action\",\"Food and Drug Administration referral to the Justice Department\",\"civil and criminal\",\"\",\"\",\"\",\"\",\"\",\"\",\"\",\"\",\"\",\"\",\"\",\"Ireland\",\"\",\"publicly traded\",\"PRGO\",\"pharmaceuticals\",\"pharmaceuticals\",\"http://www.justice.gov/opa/pr/pharmaceutical-companies-pay-2145-million-resolve-allegations-label-promotion-zonegran\",\"\"\\n\"Elan Corporation, plc\",\"Perrigo\",\"$15,000,000\",\"$0\",\"$15,000,000\",\"2005\",\"20050208\",\"financial offenses\",\"accounting fraud or deficiencies\",\"\",\"\",\"federal\",\"agency action\",\"Securities and Exchange Commission\",\"civil\",\"\",\"\",\"\",\"\",\"\",\"\",\"\",\"\",\"\",\"\",\"\",\"Ireland\",\"\",\"publicly traded\",\"PRGO\",\"pharmaceuticals\",\"pharmaceuticals\",\"https://www.sec.gov/litigation/litreleases/lr19066.htm\",\"\"\\n\"Eli Lilly and Company\",\"Eli Lilly\",\"$1,415,000,000\",\"$0\",\"$1,415,000,000\",\"2009\",\"20090115\",\"healthcare-related offenses\",\"off-label or unapproved promotion of medical products\",\"\",\"Eli Lilly and Company agreed to plead guilty and pay $1.415 billion for promoting its drug Zyprexa for uses not approved by the Food and Drug Administration. This resolution included a criminal fine of $515 million, the forfeiture of $100 million in assets, and up to $800 million in a civil settlement with the federal government and the states.\",\"federal\",\"agency action\",\"Justice Department Civil Division\",\"civil and criminal\",\"\",\"\",\"\",\"\",\"\",\"\",\"\",\"\",\"\",\"\",\"\",\"USA\",\"Indiana\",\"publicly traded\",\"LLY\",\"pharmaceuticals\",\"pharmaceuticals\",\"https://www.justice.gov/opa/pr/eli-lilly-and-company-agrees-pay-1415-billion-resolve-allegations-label-promotion-zyprexa\",\"\"\\n\"Eli Lilly and Company\",\"Eli Lilly\",\"$36,000,000\",\"$0\",\"$36,000,000\",\"2005\",\"20051221\",\"healthcare-related offenses\",\"off-label or unapproved promotion of medical products\",\"\",\"Eli Lilly and Company agreed to plead guilty and to pay $36 million in connection with its illegal promotion of its pharmaceutical drug Evista.\",\"federal\",\"agency action\",\"Justice Department Criminal Division\",\"criminal\",\"\",\"\",\"\",\"\",\"\",\"\",\"\",\"\",\"\",\"\",\"\",\"USA\",\"Indiana\",\"publicly traded\",\"LLY\",\"pharmaceuticals\",\"pharmaceuticals\",\"https://www.justice.gov/archive/opa/pr/2005/December/05_civ_685.html\",\"\"\\n\"Eli Lilly and Company\",\"Eli Lilly\",\"$29,398,734\",\"$0\",\"$29,398,734\",\"2012\",\"20121220\",\"competition-related offenses\",\"Foreign Corrupt Practices Act\",\"\",\"\",\"federal\",\"agency action\",\"Securities and Exchange Commission\",\"civil\",\"\",\"\",\"\",\"\",\"\",\"\",\"\",\"\",\"\",\"\",\"\",\"USA\",\"Indiana\",\"publicly traded\",\"LLY\",\"pharmaceuticals\",\"pharmaceuticals\",\"https://www.sec.gov/News/PressRelease/Detail/PressRelease/1365171487116\",\"\"\\n\"EMD CHEMICALS INCORPORATED\",\"Merck KGaA (EMD)\",\"$13,170\",\"$0\",\"$13,170\",\"2004\",\"20041229\",\"safety-related offenses\",\"motor vehicle safety violation\",\"\",\"OH-2004-0250-US0482\",\"federal\",\"agency action\",\"Federal Motor Carrier Safety Administration\",\"civil\",\"\",\"\",\"\",\"\",\"\",\"Ohio\",\"CINCINNATI\",\"\",\"\",\"\",\"\",\"Germany\",\"\",\"publicly traded\",\"\",\"pharmaceuticals\",\"pharmaceuticals\",\"https://www.fmcsa.dot.gov/regulations/enforcement/national-listing-enforcement-cases-subject-name-closed-fiscal-year-2005-pdf\",\"\"\\n\"EMD CHEMICALS INCORPORATED\",\"Merck KGaA (EMD)\",\"$7,614\",\"$0\",\"$7,614\",\"2006\",\"20060523\",\"safety-related offenses\",\"motor vehicle safety violation\",\"\",\"OH-2006-0107-US0482\",\"federal\",\"agency action\",\"Federal Motor Carrier Safety Administration\",\"civil\",\"\",\"\",\"\",\"\",\"\",\"Ohio\",\"CINCINNATI\",\"\",\"\",\"\",\"\",\"Germany\",\"\",\"publicly traded\",\"\",\"pharmaceuticals\",\"pharmaceuticals\",\"https://www.fmcsa.dot.gov/regulations/enforcement/national-listing-enforcement-cases-subject-name-closed-fiscal-year-2006-pdf\",\"Year is fiscal year. Date is closing date.\"\\n\"EMD Chemicals, Inc.\",\"Merck KGaA (EMD)\",\"$8,250\",\"$0\",\"$8,250\",\"2007\",\"20070202\",\"financial offenses\",\"economic sanction violation\",\"\",\"\",\"federal\",\"agency action\",\"Office of Foreign Assets Control\",\"civil\",\"\",\"\",\"\",\"\",\"\",\"\",\"\",\"\",\"\",\"\",\"\",\"Germany\",\"\",\"publicly traded\",\"\",\"pharmaceuticals\",\"pharmaceuticals\",\"https://www.treasury.gov/resource-center/sanctions/OFAC-Enforcement/Documents/02022007.pdf\",\"\"\\n\"EMD Chemicals, Inc.\",\"Merck KGaA (EMD)\",\"$44,000\",\"$0\",\"$44,000\",\"2007\",\"20070309\",\"competition-related offenses\",\"export control violation\",\"\",\"\",\"federal\",\"agency action\",\"Bureau of Industry and Security\",\"civil\",\"\",\"\",\"\",\"\",\"\",\"\",\"\",\"\",\"\",\"\",\"\",\"Germany\",\"\",\"publicly traded\",\"\",\"pharmaceuticals\",\"pharmaceuticals\",\"https://efoia.bis.doc.gov/index.php/component/docman/?task=doc_download&gid=341&Itemid=\",\"\"\\n\"EMD Millipore Corp.\",\"Merck KGaA (EMD)\",\"$385,000\",\"$0\",\"$385,000\",\"2017\",\"20170206\",\"environment-related offenses\",\"environmental violation\",\"\",\"Under the terms of a Consent Decree lodged in federal court, EMD Millipore Corp. of Jaffrey, N.H., agreed to upgrade its on-site wastewater treatment system to comply with the terms of the company\\'s industrial wastewater discharge permit and prevent pretreatment violations of the federal Clean Water Act (CWA). The company also agreed to pay a civil penalty of $385,000 for alleged violations of the CWA.\",\"federal\",\"agency action\",\"Environmental Protection Agency referral to the Justice Department\",\"civil\",\"\",\"\",\"\",\"\",\"\",\"New Hampshire\",\"Jaffrey\",\"\",\"\",\"\",\"\",\"Germany\",\"\",\"publicly traded\",\"\",\"pharmaceuticals\",\"pharmaceuticals\",\"https://www.epa.gov/enforcement/reference-news-release-jaffrey-nh-facility-upgrade-its-wastewater-treatment-systems\",\"\"\\n\"EMD Millipore Corporation\",\"Merck KGaA (EMD)\",\"$2,681,500\",\"$0\",\"$2,681,500\",\"2013\",\"20130731\",\"environment-related offenses\",\"environmental violation\",\"\",\"EMD Millipore Corporation, of Billerica, Mass., has agreed to pay $2,681,500 in civil penalties to settle EPA allegations that it violated the federal pesticide law and regulations on numerous instances over many years.\",\"federal\",\"agency action\",\"Environmental Protection Agency\",\"civil\",\"\",\"\",\"\",\"\",\"\",\"Massachusetts\",\"Billerica\",\"\",\"\",\"\",\"\",\"Germany\",\"\",\"publicly traded\",\"\",\"pharmaceuticals\",\"pharmaceuticals\",\"https://archive.epa.gov/epapages/newsroom_archive/newsreleases/ce0d13ac337fe52685257bb900603f21.html\",\"\"\\n\"Endo Health Solutions Inc.\",\"Endo International\",\"$192,700,000\",\"$0\",\"$192,700,000\",\"2014\",\"20140221\",\"healthcare-related offenses\",\"off-label or unapproved promotion of medical products\",\"\",\"Pharmaceutical company Endo Health Solutions Inc. and its subsidiary Endo Pharmaceuticals Inc. agreed to pay $192.7 million to resolve criminal and civil liability arising from Endo\\'s marketing of the prescription drug Lidoderm for uses not approved as safe and effective by the Food and Drug Administration. The resolution included a deferred prosecution agreement and forfeiture totaling $20.8 million and civil false claims settlements with the federal government and the states and the District of Columbia totaling $171.9 million. \",\"federal\",\"agency action\",\"Food and Drug Administration referral to the Justice Department\",\"civil and criminal\",\"deferred prosecution agreement\",\"\",\"\",\"\",\"\",\"\",\"\",\"\",\"\",\"\",\"\",\"Ireland\",\"\",\"publicly traded\",\"ENDP\",\"pharmaceuticals\",\"pharmaceuticals\",\"http://www.justice.gov/opa/pr/endo-pharmaceuticals-and-endo-health-solutions-pay-1927-million-resolve-criminal-and-civil\",\"\"\\n\"Endo Pharmaceuticals Inc. and Vintage Pharmaceuticals, LLC d/b/a Qualitest Pharmaceuticals\",\"Endo International\",\"$39,000,000\",\"$0\",\"$39,000,000\",\"2015\",\"20151216\",\"safety-related offenses\",\"drug or medical equipment safety violation\",\"fraud\",\"The United States Attorney for the Southern District of New York and the Office of Inspector General for the Department of Health and Human Services announced a $39 million settlement against Vintage Pharmaceuticals, LLC d/b/a Qualitest Pharmaceuticals and  Vintage\\'s corporate parent Endo Pharmaceuticals, Inc. in a civil fraud lawsuit.\",\"federal\",\"agency action\",\"U.S. Attorney-Southern District of New York\",\"civil\",\"\",\"\",\"\",\"\",\"\",\"\",\"\",\"\",\"\",\"\",\"\",\"Ireland\",\"\",\"publicly traded\",\"ENDP\",\"pharmaceuticals\",\"pharmaceuticals\",\"https://www.justice.gov/usao-sdny/pr/manhattan-us-attorney-announces-39-million-civil-fraud-settlement-against-qualitest\",\"\"\\n\"Eon Labs Inc.\",\"Novartis\",\"$3,500,000\",\"$0\",\"$3,500,000\",\"2010\",\"20100222\",\"government-contracting-related offenses\",\"False Claims Act and related\",\"\",\"Eon Labs Inc. agreed to pay the United States $3.5 million to resolve False Claims Act allegations relating to the company\\'s drug Nitroglycerin Sustained Release (SR) capsules.\",\"federal\",\"agency action\",\"Justice Department Civil Division\",\"civil\",\"\",\"\",\"\",\"\",\"\",\"\",\"\",\"\",\"\",\"\",\"\",\"Switzerland\",\"\",\"publicly traded\",\"NYSE: NVS\",\"pharmaceuticals\",\"pharmaceuticals\",\"https://www.justice.gov/opa/pr/eon-labs-pays-us-35-million-settle-allegations-submitting-false-claims-medicaid\",\"\"\\n\"Ethex Corporation\",\"KV Pharmaceutical\",\"$27,600,000\",\"$0\",\"$27,600,000\",\"2010\",\"20100302\",\"safety-related offenses\",\"drug or medical equipment safety violation\",\"\",\"Ethex Corporation, a wholly owned subsidiary of St. Louis-based drug manufacturer, KV Pharmaceutical Company, pleaded guilty to two felonies and was sentenced in connection with the manufacturing of oversized prescription drug tablets. The government had charged that, despite having knowledge that the two drugs did not meet required specifications, Ethex violated the law by intentionally withholding this information from the Food and Drug Administration (FDA). Given the seriousness of Ethex\\'s conduct and the risk it posed to consumers of its drugs, the Justice Department pursued felony charges. According to charges presented in U.S. District Court in St. Louis, Ethex failed to submit required \"\"field alert reports\"\" to the FDA in 2008 concerning two drugs, propafenone and dextroamphetamine sulfate.  Following the recommendations of a plea agreement, Judge E. Richard Webber sentenced Ethex to pay a fine of more than $23.4 million, pay approximately $2.3 million in restitution to Medicare and Medicaid for their approximate losses, and forfeit nearly $1.8 million to the United States.\",\"federal\",\"agency action\",\"Food and Drug Administration referral to the Justice Department\",\"criminal\",\"\",\"\",\"\",\"\",\"\",\"\",\"\",\"\",\"\",\"\",\"\",\"USA\",\"Missouri\",\"out of business\",\"\",\"pharmaceuticals\",\"pharmaceuticals\",\"http://www.justice.gov/opa/pr/kv-pharmaceutical-subsidiary-pleads-guilty-two-felonies-regarding-oversized-drugs\",\"\"\\n\"ExecuPharm, Inc.\",\"Parexel International\",\"$5,900\",\"$0\",\"$5,900\",\"2017\",\"20170401\",\"employment-related offenses\",\"Family and Medical Leave Act\",\"\",\"\",\"federal\",\"agency action\",\"Labor Department Wage and Hour Division\",\"civil\",\"\",\"\",\"1808162\",\"\",\"\",\"Pennsylvania\",\"King of Prussia\",\"610 Freedom Business Center Suite 200\",\"19406\",\"\",\"\",\"USA\",\"Massachusetts\",\"privately held\",\"\",\"pharmaceuticals\",\"pharmaceuticals\",\"July 23, 2017 download of a dataset posted by the Wage and Hour Division at https://enforcedata.dol.gov/views/data_summary.php\",\"Date and year are the Findings End Date in the dataset posted by the Wage and Hour Division, which does not provide case opening or closing dates. The company name is the Legal Name provided by the dataset unless that field is blank, in which case the Trade Name is used. The dataset provides only one address and does not indicate whether it is the company headquarters address or the establishment address. The penalty amount is the total of civil monetary penalties and mandated back wages. The original dataset provides a breakdown.\"\\n\"Forest Laboratories and Forest Pharmaceuticals\",\"AbbVie\",\"$38,000,000\",\"$0\",\"$38,000,000\",\"2016\",\"20161215\",\"government-contracting-related offenses\",\"False Claims Act and related\",\"kickbacks and bribery\",\"Forest Laboratories LLC, located in New York, New York, and its subsidiary, Forest Pharmaceuticals Inc., agreed to pay $38 million to resolve allegations that they violated the False Claims Act by paying kickbacks to induce physicians to prescribe the drugs Bystolic, Savella, and Namenda.\",\"federal\",\"agency action\",\"Justice Department Civil Division\",\"civil\",\"\",\"\",\"\",\"\",\"\",\"\",\"\",\"\",\"\",\"\",\"\",\"USA\",\"Illinois\",\"publicly traded\",\"ABBV\",\"pharmaceuticals\",\"pharmaceuticals\",\"https://www.justice.gov/opa/pr/forest-laboratories-and-forest-pharmaceuticals-pay-38-million-resolve-kickback-allegations\",\"\"\\n\"Forest Pharmaceuticals Inc.\",\"AbbVie\",\"$164,000,000\",\"$0\",\"$164,000,000\",\"2011\",\"20110302\",\"healthcare-related offenses\",\"off-label or unapproved promotion of medical products\",\"\",\"Drug manufacturer Forest Pharmaceuticals Inc. was sentenced by U.S. District Judge Nancy Gertner to pay a criminal fine of $150 million and forfeit assets of $14 million following the company\\'s guilty plea in November 2010 to one felony count of obstructing justice, one misdemeanor count of distributing an unapproved new drug in interstate commerce and one misdemeanor count of distributing a misbranded drug in interstate commerce, the Justice Department announced. The company, a subsidiary of New York City-based Forest Laboratories Inc., pleaded guilty to charges related to obstruction of an FDA regulatory inspection, to the distribution of Levothroid, which at the time was an unapproved new drug, and to the illegal promotion of the anti-depressant drug Celexa for use in treating children and adolescents.\",\"federal\",\"agency action\",\"Food and Drug Administration referral to the Justice Department\",\"civil and criminal\",\"\",\"\",\"\",\"\",\"\",\"\",\"\",\"\",\"\",\"\",\"\",\"USA\",\"Illinois\",\"publicly traded\",\"ABBV\",\"pharmaceuticals\",\"pharmaceuticals\",\"http://www.justice.gov/opa/pr/forest-pharmaceuticals-sentenced-pay-164-million-criminal-violations\",\"\"\\n\"Fort Dodge Animal Health\",\"Zoetis\",\"$26,956\",\"$0\",\"$26,956\",\"2004\",\"20041105\",\"financial offenses\",\"economic sanction violation\",\"\",\"\",\"federal\",\"agency action\",\"Office of Foreign Assets Control\",\"civil\",\"\",\"\",\"\",\"\",\"\",\"\",\"\",\"\",\"\",\"\",\"\",\"USA\",\"New Jersey\",\"publicly traded\",\"ZTS\",\"pharmaceuticals\",\"animal health products\",\"https://www.treasury.gov/resource-center/sanctions/OFAC-Enforcement/Documents/11052004.pdf\",\"\"\\n\"Galena Biopharma, Inc.\",\"SELLAS Life Sciences Group\",\"$200,000\",\"$0\",\"$200,000\",\"2017\",\"20170410\",\"financial offenses\",\"accounting fraud or deficiencies\",\"\",\"\",\"federal\",\"agency action\",\"Securities and Exchange Commission\",\"civil\",\"\",\"\",\"\",\"\",\"\",\"\",\"\",\"\",\"\",\"\",\"\",\"USA\",\"New York\",\"publicly traded\",\"SLS\",\"pharmaceuticals\",\"pharmaceuticals\",\"https://www.sec.gov/litigation/admin/2017/33-10337.pdf\",\"\"\\n\"Genentech Inc.\",\"Roche\",\"$33,500,000\",\"$0\",\"$33,500,000\",\"2016\",\"20160606\",\"government-contracting-related offenses\",\"False Claims Act and related\",\"\",\"Pharmaceutical companies Genentech Inc. and OSI Pharmaceuticals LLC agreed to pay $67 million to resolve False Claims Act allegations that they made misleading statements about the effectiveness of the drug Tarceva to treat non-small cell lung cancer. The announcement did not indicate how much each company would pay. Here we assume the total was split evenly between them.\",\"federal\",\"agency action\",\"Justice Department Civil Division\",\"civil\",\"\",\"\",\"\",\"\",\"\",\"\",\"\",\"\",\"\",\"\",\"\",\"Switzerland\",\"\",\"publicly traded\",\"\",\"pharmaceuticals\",\"pharmaceuticals\",\"https://www.justice.gov/opa/pr/pharmaceutical-companies-pay-67-million-resolve-false-claims-act-allegations-relating-tarceva\",\"\"\\n\"Genzyme Corp.\",\"Sanofi\",\"$22,280,000\",\"$0\",\"$22,280,000\",\"2013\",\"20131220\",\"government-contracting-related offenses\",\"False Claims Act and related\",\"\",\"Genzyme Corp. agreed to pay $22.28 million to resolve allegations that it marketed, and caused false claims to be submitted to federal and state health care programs for use of, a \"\"slurry\"\" version of its Seprafilm adhesion barrier.\",\"federal\",\"agency action\",\"Justice Department Civil Division\",\"civil\",\"\",\"\",\"\",\"\",\"\",\"\",\"\",\"\",\"\",\"\",\"\",\"France\",\"\",\"publicly traded\",\"\",\"pharmaceuticals\",\"pharmaceuticals\",\"https://www.justice.gov/opa/pr/genzyme-corp-pay-2228-million-resolve-false-claims-allegations-related-slurry-used-patients\",\"\"\\n\"Genzyme Corporation\",\"Sanofi\",\"$32,587,439\",\"$0\",\"$32,587,439\",\"2015\",\"20150903\",\"safety-related offenses\",\"drug or medical equipment safety violation\",\"\",\"Genzyme Corporation, a wholly-owned biotechnology subsidiary of French pharmaceutical company Sanofi, agreed to resolve criminal charges that it violated the federal Food, Drug and Cosmetic Act with regard to the unlawful distribution of Seprafilm, a surgical device it marketed and promoted. As part of the agreed resolution, the department filed a two-count criminal information in the U.S. District Court for the Middle District of Florida charging that between 2005 and 2010, Genzyme caused a medical device to become adulterated and misbranded while being held for sale.  The conduct occurred prior to Sanofi\\'s acquisition of Genzyme, based in Cambridge, Massachusetts, in 2011.  To resolve these charges, Genzyme agreed to'"
      ]
     },
     "execution_count": 15,
     "metadata": {},
     "output_type": "execute_result"
    }
   ],
   "source": [
    "# Displaying the first few lines of the file 'pharma'\n",
    "dbutils.fs.head('FileStore/tables/pharma')"
   ]
  },
  {
   "cell_type": "code",
   "execution_count": 0,
   "metadata": {
    "application/vnd.databricks.v1+cell": {
     "cellMetadata": {
      "byteLimit": 2048000,
      "rowLimit": 10000
     },
     "inputWidgets": {},
     "nuid": "6dbb6094-a3fc-4290-a45c-73735ccba661",
     "showTitle": false,
     "title": ""
    }
   },
   "outputs": [
    {
     "output_type": "execute_result",
     "data": {
      "text/plain": [
       "['\"Company\",\"Parent_Company\",\"Penalty_Amount\",\"Subtraction_From_Penalty\",\"Penalty_Amount_Adjusted_For_Eliminating_Multiple_Counting\",\"Penalty_Year\",\"Penalty_Date\",\"Offense_Group\",\"Primary_Offense\",\"Secondary_Offense\",\"Description\",\"Level_of_Government\",\"Action_Type\",\"Agency\",\"Civil/Criminal\",\"Prosecution_Agreement\",\"Court\",\"Case_ID\",\"Private_Litigation_Case_Title\",\"Lawsuit_Resolution\",\"Facility_State\",\"City\",\"Address\",\"Zip\",\"NAICS_Code\",\"NAICS_Translation\",\"HQ_Country_of_Parent\",\"HQ_State_of_Parent\",\"Ownership_Structure\",\"Parent_Company_Stock_Ticker\",\"Major_Industry_of_Parent\",\"Specific_Industry_of_Parent\",\"Info_Source\",\"Notes\"',\n",
       " '\"Abbott Laboratories\",\"Abbott Laboratories\",\"$5,475,000\",\"$0\",\"$5,475,000\",\"2013\",\"20131227\",\"government-contracting-related offenses\",\"False Claims Act and related\",\"kickbacks and bribery\",\"Abbott Laboratories agreed to $5.475 million to resolve allegations that it violated the False Claims Act by paying kickbacks to induce doctors to implant the company\\'s carotid, biliary and peripheral vascular products.\",\"federal\",\"agency action\",\"Justice Department Civil Division\",\"civil\",\"\",\"\",\"\",\"\",\"\",\"\",\"\",\"\",\"\",\"\",\"\",\"USA\",\"Illinois\",\"publicly traded\",\"ABT\",\"pharmaceuticals\",\"pharmaceuticals\",\"https://www.justice.gov/opa/pr/abbott-laboratories-pays-us-5475-million-settle-claims-company-paid-kickbacks-physicians\",\"\"']"
      ]
     },
     "execution_count": 16,
     "metadata": {},
     "output_type": "execute_result"
    }
   ],
   "source": [
    "# Reading data from the file 'pharma'\n",
    "myrdd5 = sc.textFile('/FileStore/tables/pharma')\n",
    "myrdd5.take(2)"
   ]
  },
  {
   "cell_type": "code",
   "execution_count": 0,
   "metadata": {
    "application/vnd.databricks.v1+cell": {
     "cellMetadata": {
      "byteLimit": 2048000,
      "rowLimit": 10000
     },
     "inputWidgets": {},
     "nuid": "a19cf41d-fe8c-49ef-b967-6806aa6e4118",
     "showTitle": false,
     "title": ""
    }
   },
   "outputs": [
    {
     "output_type": "execute_result",
     "data": {
      "text/plain": [
       "['Company,Parent_Company,Penalty_Amount,Subtraction_From_Penalty,Penalty_Amount_Adjusted_For_Eliminating_Multiple_Counting,Penalty_Year,Penalty_Date,Offense_Group,Primary_Offense,Secondary_Offense,Description,Level_of_Government,Action_Type,Agency,Civil/Criminal,Prosecution_Agreement,Court,Case_ID,Private_Litigation_Case_Title,Lawsuit_Resolution,Facility_State,City,Address,Zip,NAICS_Code,NAICS_Translation,HQ_Country_of_Parent,HQ_State_of_Parent,Ownership_Structure,Parent_Company_Stock_Ticker,Major_Industry_of_Parent,Specific_Industry_of_Parent,Info_Source,Notes',\n",
       " \"Abbott Laboratories,Abbott Laboratories,$5,475,000,$0,$5,475,000,2013,20131227,government-contracting-related offenses,False Claims Act and related,kickbacks and bribery,Abbott Laboratories agreed to $5.475 million to resolve allegations that it violated the False Claims Act by paying kickbacks to induce doctors to implant the company's carotid, biliary and peripheral vascular products.,federal,agency action,Justice Department Civil Division,civil,,,,,,,,,,,,USA,Illinois,publicly traded,ABT,pharmaceuticals,pharmaceuticals,https://www.justice.gov/opa/pr/abbott-laboratories-pays-us-5475-million-settle-claims-company-paid-kickbacks-physicians,\",\n",
       " \"Abbott Laboratories Inc.,AbbVie,$1,500,000,000,$0,$1,500,000,000,2012,20120507,healthcare-related offenses,off-label or unapproved promotion of medical products,,Global Health Care Company Abbott Laboratories Inc. has pleaded guilty and agreed to pay $1.5 billion to resolve its criminal and civil liability arising from the company's unlawful promotion of the prescription drug Depakote for uses not approved as safe and effective by the Food and Drug Administration. The resolution - the second largest payment by a drug company - includes a criminal fine and forfeiture totaling $700 million and civil settlements with the federal government and the states totaling $800 million. Abbott also will be subject to court-supervised probation and reporting obligations for Abbotts CEO and Board of Directors.,federal,agency action,Food and Drug Administration referral to the Justice Department,civil and criminal,,,,,,,,,,,,USA,Illinois,publicly traded,ABBV,pharmaceuticals,pharmaceuticals,http://www.justice.gov/opa/pr/abbott-labs-pay-15-billion-resolve-criminal-civil-investigations-label-promotion-depakote,\"]"
      ]
     },
     "execution_count": 17,
     "metadata": {},
     "output_type": "execute_result"
    }
   ],
   "source": [
    "# Transforming each line in the pharma file ie myrdd5 by double quotes\n",
    "myrdd6 = myrdd5.map(lambda line: line.replace('\"', ''))\n",
    "myrdd6.take(3)"
   ]
  },
  {
   "cell_type": "code",
   "execution_count": 0,
   "metadata": {
    "application/vnd.databricks.v1+cell": {
     "cellMetadata": {
      "byteLimit": 2048000,
      "rowLimit": 10000
     },
     "inputWidgets": {},
     "nuid": "15fc83cf-aaba-4426-b220-fc2da126f0af",
     "showTitle": false,
     "title": ""
    }
   },
   "outputs": [
    {
     "output_type": "execute_result",
     "data": {
      "text/plain": [
       "[['Company',\n",
       "  'Parent_Company',\n",
       "  'Penalty_Amount',\n",
       "  'Subtraction_From_Penalty',\n",
       "  'Penalty_Amount_Adjusted_For_Eliminating_Multiple_Counting',\n",
       "  'Penalty_Year',\n",
       "  'Penalty_Date',\n",
       "  'Offense_Group',\n",
       "  'Primary_Offense',\n",
       "  'Secondary_Offense',\n",
       "  'Description',\n",
       "  'Level_of_Government',\n",
       "  'Action_Type',\n",
       "  'Agency',\n",
       "  'Civil/Criminal',\n",
       "  'Prosecution_Agreement',\n",
       "  'Court',\n",
       "  'Case_ID',\n",
       "  'Private_Litigation_Case_Title',\n",
       "  'Lawsuit_Resolution',\n",
       "  'Facility_State',\n",
       "  'City',\n",
       "  'Address',\n",
       "  'Zip',\n",
       "  'NAICS_Code',\n",
       "  'NAICS_Translation',\n",
       "  'HQ_Country_of_Parent',\n",
       "  'HQ_State_of_Parent',\n",
       "  'Ownership_Structure',\n",
       "  'Parent_Company_Stock_Ticker',\n",
       "  'Major_Industry_of_Parent',\n",
       "  'Specific_Industry_of_Parent',\n",
       "  'Info_Source',\n",
       "  'Notes'],\n",
       " ['Abbott Laboratories',\n",
       "  'Abbott Laboratories',\n",
       "  '$5',\n",
       "  '475',\n",
       "  '000',\n",
       "  '$0',\n",
       "  '$5',\n",
       "  '475',\n",
       "  '000',\n",
       "  '2013',\n",
       "  '20131227',\n",
       "  'government-contracting-related offenses',\n",
       "  'False Claims Act and related',\n",
       "  'kickbacks and bribery',\n",
       "  \"Abbott Laboratories agreed to $5.475 million to resolve allegations that it violated the False Claims Act by paying kickbacks to induce doctors to implant the company's carotid\",\n",
       "  ' biliary and peripheral vascular products.',\n",
       "  'federal',\n",
       "  'agency action',\n",
       "  'Justice Department Civil Division',\n",
       "  'civil',\n",
       "  '',\n",
       "  '',\n",
       "  '',\n",
       "  '',\n",
       "  '',\n",
       "  '',\n",
       "  '',\n",
       "  '',\n",
       "  '',\n",
       "  '',\n",
       "  '',\n",
       "  'USA',\n",
       "  'Illinois',\n",
       "  'publicly traded',\n",
       "  'ABT',\n",
       "  'pharmaceuticals',\n",
       "  'pharmaceuticals',\n",
       "  'https://www.justice.gov/opa/pr/abbott-laboratories-pays-us-5475-million-settle-claims-company-paid-kickbacks-physicians',\n",
       "  '']]"
      ]
     },
     "execution_count": 18,
     "metadata": {},
     "output_type": "execute_result"
    }
   ],
   "source": [
    "# Splitting each line in the pharma file by the tab character (',') to create a list of elements and retrieving the first 9\n",
    "myrdd7 = myrdd6.map(lambda line: line.split(','))\n",
    "myrdd7.take(2)"
   ]
  },
  {
   "cell_type": "code",
   "execution_count": 0,
   "metadata": {
    "application/vnd.databricks.v1+cell": {
     "cellMetadata": {
      "byteLimit": 2048000,
      "rowLimit": 10000
     },
     "inputWidgets": {},
     "nuid": "e0fd970d-4d59-4e18-85bf-251d3db60878",
     "showTitle": false,
     "title": ""
    }
   },
   "outputs": [
    {
     "output_type": "execute_result",
     "data": {
      "text/plain": [
       "['Parent_Company', 'Abbott Laboratories', 'AbbVie']"
      ]
     },
     "execution_count": 19,
     "metadata": {},
     "output_type": "execute_result"
    }
   ],
   "source": [
    "#Extracting the second element(Parent_Company) since its the only column we're interested in\n",
    "myrdd8 = myrdd7.map(lambda x: x[1])\n",
    "myrdd8.take(3)"
   ]
  },
  {
   "cell_type": "markdown",
   "metadata": {
    "application/vnd.databricks.v1+cell": {
     "cellMetadata": {
      "byteLimit": 2048000,
      "rowLimit": 10000
     },
     "inputWidgets": {},
     "nuid": "10265a6b-739c-4516-993f-7e3910021258",
     "showTitle": false,
     "title": ""
    }
   },
   "source": [
    "#1. Number of Distinct studies"
   ]
  },
  {
   "cell_type": "code",
   "execution_count": 0,
   "metadata": {
    "application/vnd.databricks.v1+cell": {
     "cellMetadata": {
      "byteLimit": 2048000,
      "rowLimit": 10000
     },
     "inputWidgets": {},
     "nuid": "cbe457e4-bc6a-4ddf-9601-f55ce1632580",
     "showTitle": false,
     "title": ""
    }
   },
   "outputs": [
    {
     "output_type": "stream",
     "name": "stdout",
     "output_type": "stream",
     "text": [
      "Total number of studies is 483420\nNumber of distinct studies is 481101\n"
     ]
    }
   ],
   "source": [
    "# Assuming header is present in the first element of myrdd3\n",
    "header = myrdd_clean.first()\n",
    "\n",
    "# Filter out the header\n",
    "myrdd_no_header = myrdd_clean.filter(lambda x: x != header)\n",
    "\n",
    "# Apply the operations on myrdd_no_header\n",
    "myrdd_total_count = myrdd_no_header.map(lambda x: x[1])\n",
    "total_count = myrdd_total_count.count()\n",
    "myrdd9 = myrdd_no_header.map(lambda x: x[1]).distinct()\n",
    "distinct_count = myrdd9.count()\n",
    "\n",
    "print('Total number of studies is', total_count)\n",
    "print('Number of distinct studies is', distinct_count)"
   ]
  },
  {
   "cell_type": "code",
   "execution_count": 0,
   "metadata": {
    "application/vnd.databricks.v1+cell": {
     "cellMetadata": {
      "byteLimit": 2048000,
      "rowLimit": 10000
     },
     "inputWidgets": {},
     "nuid": "be4c30e2-e666-4787-b2fe-13f83d0f959e",
     "showTitle": false,
     "title": ""
    }
   },
   "outputs": [
    {
     "output_type": "execute_result",
     "data": {
      "text/plain": [
       "[('Study Title', 1),\n",
       " ('Effectiveness of a Problem-solving Intervention for Common Adolescent Mental Health Problems in India',\n",
       "  1),\n",
       " ('Oral Ketone Monoester Supplementation and Resting-state Brain Connectivity',\n",
       "  1)]"
      ]
     },
     "execution_count": 21,
     "metadata": {},
     "output_type": "execute_result"
    }
   ],
   "source": [
    "# Option 2 to finding the distinct number of studies\n",
    "myrdd10 = myrdd_clean.map(lambda line: (line[1], 1))\n",
    "myrdd10.take(3)"
   ]
  },
  {
   "cell_type": "code",
   "execution_count": 0,
   "metadata": {
    "application/vnd.databricks.v1+cell": {
     "cellMetadata": {
      "byteLimit": 2048000,
      "rowLimit": 10000
     },
     "inputWidgets": {},
     "nuid": "dd6e2a68-39fa-4790-a778-093602a9d715",
     "showTitle": false,
     "title": ""
    }
   },
   "outputs": [
    {
     "output_type": "execute_result",
     "data": {
      "text/plain": [
       "481101"
      ]
     },
     "execution_count": 22,
     "metadata": {},
     "output_type": "execute_result"
    }
   ],
   "source": [
    "header = myrdd10.first()\n",
    "\n",
    "myrdd_no_header = myrdd10.filter(lambda x: x != header)\n",
    "#Removes the header\n",
    "myrdd12 = myrdd_no_header.reduceByKey(lambda a,b:a+b)\n",
    "#Combining values with the same key using addition for each key\n",
    "myrdd12.count()"
   ]
  },
  {
   "cell_type": "markdown",
   "metadata": {
    "application/vnd.databricks.v1+cell": {
     "cellMetadata": {
      "byteLimit": 2048000,
      "rowLimit": 10000
     },
     "inputWidgets": {},
     "nuid": "e15f4777-82f0-4a4e-a7a1-ff76ef28ef65",
     "showTitle": false,
     "title": ""
    }
   },
   "source": [
    "#2.Type of Studies with their frequencies\n"
   ]
  },
  {
   "cell_type": "code",
   "execution_count": 0,
   "metadata": {
    "application/vnd.databricks.v1+cell": {
     "cellMetadata": {
      "byteLimit": 2048000,
      "rowLimit": 10000
     },
     "inputWidgets": {},
     "nuid": "6a95d4e5-4312-4345-9476-01239e449c60",
     "showTitle": false,
     "title": ""
    }
   },
   "outputs": [
    {
     "output_type": "execute_result",
     "data": {
      "text/plain": [
       "['Type', 'INTERVENTIONAL']"
      ]
     },
     "execution_count": 23,
     "metadata": {},
     "output_type": "execute_result"
    }
   ],
   "source": [
    "#Extracting the 11th element(Type), Retrieving the first two values\n",
    "myrdd13 = myrdd_clean.map(lambda x: x[10], 1)\n",
    "myrdd13.take(2)"
   ]
  },
  {
   "cell_type": "code",
   "execution_count": 0,
   "metadata": {
    "application/vnd.databricks.v1+cell": {
     "cellMetadata": {
      "byteLimit": 2048000,
      "rowLimit": 10000
     },
     "inputWidgets": {},
     "nuid": "dc20aee5-4fc6-4fab-8345-ee226f7e04dd",
     "showTitle": false,
     "title": ""
    }
   },
   "outputs": [],
   "source": [
    "#Finding the 'Type' column index in the first row of the clinical trial 2023 file\n",
    "myrdd14 = myrdd_clean.first().index('Type')"
   ]
  },
  {
   "cell_type": "code",
   "execution_count": 0,
   "metadata": {
    "application/vnd.databricks.v1+cell": {
     "cellMetadata": {
      "byteLimit": 2048000,
      "rowLimit": 10000
     },
     "inputWidgets": {},
     "nuid": "9963fbfb-8529-4689-b0cc-d8344b4cb604",
     "showTitle": false,
     "title": ""
    }
   },
   "outputs": [
    {
     "output_type": "execute_result",
     "data": {
      "text/plain": [
       "[('INTERVENTIONAL', 1), ('INTERVENTIONAL', 1), ('INTERVENTIONAL', 1)]"
      ]
     },
     "execution_count": 25,
     "metadata": {},
     "output_type": "execute_result"
    }
   ],
   "source": [
    "#Filtering out rows where the length is greater than the index of 'Type' plus one\n",
    "#Bringing out each row value in the 'Type' column and giving them a frequency of 1\n",
    "#Removing the head of the column 'Type'\n",
    "#Extracting 3 elements with their frequencies of the filtered column  \n",
    "myrdd15 = myrdd_clean.filter(lambda x: len(x) > myrdd14 + 1  ).map(lambda x: (x[myrdd14], 1)).filter(lambda row: row[0] !='Type')\n",
    "myrdd15.take(3)"
   ]
  },
  {
   "cell_type": "code",
   "execution_count": 0,
   "metadata": {
    "application/vnd.databricks.v1+cell": {
     "cellMetadata": {
      "byteLimit": 2048000,
      "rowLimit": 10000
     },
     "inputWidgets": {},
     "nuid": "ce7ec0d9-5315-4e3a-8e05-dddd34e4979f",
     "showTitle": false,
     "title": ""
    }
   },
   "outputs": [
    {
     "output_type": "execute_result",
     "data": {
      "text/plain": [
       "[('INTERVENTIONAL', 371382),\n",
       " ('OBSERVATIONAL', 110221),\n",
       " ('EXPANDED_ACCESS', 928)]"
      ]
     },
     "execution_count": 26,
     "metadata": {},
     "output_type": "execute_result"
    }
   ],
   "source": [
    "#Reducing tuples in myrdd15 by key (the 'Type' values) by summing up the frequencies\n",
    "#Filtering out any tuples where the key is an empty string\n",
    "myrdd16 = myrdd15.reduceByKey(lambda a,b:a+b).filter(lambda x: x[0] != '')\n",
    "myrdd16.take(5)"
   ]
  },
  {
   "cell_type": "code",
   "execution_count": 0,
   "metadata": {
    "application/vnd.databricks.v1+cell": {
     "cellMetadata": {
      "byteLimit": 2048000,
      "rowLimit": 10000
     },
     "inputWidgets": {},
     "nuid": "5fcf8778-535d-4d3f-922a-f47eb2977a49",
     "showTitle": false,
     "title": ""
    }
   },
   "outputs": [
    {
     "output_type": "execute_result",
     "data": {
      "text/plain": [
       "[('INTERVENTIONAL', 371382),\n",
       " ('OBSERVATIONAL', 110221),\n",
       " ('EXPANDED_ACCESS', 928)]"
      ]
     },
     "execution_count": 27,
     "metadata": {},
     "output_type": "execute_result"
    }
   ],
   "source": [
    "#Sorting the tuples in myrdd16 by the count(the second element of each tuple) in descending order\n",
    "myrdd17 = myrdd16.sortBy(lambda x: x[1], ascending=False)\n",
    "myrdd17.collect()"
   ]
  },
  {
   "cell_type": "markdown",
   "metadata": {
    "application/vnd.databricks.v1+cell": {
     "cellMetadata": {
      "byteLimit": 2048000,
      "rowLimit": 10000
     },
     "inputWidgets": {},
     "nuid": "415b9a95-bb1f-4d8d-a66b-d0b58825924f",
     "showTitle": false,
     "title": ""
    }
   },
   "source": [
    "#3.Top 5 conditions with their frequencies"
   ]
  },
  {
   "cell_type": "code",
   "execution_count": 0,
   "metadata": {
    "application/vnd.databricks.v1+cell": {
     "cellMetadata": {
      "byteLimit": 2048000,
      "rowLimit": 10000
     },
     "inputWidgets": {},
     "nuid": "1705affb-6360-4fd2-b63d-a0b799a55d07",
     "showTitle": false,
     "title": ""
    }
   },
   "outputs": [
    {
     "output_type": "execute_result",
     "data": {
      "text/plain": [
       "[('Conditions', 1),\n",
       " ('Mental Health Issue (E.G.\", Depression, Psychosis, Personality Disorder,\" Substance Abuse)',\n",
       "  1),\n",
       " ('Cerebrovascular Function', 1)]"
      ]
     },
     "execution_count": 28,
     "metadata": {},
     "output_type": "execute_result"
    }
   ],
   "source": [
    "#Extracting each elements in the 'Conditions index' to a tuple with a count of 1\n",
    "myrdd18 = myrdd_clean.map(lambda x: (x[4])).flatMap(lambda x: x.split('|')).map(lambda x: (x, 1))\n",
    "# Retrieving the first three elements of the RDD myrdd18 for inspection\n",
    "myrdd18.take(3)"
   ]
  },
  {
   "cell_type": "code",
   "execution_count": 0,
   "metadata": {
    "application/vnd.databricks.v1+cell": {
     "cellMetadata": {
      "byteLimit": 2048000,
      "rowLimit": 10000
     },
     "inputWidgets": {},
     "nuid": "22dc0fa9-8a5c-4013-a9ba-a8b4c229a6c3",
     "showTitle": false,
     "title": ""
    }
   },
   "outputs": [
    {
     "output_type": "execute_result",
     "data": {
      "text/plain": [
       "[('Healthy', 9731),\n",
       " ('Breast Cancer', 7502),\n",
       " ('Obesity', 6549),\n",
       " ('Stroke', 4071),\n",
       " ('Hypertension', 4020)]"
      ]
     },
     "execution_count": 29,
     "metadata": {},
     "output_type": "execute_result"
    }
   ],
   "source": [
    "header = myrdd18.first()\n",
    "#Removing the header, aggregating the count and sorting results in descending order\n",
    "myrdd_no_header2 = myrdd18.filter(lambda x: x != header).reduceByKey(lambda a,b:a+b).sortBy(lambda x: x[1], ascending=False)\n",
    "myrdd_no_header2.take(5)"
   ]
  },
  {
   "cell_type": "markdown",
   "metadata": {
    "application/vnd.databricks.v1+cell": {
     "cellMetadata": {
      "byteLimit": 2048000,
      "rowLimit": 10000
     },
     "inputWidgets": {},
     "nuid": "5fb0db0f-3b71-4de0-8385-9825aac7d247",
     "showTitle": false,
     "title": ""
    }
   },
   "source": [
    "#4. 10 most common sponsors that are not pharmaceutical companies with the number of trials they have sponsored"
   ]
  },
  {
   "cell_type": "code",
   "execution_count": 0,
   "metadata": {
    "application/vnd.databricks.v1+cell": {
     "cellMetadata": {
      "byteLimit": 2048000,
      "rowLimit": 10000
     },
     "inputWidgets": {},
     "nuid": "53827396-9094-4498-8ee6-c8d1b7649340",
     "showTitle": false,
     "title": ""
    }
   },
   "outputs": [
    {
     "output_type": "execute_result",
     "data": {
      "text/plain": [
       "[('National Cancer Institute (NCI)', 3410),\n",
       " ('Assiut University', 3335),\n",
       " ('Cairo University', 3023),\n",
       " ('Assistance Publique - Hôpitaux de Paris', 2951),\n",
       " ('Mayo Clinic', 2766),\n",
       " ('M.D. Anderson Cancer Center', 2702),\n",
       " ('Novartis Pharmaceuticals', 2393),\n",
       " ('National Institute of Allergy and Infectious Diseases (NIAID)', 2340),\n",
       " ('Massachusetts General Hospital', 2263),\n",
       " ('National Taiwan University Hospital', 2181)]"
      ]
     },
     "execution_count": 30,
     "metadata": {},
     "output_type": "execute_result"
    }
   ],
   "source": [
    "#Finding the 'Sponsor' column index in the first row of the clinical trial 2023 file\n",
    "sponsor1 = myrdd_clean.first().index('Sponsor')\n",
    "#Bringing out each row value in the 'Sponsor' column\n",
    "#Removing the head of the column 'Sponsor'\n",
    "#Obtaining elements from sponsor_rdd that are not present in myrdd7\n",
    "#Mapping each element to a tuple with a count of 1, then reducing by key to count occurrences\n",
    "#Sorting results in descending order\n",
    "sponsor_rdd = myrdd_clean.map(lambda x: x[sponsor1]).filter(lambda x: x != 'Sponsor').subtract(myrdd7.map(lambda x: x[1], )).map(lambda x: (x, 1)).reduceByKey(lambda a,b:a+b).sortBy(lambda x: x[1], ascending=False)\n",
    "sponsor_rdd.take(10)"
   ]
  },
  {
   "cell_type": "markdown",
   "metadata": {
    "application/vnd.databricks.v1+cell": {
     "cellMetadata": {
      "byteLimit": 2048000,
      "rowLimit": 10000
     },
     "inputWidgets": {},
     "nuid": "4f799c03-0aa6-495f-8e99-3fbf48fab574",
     "showTitle": false,
     "title": ""
    }
   },
   "source": [
    "#5.Number of completed studies for each month in 2023."
   ]
  },
  {
   "cell_type": "code",
   "execution_count": 0,
   "metadata": {
    "application/vnd.databricks.v1+cell": {
     "cellMetadata": {
      "byteLimit": 2048000,
      "rowLimit": 10000
     },
     "inputWidgets": {},
     "nuid": "0e10c11e-4067-426b-a260-2fb1369364ca",
     "showTitle": false,
     "title": ""
    }
   },
   "outputs": [
    {
     "output_type": "execute_result",
     "data": {
      "text/plain": [
       "[['Id',\n",
       "  'Study Title',\n",
       "  'Acronym',\n",
       "  'Status',\n",
       "  'Conditions',\n",
       "  'Interventions',\n",
       "  'Sponsor',\n",
       "  'Collaborators',\n",
       "  'Enrollment',\n",
       "  'Funder Type',\n",
       "  'Type',\n",
       "  'Study Design',\n",
       "  'Start',\n",
       "  'Completion'],\n",
       " ['NCT03630471',\n",
       "  'Effectiveness of a Problem-solving Intervention for Common Adolescent Mental Health Problems in India',\n",
       "  'PRIDE',\n",
       "  'COMPLETED',\n",
       "  'Mental Health Issue (E.G. Depression Psychosis Personality Disorder Substance Abuse)',\n",
       "  \"BEHAVIORAL: PRIDE 'Step 1' problem-solving intervention|BEHAVIORAL: Enhanced usual care\",\n",
       "  'Sangath',\n",
       "  'Harvard Medical School (HMS and HSDM)|London School of Hygiene and Tropical Medicine',\n",
       "  '250.0',\n",
       "  'OTHER',\n",
       "  'INTERVENTIONAL',\n",
       "  'Allocation: RANDOMIZED|Intervention Model: PARALLEL|Masking: DOUBLE (INVESTIGATOR OUTCOMES_ASSESSOR)|Primary Purpose: TREATMENT',\n",
       "  '2018-08-20',\n",
       "  '2019-02-28']]"
      ]
     },
     "execution_count": 31,
     "metadata": {},
     "output_type": "execute_result"
    }
   ],
   "source": [
    "comp_rdd_cleaned = myrdd3.map(lambda x:[s.replace(',','').replace('\"', '') for s in x])\n",
    "comp_rdd_cleaned.take(2)"
   ]
  },
  {
   "cell_type": "code",
   "execution_count": 0,
   "metadata": {
    "application/vnd.databricks.v1+cell": {
     "cellMetadata": {
      "byteLimit": 2048000,
      "rowLimit": 10000
     },
     "inputWidgets": {},
     "nuid": "8ae80b61-12be-4c3b-80a4-689a72ff7469",
     "showTitle": false,
     "title": ""
    }
   },
   "outputs": [],
   "source": [
    "#Obtaining the index of both columns from clinicaltrial2023\n",
    "q1 = comp_rdd_cleaned.first().index('Completion')\n",
    "q2 = comp_rdd_cleaned.first().index('Status')"
   ]
  },
  {
   "cell_type": "code",
   "execution_count": 0,
   "metadata": {
    "application/vnd.databricks.v1+cell": {
     "cellMetadata": {
      "byteLimit": 2048000,
      "rowLimit": 10000
     },
     "inputWidgets": {},
     "nuid": "ebdf00ea-1847-48b6-abff-1cfe75016c11",
     "showTitle": false,
     "title": ""
    }
   },
   "outputs": [
    {
     "output_type": "execute_result",
     "data": {
      "text/plain": [
       "[('Completion', 'Status'),\n",
       " ('2019-02-28', 'COMPLETED'),\n",
       " ('2024-08-01', 'RECRUITING')]"
      ]
     },
     "execution_count": 33,
     "metadata": {},
     "output_type": "execute_result"
    }
   ],
   "source": [
    "#mapping the RDD containing the formatted date (using format_date function) and the value at index 'Completion' and 'Status'\n",
    "myrdd26 = comp_rdd_cleaned.filter(lambda x: len(x) > myrdd14 + 1  ).map(lambda x: (format_date (x[q1]), x[q2]))\n",
    "myrdd26.take(3)"
   ]
  },
  {
   "cell_type": "code",
   "execution_count": 0,
   "metadata": {
    "application/vnd.databricks.v1+cell": {
     "cellMetadata": {
      "byteLimit": 2048000,
      "rowLimit": 10000
     },
     "inputWidgets": {},
     "nuid": "50f1b66b-f3d3-4e83-aefd-780bfae25597",
     "showTitle": false,
     "title": ""
    }
   },
   "outputs": [
    {
     "output_type": "execute_result",
     "data": {
      "text/plain": [
       "[('2019-02-28', 'COMPLETED'),\n",
       " ('2016-05-01', 'COMPLETED'),\n",
       " ('2012-08-01', 'COMPLETED'),\n",
       " ('2016-06-07', 'COMPLETED')]"
      ]
     },
     "execution_count": 34,
     "metadata": {},
     "output_type": "execute_result"
    }
   ],
   "source": [
    "#Filtering out the date which each study has been completed\n",
    "myrdd27 = myrdd26.filter(lambda x: x[0] != 'Completion').filter(lambda x: x[1] == 'COMPLETED') or filter(lambda x: x[1] == 'Completed')\n",
    "myrdd27.take(4)"
   ]
  },
  {
   "cell_type": "code",
   "execution_count": 0,
   "metadata": {
    "application/vnd.databricks.v1+cell": {
     "cellMetadata": {
      "byteLimit": 2048000,
      "rowLimit": 10000
     },
     "inputWidgets": {},
     "nuid": "b8985af7-6510-40d8-9e0e-3d8d70eb75d9",
     "showTitle": false,
     "title": ""
    }
   },
   "outputs": [
    {
     "output_type": "execute_result",
     "data": {
      "text/plain": [
       "[('02', '2019'), ('05', '2016'), ('08', '2012')]"
      ]
     },
     "execution_count": 35,
     "metadata": {},
     "output_type": "execute_result"
    }
   ],
   "source": [
    "#Mapping out the month and year from the date\n",
    "myrdd28 = myrdd27.map(lambda x: (x[0][5:7], x[0][0:4]))\n",
    "myrdd28.take(3)"
   ]
  },
  {
   "cell_type": "code",
   "execution_count": 0,
   "metadata": {
    "application/vnd.databricks.v1+cell": {
     "cellMetadata": {
      "byteLimit": 2048000,
      "rowLimit": 10000
     },
     "inputWidgets": {},
     "nuid": "766d69bf-d4bc-423c-b3d9-970689c82016",
     "showTitle": false,
     "title": ""
    }
   },
   "outputs": [
    {
     "output_type": "execute_result",
     "data": {
      "text/plain": [
       "[('06', 1619), ('01', 1494), ('08', 1230), ('12', 1082)]"
      ]
     },
     "execution_count": 36,
     "metadata": {},
     "output_type": "execute_result"
    }
   ],
   "source": [
    "#Filtering out the months for which 2023 is the completed year\n",
    "#Counting the number of completed studies in 2023 by mapping each element to a tuple with a count of 1\n",
    "#Reducing by key to sum up the counts for each study\n",
    "comp_stud_2023 = myrdd28.filter(lambda x: x[1] == '2023').map(lambda x: (x[0], 1)).reduceByKey(lambda a,b:a+b)\n",
    "comp_stud_2023.take(4)"
   ]
  },
  {
   "cell_type": "code",
   "execution_count": 0,
   "metadata": {
    "application/vnd.databricks.v1+cell": {
     "cellMetadata": {
      "byteLimit": 2048000,
      "rowLimit": 10000
     },
     "inputWidgets": {},
     "nuid": "b264e610-615a-4024-a84d-03df81b4a667",
     "showTitle": false,
     "title": ""
    }
   },
   "outputs": [],
   "source": [
    "#Dictionary mapping numerical representations of months to their corresponding names in words\n",
    "Months_in_words = {'01':'Jan', '02':'Feb', '03':'Mar', '04':'Apr', '05':'May', '06':'Jun', '07':'Jul', '08':'Aug', '09':'Sep', '10':'Oct', '11':'Nov', '12':'Dec'}"
   ]
  },
  {
   "cell_type": "code",
   "execution_count": 0,
   "metadata": {
    "application/vnd.databricks.v1+cell": {
     "cellMetadata": {
      "byteLimit": 2048000,
      "rowLimit": 10000
     },
     "inputWidgets": {},
     "nuid": "88c76fa7-cf1d-4905-a4c2-e042ff0b2684",
     "showTitle": false,
     "title": ""
    }
   },
   "outputs": [
    {
     "output_type": "execute_result",
     "data": {
      "text/plain": [
       "[('Jun', 1619),\n",
       " ('Jan', 1494),\n",
       " ('Aug', 1230),\n",
       " ('Dec', 1082),\n",
       " ('Oct', 1058),\n",
       " ('Mar', 1552),\n",
       " ('Feb', 1272),\n",
       " ('May', 1415),\n",
       " ('Apr', 1324),\n",
       " ('Jul', 1360),\n",
       " ('Nov', 909),\n",
       " ('Sep', 1152)]"
      ]
     },
     "execution_count": 38,
     "metadata": {},
     "output_type": "execute_result"
    }
   ],
   "source": [
    "#Modified answer with Month in words instead of numbers\n",
    "rev_comp_stud_2023 = comp_stud_2023.map(lambda x: (Months_in_words [x[0]], x[1]))\n",
    "rev_comp_stud_2023.take(12)"
   ]
  },
  {
   "cell_type": "code",
   "execution_count": 0,
   "metadata": {
    "application/vnd.databricks.v1+cell": {
     "cellMetadata": {
      "byteLimit": 2048000,
      "rowLimit": 10000
     },
     "inputWidgets": {},
     "nuid": "abacd65c-a73e-4602-9c2c-112cbd204f58",
     "showTitle": false,
     "title": ""
    }
   },
   "outputs": [],
   "source": [
    "import matplotlib.pyplot as plt\n",
    "#Taking the elements of comp_stud_2023\n",
    "comp_stud_2023_vis = comp_stud_2023.collect()\n",
    "#Extracting months and counts\n",
    "months = [month for month, _ in comp_stud_2023_vis]\n",
    "counts = [count for _, count in comp_stud_2023_vis]"
   ]
  },
  {
   "cell_type": "code",
   "execution_count": 0,
   "metadata": {
    "application/vnd.databricks.v1+cell": {
     "cellMetadata": {
      "byteLimit": 2048000,
      "rowLimit": 10000
     },
     "inputWidgets": {},
     "nuid": "dcaf6916-8afc-4738-bc0a-415ea1ba7472",
     "showTitle": false,
     "title": ""
    }
   },
   "outputs": [
    {
     "output_type": "display_data",
     "data": {
      "image/png": "[encoded data removed]",
      "text/plain": [
       "<Figure size 800x500 with 1 Axes>"
      ]
     },
     "metadata": {},
     "output_type": "display_data"
    }
   ],
   "source": [
    "plt.figure(figsize=(8, 5))\n",
    "plt.bar(months, counts, color='green')\n",
    "plt.xlabel('Month')\n",
    "plt.ylabel('Number of completed studies')\n",
    "plt.title('Completed studies in 2023')\n",
    "plt.show()"
   ]
  },
  {
   "cell_type": "markdown",
   "metadata": {
    "application/vnd.databricks.v1+cell": {
     "cellMetadata": {
      "byteLimit": 2048000,
      "rowLimit": 10000
     },
     "inputWidgets": {},
     "nuid": "4a8b0eca-4f5d-416c-8c19-9f3a2aad05f0",
     "showTitle": false,
     "title": ""
    }
   },
   "source": [
    "#Extra analysis; Number of enrollment by type for 2023"
   ]
  },
  {
   "cell_type": "code",
   "execution_count": 0,
   "metadata": {
    "application/vnd.databricks.v1+cell": {
     "cellMetadata": {
      "byteLimit": 2048000,
      "rowLimit": 10000
     },
     "inputWidgets": {},
     "nuid": "8dc3b344-39e7-4d07-b1b1-7aae127a5228",
     "showTitle": false,
     "title": ""
    }
   },
   "outputs": [
    {
     "output_type": "execute_result",
     "data": {
      "text/plain": [
       "[('Start', 'Type', 'Enrollment'),\n",
       " ('2018-08-20', 'INTERVENTIONAL', '250.0'),\n",
       " ('2023-10-25', 'INTERVENTIONAL', '30.0')]"
      ]
     },
     "execution_count": 41,
     "metadata": {},
     "output_type": "execute_result"
    }
   ],
   "source": [
    "# Extract enrollment numbers, type of enrollment and start dates\n",
    "enrollment_dates = myrdd_clean.map(lambda x: (x[12], (x[10]),(x[8])))\n",
    "\n",
    "enrollment_dates.take(3)"
   ]
  },
  {
   "cell_type": "code",
   "execution_count": 0,
   "metadata": {
    "application/vnd.databricks.v1+cell": {
     "cellMetadata": {
      "byteLimit": 2048000,
      "rowLimit": 10000
     },
     "inputWidgets": {},
     "nuid": "d5602e38-3b0f-4997-9af7-033e5e3a7f08",
     "showTitle": false,
     "title": ""
    }
   },
   "outputs": [
    {
     "output_type": "execute_result",
     "data": {
      "text/plain": [
       "[('2023', 'INTERVENTIONAL', '30.0'),\n",
       " ('2023', 'INTERVENTIONAL', '108.0'),\n",
       " ('2023', 'INTERVENTIONAL', '76.0')]"
      ]
     },
     "execution_count": 42,
     "metadata": {},
     "output_type": "execute_result"
    }
   ],
   "source": [
    "# Convert start dates to year format\n",
    "enrollment_by_month = enrollment_dates.map(lambda x:(x[0][0:4], x[1], x[2])).filter(lambda x:x[0] == '2023')\n",
    "enrollment_by_month.take(3)"
   ]
  },
  {
   "cell_type": "code",
   "execution_count": 0,
   "metadata": {
    "application/vnd.databricks.v1+cell": {
     "cellMetadata": {
      "byteLimit": 2048000,
      "rowLimit": 10000
     },
     "inputWidgets": {},
     "nuid": "ea41fc6d-ae3d-4d2c-9969-7b0cfefa2ec4",
     "showTitle": false,
     "title": ""
    }
   },
   "outputs": [
    {
     "output_type": "execute_result",
     "data": {
      "text/plain": [
       "[('INTERVENTIONAL', 24548076.0), ('OBSERVATIONAL', 108117288.0)]"
      ]
     },
     "execution_count": 43,
     "metadata": {},
     "output_type": "execute_result"
    }
   ],
   "source": [
    "# Map each entry to a tuple containing the study type and enrollment number\n",
    "enrollment_by_type = enrollment_by_month.map(lambda x: (x[1], float(x[2])))\n",
    "\n",
    "# Reduce by key to aggregate the enrollment numbers for each study type\n",
    "enrollment_by_type = enrollment_by_type.reduceByKey(lambda a, b: a + b).sortByKey()\n",
    "\n",
    "# Collect the results\n",
    "enrollment_by_type.collect()"
   ]
  }
 ],
 "metadata": {
  "application/vnd.databricks.v1+notebook": {
   "dashboards": [],
   "language": "python",
   "notebookMetadata": {
    "mostRecentlyExecutedCommandWithImplicitDF": {
     "commandId": 3128314919465904,
     "dataframes": [
      "_sqldf"
     ]
    },
    "pythonIndentUnit": 4
   },
   "notebookName": "Uchendu_Okechukwu_rdd",
   "widgets": {}
  }
 },
 "nbformat": 4,
 "nbformat_minor": 0
}
